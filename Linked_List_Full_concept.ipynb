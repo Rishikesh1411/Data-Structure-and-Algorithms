{
  "nbformat": 4,
  "nbformat_minor": 0,
  "metadata": {
    "colab": {
      "provenance": [],
      "authorship_tag": "ABX9TyO3CnfnkgN+poaBphOgdAV7",
      "include_colab_link": true
    },
    "kernelspec": {
      "name": "python3",
      "display_name": "Python 3"
    },
    "language_info": {
      "name": "python"
    }
  },
  "cells": [
    {
      "cell_type": "markdown",
      "metadata": {
        "id": "view-in-github",
        "colab_type": "text"
      },
      "source": [
        "<a href=\"https://colab.research.google.com/github/Rishikesh1411/Data-Structure-and-Algorithms/blob/main/Linked_List_Full_concept.ipynb\" target=\"_parent\"><img src=\"https://colab.research.google.com/assets/colab-badge.svg\" alt=\"Open In Colab\"/></a>"
      ]
    },
    {
      "cell_type": "code",
      "execution_count": null,
      "metadata": {
        "colab": {
          "base_uri": "https://localhost:8080/"
        },
        "id": "zG8LYmRfLn-9",
        "outputId": "128144d5-7011-4681-ccf9-b39fd17138c7"
      },
      "outputs": [
        {
          "output_type": "stream",
          "name": "stdout",
          "text": [
            "5\n",
            "3\n",
            "7\n"
          ]
        }
      ],
      "source": [
        "class Node:\n",
        "  def __init__(self,data):\n",
        "    self.data=data  #### data will store in this pointer\n",
        "    self.next=None  ### next will point to the adress of next node\n",
        "\n",
        "## null(None) Node\n",
        "a = Node(5)\n",
        "b = Node(3)\n",
        "c = Node(7)\n",
        "\n",
        "a.next = b\n",
        "b.next = c\n",
        "\n",
        "print(a.data)\n",
        "print(a.next.data)\n",
        "print(a.next.next.data)\n",
        "\n"
      ]
    },
    {
      "cell_type": "code",
      "execution_count": null,
      "metadata": {
        "id": "u8Q4mkV-GTPS",
        "colab": {
          "base_uri": "https://localhost:8080/"
        },
        "outputId": "cf07d580-3ae1-415d-eb03-f4f24b8b163a"
      },
      "outputs": [
        {
          "output_type": "stream",
          "name": "stdout",
          "text": [
            "10->20->40->30->50->"
          ]
        }
      ],
      "source": [
        "#link list\n",
        "class Node:\n",
        "  def __init__(self,data):\n",
        "    self.data=data   ##it will be used for storage of data\n",
        "    self.next=None   ##will be used for storage of next data adress\n",
        "##create list or objects\n",
        "\n",
        "node1=Node(10)\n",
        "node2=Node(20)\n",
        "node3=Node(30)\n",
        "node4=Node(40)\n",
        "node5=Node(50)\n",
        "\n",
        "##creation of connection or link\n",
        "node1.next=node2\n",
        "node2.next=node4\n",
        "node4.next=node3\n",
        "node3.next=node5\n",
        "\n",
        "###how to print the list\n",
        "startnode=node1\n",
        "while startnode!=None:\n",
        "#while startnode:\n",
        "  print(startnode.data,end=\"->\")\n",
        "  startnode=startnode.next"
      ]
    },
    {
      "cell_type": "code",
      "execution_count": null,
      "metadata": {
        "id": "l_XVLSoAGypT",
        "colab": {
          "base_uri": "https://localhost:8080/"
        },
        "outputId": "42a5b522-7440-4419-d69e-8aaa0c6094f0"
      },
      "outputs": [
        {
          "output_type": "stream",
          "name": "stdout",
          "text": [
            "null\n",
            "10->20->40->30->50->30->50->"
          ]
        }
      ],
      "source": [
        "#link list\n",
        "class Node:\n",
        "  def __init__(self,data):\n",
        "    self.data=data   ##it will be used for storage of data\n",
        "    self.next=None   ##will be used for storage of next data adress\n",
        "## traverse and printing of link list from given head node\n",
        "def traverseandprint(head):\n",
        "  startnode=head\n",
        "  while startnode!=None:\n",
        "#while startnode:\n",
        "    print(startnode.data,end=\"->\")\n",
        "    startnode=startnode.next\n",
        "print(\"null\")\n",
        "\n",
        "##create list or objects\n",
        "\n",
        "node1=Node(10)\n",
        "node2=Node(20)\n",
        "node3=Node(30)\n",
        "node4=Node(40)\n",
        "node5=Node(50)\n",
        "\n",
        "##creation of connection or link\n",
        "node1.next=node2\n",
        "node2.next=node4\n",
        "node4.next=node3\n",
        "node3.next=node5\n",
        "####exicuting function---\n",
        "traverseandprint(node1)\n",
        "traverseandprint(node3)"
      ]
    },
    {
      "cell_type": "code",
      "source": [
        "class Node:\n",
        "  def __init__(self,data):\n",
        "    self.data=data  #### data will store in this pointer\n",
        "    self.next=None  ### next will point to the adress of next node\n",
        "\n",
        "## null(None) Node\n",
        "a = Node(5)\n",
        "b = Node(3)\n",
        "c = Node(7)\n",
        "\n",
        "a.next = b\n",
        "b.next = c\n",
        "\n",
        "head = a\n",
        "while head!=None:\n",
        "  print(head.data,end=\"->\")\n",
        "  head=head.next\n"
      ],
      "metadata": {
        "colab": {
          "base_uri": "https://localhost:8080/"
        },
        "id": "NLVwR-doSukc",
        "outputId": "2dd411b6-e3ec-4dca-f67c-421949bc789d"
      },
      "execution_count": null,
      "outputs": [
        {
          "output_type": "stream",
          "name": "stdout",
          "text": [
            "5->3->7->"
          ]
        }
      ]
    },
    {
      "cell_type": "code",
      "source": [
        "class Node:\n",
        "  def __init__(self,data):\n",
        "    self.data=data  #### data will store in this pointer\n",
        "    self.next=None  ### next will point to the adress of next node\n",
        "\n",
        "## null(None) Node\n",
        "a = Node(5)\n",
        "b = Node(3)\n",
        "c = Node(7)\n",
        "\n",
        "a.next = b\n",
        "b.next = c\n",
        "\n",
        "def LinkedList(head):\n",
        "  startnode=head\n",
        "  while startnode!=None:\n",
        "    print(startnode.data,sep=\"->\")\n",
        "    startnode=startnode.next\n",
        "\n",
        "print(LinkedList(a))"
      ],
      "metadata": {
        "colab": {
          "base_uri": "https://localhost:8080/"
        },
        "id": "gVfexhMYTYC8",
        "outputId": "8ada4bc7-0bbc-4abd-9a01-6285ccc96cc3"
      },
      "execution_count": null,
      "outputs": [
        {
          "output_type": "stream",
          "name": "stdout",
          "text": [
            "5\n",
            "3\n",
            "7\n",
            "None\n"
          ]
        }
      ]
    },
    {
      "cell_type": "code",
      "source": [
        "## Traverse linked list\n",
        "head = a\n",
        "curr = head\n",
        "while curr!=None:\n",
        "  print(curr.data,end=\"-&\")\n",
        "  curr = curr.next"
      ],
      "metadata": {
        "colab": {
          "base_uri": "https://localhost:8080/"
        },
        "id": "ml_IztCYT2el",
        "outputId": "34b6e29f-94be-4100-f19b-1cdd35ae4b3a"
      },
      "execution_count": null,
      "outputs": [
        {
          "output_type": "stream",
          "name": "stdout",
          "text": [
            "5-&3-&7-&"
          ]
        }
      ]
    },
    {
      "cell_type": "code",
      "source": [
        "## Insertion at the beggining of linked list-----\n",
        "def LinkedList(head):\n",
        "  startnode=head\n",
        "  while startnode!=None:\n",
        "    print(startnode.data,sep=\"->\")\n",
        "    startnode=startnode.next\n",
        "\n",
        "newnode = Node(4)\n",
        "newnode.next = head\n",
        "head = newnode\n",
        "print(head.data)\n",
        "\n",
        "print(LinkedList(head))"
      ],
      "metadata": {
        "colab": {
          "base_uri": "https://localhost:8080/"
        },
        "id": "JRYY0sRyVdQN",
        "outputId": "d0b47456-4d16-499f-c9fe-b7df1a44102b"
      },
      "execution_count": null,
      "outputs": [
        {
          "output_type": "stream",
          "name": "stdout",
          "text": [
            "4\n",
            "4\n",
            "5\n",
            "3\n",
            "7\n",
            "None\n"
          ]
        }
      ]
    },
    {
      "cell_type": "code",
      "source": [
        "### Insertion at the end\n",
        "newNode = Node(1)\n",
        "curr = head\n",
        "while curr.next!=None:  ## curr willl last nod eof list\n",
        "  curr = curr.next\n",
        "curr.next=newNode\n",
        "\n",
        "print(LinkedList(head))\n"
      ],
      "metadata": {
        "colab": {
          "base_uri": "https://localhost:8080/"
        },
        "id": "b_h6xYOBWhYt",
        "outputId": "66ede2b4-f640-4650-d9aa-08dd1d42d598"
      },
      "execution_count": null,
      "outputs": [
        {
          "output_type": "stream",
          "name": "stdout",
          "text": [
            "4\n",
            "5\n",
            "3\n",
            "7\n",
            "1\n",
            "None\n"
          ]
        }
      ]
    },
    {
      "cell_type": "code",
      "source": [
        "## Insertion at the k(th) index:\n",
        "k  = 2\n",
        "newNode = Node(6)\n",
        "curr = head\n",
        "for i in range(k-1):\n",
        "  curr = curr.next\n",
        "newNode.next = curr.next\n",
        "curr.next = newNode\n",
        "\n",
        "print(LinkedList(head))\n"
      ],
      "metadata": {
        "colab": {
          "base_uri": "https://localhost:8080/"
        },
        "id": "j_zdxiAUYFPT",
        "outputId": "8d1a4b3f-af81-4ea5-cc64-5a0fcab8c891"
      },
      "execution_count": null,
      "outputs": [
        {
          "output_type": "stream",
          "name": "stdout",
          "text": [
            "4\n",
            "5\n",
            "6\n",
            "3\n",
            "7\n",
            "1\n",
            "None\n"
          ]
        }
      ]
    },
    {
      "cell_type": "code",
      "source": [
        "## Delete at the first Node\n",
        "head = head.next\n",
        "print(LinkedList(head))"
      ],
      "metadata": {
        "colab": {
          "base_uri": "https://localhost:8080/"
        },
        "id": "DrOIef8NbUwc",
        "outputId": "a0751d6d-f17e-4fd0-ad6e-f0b1b8c4b48e"
      },
      "execution_count": null,
      "outputs": [
        {
          "output_type": "stream",
          "name": "stdout",
          "text": [
            "5\n",
            "6\n",
            "3\n",
            "7\n",
            "1\n",
            "None\n"
          ]
        }
      ]
    },
    {
      "cell_type": "code",
      "source": [
        "## Delete at the last  Node-----\n",
        "curr = head\n",
        "while curr.next.next!=None:  ## curr willl last node of list\n",
        "      curr = curr.next\n",
        "\n",
        "curr.next = None\n",
        "print(LinkedList(head))"
      ],
      "metadata": {
        "colab": {
          "base_uri": "https://localhost:8080/"
        },
        "id": "qoBsEyOTdNzy",
        "outputId": "34cf7ce7-e036-4635-8472-039fad3c4917"
      },
      "execution_count": null,
      "outputs": [
        {
          "output_type": "stream",
          "name": "stdout",
          "text": [
            "5\n",
            "6\n",
            "3\n",
            "7\n",
            "None\n"
          ]
        }
      ]
    },
    {
      "cell_type": "code",
      "source": [
        "## Delete at k(th) index   Node-----\n",
        "k = 2\n",
        "\n",
        "curr = head\n",
        "for i in range(k-1):\n",
        "  curr = curr.next\n",
        "\n",
        "curr.next = curr.next.next\n",
        "print(LinkedList(head))\n"
      ],
      "metadata": {
        "colab": {
          "base_uri": "https://localhost:8080/"
        },
        "id": "Rops8ZaZeKhL",
        "outputId": "66030968-f3ce-4438-ac97-1e8b81c3f062"
      },
      "execution_count": null,
      "outputs": [
        {
          "output_type": "stream",
          "name": "stdout",
          "text": [
            "5\n",
            "6\n",
            "7\n",
            "None\n"
          ]
        }
      ]
    },
    {
      "cell_type": "markdown",
      "source": [
        "# Singly Link List"
      ],
      "metadata": {
        "id": "qRVND0qqgJnH"
      }
    },
    {
      "cell_type": "code",
      "source": [
        "# Node class to represent each element in the linked list\n",
        "class Node:\n",
        "    def __init__(self, data=None, next=None):\n",
        "        self.data = data      # Stores the data\n",
        "        self.next = next      # Pointer to the next node\n",
        "\n",
        "# Singly Linked List class\n",
        "class SLL:\n",
        "    def __init__(self, start=None):\n",
        "        self.start = start    # Points to the first node of the list\n",
        "\n",
        "    def is_empty(self):\n",
        "        return self.start == None  # Returns True if list is empty\n",
        "\n",
        "    def insert_at_start(self, data):\n",
        "        n = Node(data)             # Create new node\n",
        "        n.next = self.start        # Point new node to current start\n",
        "        self.start = n             # Make new node the new start\n",
        "        # Time: O(1), Space: O(1)\n",
        "\n",
        "    def insert_at_last(self, data):\n",
        "        newnode = Node(data)       # Create new node\n",
        "        if not self.is_empty():\n",
        "            temp = self.start\n",
        "            while temp.next is not None:\n",
        "                temp = temp.next   # Traverse to last node\n",
        "            temp.next = newnode    # Append new node\n",
        "        else:\n",
        "            self.start = newnode   # If empty, new node becomes start\n",
        "        # Time: O(n), Space: O(1)\n",
        "\n",
        "    def search(self, value):\n",
        "        temp = self.start\n",
        "        while temp is not None:\n",
        "            if temp.data == value:\n",
        "                return temp        # Return node if found\n",
        "            temp = temp.next\n",
        "        return None                # Return None if not found\n",
        "        # Time: O(n), Space: O(1)\n",
        "\n",
        "    def insert_after(self, data, temp):\n",
        "        # temp = self.search(20)\n",
        "        if temp is not None:\n",
        "            n = Node(data, temp.next)  # Create new node pointing to temp's next\n",
        "            temp.next = n              # Insert after temp\n",
        "        # Time: O(1), Space: O(1)\n",
        "\n",
        "    def print_list(self):\n",
        "        temp = self.start\n",
        "        while temp is not None:\n",
        "            print(temp.data, end='->')  # Print each node\n",
        "            temp = temp.next\n",
        "        print(\"None\")                  # Terminate print\n",
        "        # Time: O(n), Space: O(1)\n",
        "\n",
        "    def del_first(self):\n",
        "        if self.start is not None:\n",
        "            self.start = self.start.next  # Move start to next node\n",
        "        # Time: O(1), Space: O(1)\n",
        "\n",
        "    def del_last(self):\n",
        "        if self.start is None:\n",
        "            return                     # Empty list, do nothing\n",
        "        elif self.start.next is None:\n",
        "            self.start = None          # Only one node\n",
        "        else:\n",
        "            temp = self.start\n",
        "            while temp.next.next is not None:\n",
        "                temp = temp.next       # Go till second last node\n",
        "            temp.next = None           # Remove last node\n",
        "        # Time: O(n), Space: O(1)\n",
        "\n",
        "    def del_data(self, data):\n",
        "        if self.start is None:\n",
        "            return                     # Empty list\n",
        "        elif self.start.next is None:\n",
        "            if self.start.data == data:\n",
        "                self.start = None      # Only one node to delete\n",
        "        else:\n",
        "            temp = self.start\n",
        "            if temp.data == data:\n",
        "                self.start = temp.next # Delete first node\n",
        "            else:\n",
        "                while temp.next is not None:\n",
        "                    if temp.next.data == data:\n",
        "                        temp.next = temp.next.next  # Delete matched node\n",
        "                        break\n",
        "                    temp = temp.next\n",
        "        # Time: O(n), Space: O(1)\n",
        "\n",
        "# ------------------ Example Walkthrough ------------------\n",
        "\n",
        "mylist = SLL()                        # Create empty list\n",
        "\n",
        "mylist.insert_at_start(30)           # List: 30->None\n",
        "# Adds 30 to the beginning\n",
        "\n",
        "mylist.insert_at_start(20)           # List: 20->30->None\n",
        "# Adds 20 in front of 30\n",
        "\n",
        "mylist.insert_at_last(40)            # List: 20->30->40->None\n",
        "# Traverses to last and appends 40\n",
        "\n",
        "mylist.insert_after(25, mylist.search(20))  # List: 20->25->30->40->None\n",
        "# Searches 20 and inserts 25 after it\n",
        "\n",
        "mylist.print_list()                  # Output: 20->25->30->40->None\n",
        "# Prints the current list\n",
        "\n",
        "mylist.del_data(30)                  # List after deletion: 20->25->40->None\n",
        "# Deletes the node with value 30\n",
        "\n",
        "mylist.print_list()                  # Output: 20->25->40->None\n"
      ],
      "metadata": {
        "colab": {
          "base_uri": "https://localhost:8080/"
        },
        "id": "ztflavYygIfU",
        "outputId": "e49e2f4e-26c3-49d0-94f8-a2bf323f4ec6"
      },
      "execution_count": null,
      "outputs": [
        {
          "output_type": "stream",
          "name": "stdout",
          "text": [
            "20->25->30->40->None\n",
            "20->25->40->None\n"
          ]
        }
      ]
    },
    {
      "cell_type": "code",
      "source": [
        "class Node:\n",
        "    def __init__(self, data=None, next=None):\n",
        "        self.data = data\n",
        "        self.next = next\n",
        "\n",
        "class SLL:\n",
        "    def __init__(self):\n",
        "        self.start = None\n",
        "\n",
        "    def insert_at_start(self, data):\n",
        "        self.start = Node(data, self.start)\n",
        "        # Time: O(1), Space: O(1)\n",
        "\n",
        "    def insert_at_last(self, data):\n",
        "        new_node = Node(data)\n",
        "        if self.start is None:\n",
        "            self.start = new_node\n",
        "            return\n",
        "        temp = self.start\n",
        "        while temp.next:\n",
        "            temp = temp.next\n",
        "        temp.next = new_node\n",
        "        # Time: O(n), Space: O(1)\n",
        "\n",
        "    def search(self, value):\n",
        "        temp = self.start\n",
        "        while temp:\n",
        "            if temp.data == value:\n",
        "                return temp\n",
        "            temp = temp.next\n",
        "        return None\n",
        "        # Time: O(n), Space: O(1)\n",
        "\n",
        "    def insert_after(self, data, temp_node):\n",
        "        if temp_node:\n",
        "            temp_node.next = Node(data, temp_node.next)\n",
        "        # Time: O(1), Space: O(1)\n",
        "\n",
        "    def print_list(self):\n",
        "        temp = self.start\n",
        "        while temp:\n",
        "            print(temp.data, end='->')\n",
        "            temp = temp.next\n",
        "        print(\"None\")\n",
        "        # Time: O(n), Space: O(1)\n",
        "\n",
        "    def del_first(self):\n",
        "        if self.start:\n",
        "            self.start = self.start.next\n",
        "        # Time: O(1), Space: O(1)\n",
        "\n",
        "    def del_last(self):\n",
        "        if self.start is None or self.start.next is None:\n",
        "            self.start = None\n",
        "            return\n",
        "        temp = self.start\n",
        "        while temp.next.next:\n",
        "            temp = temp.next\n",
        "        temp.next = None\n",
        "        # Time: O(n), Space: O(1)\n",
        "\n",
        "    def del_data(self, data):\n",
        "        if self.start is None:\n",
        "            return\n",
        "        if self.start.data == data:\n",
        "            self.start = self.start.next\n",
        "            return\n",
        "        temp = self.start\n",
        "        while temp.next:\n",
        "            if temp.next.data == data:\n",
        "                temp.next = temp.next.next\n",
        "                return\n",
        "            temp = temp.next\n",
        "        # Time: O(n), Space: O(1)\n",
        "\n",
        "mylist = SLL()\n",
        "mylist.insert_at_start(30)          # List: 30->None\n",
        "mylist.insert_at_start(20)          # List: 20->30->None\n",
        "mylist.insert_at_last(40)           # List: 20->30->40->None\n",
        "mylist.insert_after(25, mylist.search(20))  # List: 20->25->30->40->None\n",
        "mylist.print_list()                 # Output: 20->25->30->40->None\n",
        "mylist.del_data(30)                 # List after deletion: 20->25->40->None\n",
        "mylist.print_list()                 # Output: 20->25->40->None\n",
        "\n"
      ],
      "metadata": {
        "colab": {
          "base_uri": "https://localhost:8080/"
        },
        "id": "O0Ok3Cmye_Sx",
        "outputId": "290fba0e-a4ab-4095-ff8c-42a3dfead907"
      },
      "execution_count": null,
      "outputs": [
        {
          "output_type": "stream",
          "name": "stdout",
          "text": [
            "20->25->30->40->None\n",
            "20->25->40->None\n"
          ]
        }
      ]
    },
    {
      "cell_type": "markdown",
      "source": [
        "# Doubly Linked List"
      ],
      "metadata": {
        "id": "KUINebdMkQht"
      }
    },
    {
      "cell_type": "code",
      "source": [
        "# 1. Define a class Node to represent each element of the doubly linked list\n",
        "class Node:\n",
        "    def __init__(self, data=None, prev=None, next=None):\n",
        "        self.data = data      # Stores the node's value\n",
        "        self.prev = prev      # Points to the previous node\n",
        "        self.next = next      # Points to the next node\n",
        "\n",
        "# 2. Define a DLL class to manage operations on the linked list\n",
        "class DLL:\n",
        "    def __init__(self):\n",
        "        self.start = None     # Initially, the list is empty (no start node)\n",
        "\n",
        "    # 3. Check if the list is empty\n",
        "    def is_empty(self):\n",
        "        return self.start is None\n",
        "        # Time: O(1), Space: O(1)\n",
        "\n",
        "    # 4. Insert a node at the start of the list\n",
        "    def insert_at_start(self, data):\n",
        "        new_node = Node(data, None, self.start)  # Create a new node pointing to old start\n",
        "        if self.start is not None:\n",
        "            self.start.prev = new_node           # Update old start's prev to new node\n",
        "        self.start = new_node                    # Update start to new node\n",
        "        # Time: O(1), Space: O(1)\n",
        "\n",
        "    # 5. Insert a node at the end of the list\n",
        "    def insert_at_last(self, data):\n",
        "        new_node = Node(data)\n",
        "        if self.is_empty():\n",
        "            self.start = new_node                # If list is empty, new node becomes start\n",
        "            return\n",
        "        temp = self.start\n",
        "        while temp.next:\n",
        "            temp = temp.next                     # Traverse to last node\n",
        "        temp.next = new_node                     # Link last node to new node\n",
        "        new_node.prev = temp                     # Link new node back to previous last node\n",
        "        # Time: O(n), Space: O(1)\n",
        "\n",
        "    # 6. Search for a node with specific data\n",
        "    def search(self, data):\n",
        "        temp = self.start\n",
        "        while temp:\n",
        "            if temp.data == data:\n",
        "                return temp                      # Return node if data matches\n",
        "            temp = temp.next\n",
        "        return None\n",
        "        # Time: O(n), Space: O(1)\n",
        "\n",
        "    # 7. Insert a node after a given node\n",
        "    def insert_after(self, node, data):\n",
        "        if node is None:\n",
        "            return\n",
        "        new_node = Node(data, node, node.next)   # Link new node between node and node.next\n",
        "        if node.next:\n",
        "            node.next.prev = new_node            # Fix forward link of next node\n",
        "        node.next = new_node                     # Link current node to new node\n",
        "        # Time: O(1), Space: O(1)\n",
        "\n",
        "    # 8. Print the list forward\n",
        "    def print_list(self):\n",
        "        temp = self.start\n",
        "        while temp:\n",
        "            print(temp.data, end=' <-> ')\n",
        "            temp = temp.next\n",
        "        print(\"None\")\n",
        "        # Time: O(n), Space: O(1)\n",
        "\n",
        "    # 9. Implement iterator to access all elements\n",
        "    def __iter__(self):\n",
        "        temp = self.start\n",
        "        while temp:\n",
        "            yield temp.data\n",
        "            temp = temp.next\n",
        "        # Time: O(n), Space: O(1)\n",
        "\n",
        "    # 10. Delete the first node\n",
        "    def del_start(self):\n",
        "        if self.start:\n",
        "            self.start = self.start.next\n",
        "            if self.start:\n",
        "                self.start.prev = None\n",
        "        # Time: O(1), Space: O(1)\n",
        "\n",
        "    # 11. Delete the last node\n",
        "    def del_last(self):\n",
        "        if self.start is None:\n",
        "            return\n",
        "        if self.start.next is None:\n",
        "            self.start = None\n",
        "            return\n",
        "        temp = self.start\n",
        "        while temp.next:\n",
        "            temp = temp.next\n",
        "        temp.prev.next = None\n",
        "        # Time: O(n), Space: O(1)\n",
        "\n",
        "    # 12. Delete a node with given data\n",
        "    def delete_item(self, data):\n",
        "        temp = self.start\n",
        "        while temp:\n",
        "            if temp.data == data:\n",
        "                if temp.prev:\n",
        "                    temp.prev.next = temp.next   # Bridge prev node to next\n",
        "                else:\n",
        "                    self.start = temp.next       # If deleting head, update start\n",
        "                if temp.next:\n",
        "                    temp.next.prev = temp.prev   # Bridge next node to prev\n",
        "                break\n",
        "            temp = temp.next\n",
        "        # Time: O(n), Space: O(1)\n",
        "\n",
        "    # 13 print in reverse way\n",
        "    def print_reverse(self):\n",
        "      if self.start is None:\n",
        "          print(\"None\")\n",
        "          return\n",
        "      temp = self.start\n",
        "      while temp.next:\n",
        "          temp = temp.next\n",
        "      while temp:\n",
        "          print(temp.data, end=' <-> ')\n",
        "          temp = temp.prev\n",
        "      print(\"None\")\n",
        "\n",
        "dll = DLL()                                 # Create an empty list\n",
        "\n",
        "dll.insert_at_start(30)                     # List: 30\n",
        "dll.insert_at_start(20)                     # List: 20 <-> 30\n",
        "dll.insert_at_last(40)                      # List: 20 <-> 30 <-> 40\n",
        "dll.insert_after(dll.search(30), 35)        # Insert 35 after node with data=30\n",
        "# List becomes: 20 <-> 30 <-> 35 <-> 40\n",
        "\n",
        "dll.print_list()                            # Output: 20 <-> 30 <-> 35 <-> 40 <-> None\n",
        "\n",
        "dll.del_start()                             # Remove 20 → List: 30 <-> 35 <-> 40\n",
        "dll.del_last()                              # Remove 40 → List: 30 <-> 35\n",
        "dll.delete_item(35)\n",
        "dll.print_reverse()                       # Remove 35 → List: 30\n",
        "\n",
        "dll.print_list()                            # Final Output: 30 <-> None\n"
      ],
      "metadata": {
        "colab": {
          "base_uri": "https://localhost:8080/"
        },
        "id": "s7QJRg3UjRg5",
        "outputId": "b6136bec-eb5d-4d7f-a92c-908ac1743f2c"
      },
      "execution_count": null,
      "outputs": [
        {
          "output_type": "stream",
          "name": "stdout",
          "text": [
            "20 <-> 30 <-> 35 <-> 40 <-> None\n",
            "30 <-> None\n",
            "30 <-> None\n"
          ]
        }
      ]
    },
    {
      "cell_type": "markdown",
      "source": [
        "# Circular Linked List"
      ],
      "metadata": {
        "id": "gIw2_gJPmd8B"
      }
    },
    {
      "cell_type": "code",
      "source": [
        "# 1. Node class for circular linked list\n",
        "class Node:\n",
        "    def __init__(self, item=None, next=None):\n",
        "        self.item = item      # Stores node's value\n",
        "        self.next = next      # Points to the next node (circular)\n",
        "\n",
        "# 2. CLL class to manage the circular list\n",
        "class CLL:\n",
        "    def __init__(self):\n",
        "        self.last = None      # Points to the last node in the list\n",
        "\n",
        "    # 3. Check if list is empty\n",
        "    def is_empty(self):\n",
        "        return self.last is None\n",
        "        # Time: O(1), Space: O(1)\n",
        "\n",
        "    # 4. Insert node at the beginning\n",
        "    def insert_at_start(self, data):\n",
        "        new_node = Node(data)\n",
        "        if self.is_empty():\n",
        "            new_node.next = new_node  # Single node loops to itself\n",
        "            self.last = new_node\n",
        "        else:\n",
        "            new_node.next = self.last.next\n",
        "            self.last.next = new_node\n",
        "        # Time: O(1), Space: O(1)\n",
        "\n",
        "    # 5. Insert node at the end\n",
        "    def insert_at_last(self, data):\n",
        "        new_node = Node(data)\n",
        "        if self.is_empty():\n",
        "            new_node.next = new_node\n",
        "            self.last = new_node\n",
        "        else:\n",
        "            new_node.next = self.last.next\n",
        "            self.last.next = new_node\n",
        "            self.last = new_node       # Update last\n",
        "        # Time: O(1), Space: O(1)\n",
        "\n",
        "    # 6. Search for a node with given data\n",
        "    def search(self, data):\n",
        "        if self.is_empty():\n",
        "            return None\n",
        "        temp = self.last.next\n",
        "        while temp != self.last:\n",
        "            if temp.item == data:\n",
        "                return temp\n",
        "            temp = temp.next\n",
        "        if temp.item == data:          # Check last node\n",
        "            return temp\n",
        "        return None\n",
        "        # Time: O(n), Space: O(1)\n",
        "\n",
        "    # 7. Insert after a specific node\n",
        "    def insert_after(self, node, data):\n",
        "        if node is not None:\n",
        "            new_node = Node(data, node.next)\n",
        "            node.next = new_node\n",
        "            if node == self.last:\n",
        "                self.last = new_node  # Update last if inserted after last node\n",
        "        # Time: O(1), Space: O(1)\n",
        "\n",
        "    # 8. Print the entire list\n",
        "    def print_list(self):\n",
        "        if self.is_empty():\n",
        "            print(\"List is empty.\")\n",
        "            return\n",
        "        temp = self.last.next\n",
        "        while temp != self.last:\n",
        "            print(temp.item, end=' <-> ')\n",
        "            temp = temp.next\n",
        "        print(temp.item)  # Print the last node\n",
        "        # Time: O(n), Space: O(1)\n",
        "\n",
        "    # 9. Make the class iterable\n",
        "    def __iter__(self):\n",
        "        if self.is_empty():\n",
        "            return\n",
        "        temp = self.last.next\n",
        "        while True:\n",
        "            yield temp.item\n",
        "            temp = temp.next\n",
        "            if temp == self.last.next:\n",
        "                break\n",
        "        # Time: O(n), Space: O(1)\n",
        "\n",
        "    # 10. Delete first node\n",
        "    def del_first(self):\n",
        "        if self.is_empty():\n",
        "            return\n",
        "        if self.last.next == self.last:\n",
        "            self.last = None\n",
        "        else:\n",
        "            self.last.next = self.last.next.next\n",
        "        # Time: O(1), Space: O(1)\n",
        "\n",
        "    # 11. Delete last node\n",
        "    def del_last(self):\n",
        "        if self.is_empty():\n",
        "            return\n",
        "        if self.last.next == self.last:\n",
        "            self.last = None\n",
        "        else:\n",
        "            temp = self.last.next\n",
        "            while temp.next != self.last:\n",
        "                temp = temp.next\n",
        "            temp.next = self.last.next\n",
        "            self.last = temp\n",
        "        # Time: O(n), Space: O(1)\n",
        "\n",
        "    # 12. Delete node with specific value\n",
        "    def del_item(self, data):\n",
        "        if self.is_empty():\n",
        "            return\n",
        "        if self.last.next == self.last and self.last.item == data:\n",
        "            self.last = None\n",
        "            return\n",
        "        if self.last.next.item == data:\n",
        "            self.del_first()\n",
        "            return\n",
        "        temp = self.last.next\n",
        "        while temp.next != self.last:\n",
        "            if temp.next.item == data:\n",
        "                temp.next = temp.next.next\n",
        "                return\n",
        "            temp = temp.next\n",
        "        if self.last.item == data:\n",
        "            self.del_last()\n",
        "        # Time: O(n), Space: O(1)\n",
        "cll = CLL()                         # Create circular list: last = None\n",
        "\n",
        "cll.insert_at_start(10)            # List: 10 (only node, loops to self)\n",
        "cll.insert_at_start(20)            # List: 20 <-> 10\n",
        "cll.insert_at_last(30)             # List: 20 <-> 10 <-> 30\n",
        "cll.insert_at_last(40)             # List: 20 <-> 10 <-> 30 <-> 40\n",
        "cll.insert_after(cll.search(10), 50)  # Insert 50 after 10 → List: 20 <-> 10 <-> 50 <-> 30 <-> 40\n",
        "cll.print_list()                   # Output: 20 <-> 10 <-> 50 <-> 30 <-> 40\n"
      ],
      "metadata": {
        "colab": {
          "base_uri": "https://localhost:8080/"
        },
        "id": "23ZBW9jNlLzQ",
        "outputId": "2e373cc7-fc92-4db5-cd51-323636531244"
      },
      "execution_count": null,
      "outputs": [
        {
          "output_type": "stream",
          "name": "stdout",
          "text": [
            "20 <-> 10 <-> 50 <-> 30 <-> 40\n"
          ]
        }
      ]
    },
    {
      "cell_type": "markdown",
      "source": [
        "## Circular Doubly Linked List"
      ],
      "metadata": {
        "id": "vZ4KNoUimr22"
      }
    },
    {
      "cell_type": "code",
      "source": [
        "# 1. Define Node class to represent a node in the circular doubly linked list\n",
        "class Node:\n",
        "    def __init__(self, data=None, next=None, prev=None):\n",
        "        self.data = data  # Data held by the node\n",
        "        self.next = next  # Pointer to the next node\n",
        "        self.prev = prev  # Pointer to the previous node\n",
        "\n",
        "# 2. Define CDLL class to manage operations on the circular doubly linked list\n",
        "class CDLL:\n",
        "    def __init__(self, start=None):\n",
        "        self.start = start  # Reference to the first node (head)\n",
        "\n",
        "    # 3. Check if the list is empty\n",
        "    def is_empty(self):\n",
        "        return self.start == None\n",
        "        # Time: O(1), Space: O(1)\n",
        "\n",
        "    # 4. Insert node at the beginning of the list\n",
        "    def insert_at_start(self, data):\n",
        "        n = Node(data)  # Create new node\n",
        "        if self.start is None:\n",
        "            n.next = n\n",
        "            n.prev = n\n",
        "        else:\n",
        "            n.next = self.start\n",
        "            n.prev = self.start.prev\n",
        "            self.start.prev.next = n\n",
        "            self.start.prev = n\n",
        "        self.start = n  # New node becomes the start\n",
        "        # Time: O(1), Space: O(1)\n",
        "\n",
        "    # 5. Insert node at the end of the list\n",
        "    def insert_at_last(self, data):\n",
        "        n = Node(data)\n",
        "        if self.start is None:\n",
        "            n.next = n\n",
        "            n.prev = n\n",
        "            self.start = n\n",
        "        else:\n",
        "            n.next = self.start\n",
        "            n.prev = self.start.prev\n",
        "            self.start.prev.next = n\n",
        "            self.start.prev = n\n",
        "        # Time: O(1), Space: O(1)\n",
        "\n",
        "    # 6. Search for a node containing specific data\n",
        "    def search(self, data):\n",
        "        temp = self.start\n",
        "        if temp is None:\n",
        "            return None\n",
        "        if temp.data == data:\n",
        "            return temp\n",
        "        temp = temp.next\n",
        "        while temp != self.start:\n",
        "            if temp.data == data:\n",
        "                return temp\n",
        "            temp = temp.next\n",
        "        return None\n",
        "        # Time: O(n), Space: O(1)\n",
        "\n",
        "    # 7. Insert a node after a specific node\n",
        "    def insert_after(self, temp, data):\n",
        "        if temp is not None:\n",
        "            n = Node(data)\n",
        "            n.next = temp.next\n",
        "            n.prev = temp\n",
        "            temp.next.prev = n\n",
        "            temp.next = n\n",
        "        # Time: O(1), Space: O(1)\n",
        "\n",
        "    # 8. Print the contents of the list in order\n",
        "    def print(self):\n",
        "        temp = self.start\n",
        "        if temp is not None:\n",
        "            print(temp.data, end='<->')\n",
        "            temp = temp.next\n",
        "            while temp is not self.start:\n",
        "                print(temp.data, end='<->')\n",
        "                temp = temp.next\n",
        "            print(\"START\")  # Clarify circularity\n",
        "        else:\n",
        "            print(\"List is empty.\")\n",
        "        # Time: O(n), Space: O(1)\n",
        "\n",
        "    # 10. Delete the first node in the list\n",
        "    def del_first(self):\n",
        "        if self.start is not None:\n",
        "            if self.start.next == self.start:\n",
        "                self.start = None\n",
        "            else:\n",
        "                self.start.prev.next = self.start.next\n",
        "                self.start.next.prev = self.start.prev\n",
        "                self.start = self.start.next\n",
        "        # Time: O(1), Space: O(1)\n",
        "\n",
        "    # 11. Delete the last node in the list\n",
        "    def del_last(self):\n",
        "        if self.start is not None:\n",
        "            if self.start.next == self.start:\n",
        "                self.start = None\n",
        "            else:\n",
        "                self.start.prev.prev.next = self.start\n",
        "                self.start.prev = self.start.prev.prev\n",
        "        # Time: O(1), Space: O(1)\n",
        "\n",
        "    # 12. Delete a node with a given value (excluding head and tail cases)\n",
        "    def del_item(self, data):\n",
        "        if self.start is not None:\n",
        "            temp = self.start\n",
        "            if temp.data == data:\n",
        "                self.del_first()\n",
        "            else:\n",
        "                temp = temp.next\n",
        "                while temp is not self.start:\n",
        "                    if temp.data == data:\n",
        "                        temp.next.prev = temp.prev\n",
        "                        temp.prev.next = temp.next\n",
        "                        break\n",
        "                    temp = temp.next\n",
        "        # Time: O(n), Space: O(1)\n",
        "mylist = CDLL()                                # Creates an empty circular doubly linked list\n",
        "\n",
        "mylist.insert_at_start(10)                     # List: 10\n",
        "mylist.insert_at_last(20)                      # List: 10 <-> 20\n",
        "mylist.insert_at_last(30)                      # List: 10 <-> 20 <-> 30\n",
        "mylist.insert_at_last(40)                      # List: 10 <-> 20 <-> 30 <-> 40\n",
        "mylist.insert_after(mylist.search(30), 35)     # List: 10 <-> 20 <-> 30 <-> 35 <-> 40\n",
        "mylist.print()                                 # Prints: 10<->20<->30<->35<->40<->START\n"
      ],
      "metadata": {
        "colab": {
          "base_uri": "https://localhost:8080/"
        },
        "id": "KZ9ZyJglmkiw",
        "outputId": "9a882a30-2f86-4c38-a398-0b8a0e0c4dfb"
      },
      "execution_count": null,
      "outputs": [
        {
          "output_type": "stream",
          "name": "stdout",
          "text": [
            "10<->20<->30<->35<->40<->START\n"
          ]
        }
      ]
    },
    {
      "cell_type": "code",
      "source": [
        "# 1. Define a class for a Doubly Linked List Node\n",
        "class DoublyNode:\n",
        "    def __init__(self, data, prev=None, next=None):\n",
        "        self.data = data     # Value of the node\n",
        "        self.prev = prev     # Pointer to the previous node\n",
        "        self.next = next     # Pointer to the next node\n",
        "\n",
        "# 2. Create nodes a, b, and c\n",
        "a = DoublyNode(5)            # Node a with data 5\n",
        "b = DoublyNode(3)            # Node b with data 3\n",
        "c = DoublyNode(7)            # Node c with data 7\n",
        "\n",
        "# 3. Link the nodes to form: a <-> b <-> c\n",
        "\n",
        "a.next = b                   # a points forward to b\n",
        "b.prev = a                   # b points back to a\n",
        "\n",
        "b.next = c                   # b points forward to c\n",
        "c.prev = b                   # c points back to b\n"
      ],
      "metadata": {
        "id": "YFtlgKuSnQlQ"
      },
      "execution_count": null,
      "outputs": []
    },
    {
      "cell_type": "code",
      "source": [
        "# Forward Traversal starting from 'a'\n",
        "print(\"Forward Traversal:\")\n",
        "temp = a\n",
        "while temp:\n",
        "    print(temp.data, end=\" <-> \")\n",
        "    temp = temp.next\n",
        "print(\"None\")\n",
        "\n",
        "# Backward Traversal starting from 'c'\n",
        "print(\"Backward Traversal:\")\n",
        "temp = c\n",
        "while temp:\n",
        "    print(temp.data, end=\" <-> \")\n",
        "    temp = temp.prev\n",
        "print(\"None\")\n",
        "\n",
        "\n"
      ],
      "metadata": {
        "colab": {
          "base_uri": "https://localhost:8080/"
        },
        "id": "vYfCyL6CrgGP",
        "outputId": "eee5902f-e6c7-4bb4-a543-2cbecc58f6be"
      },
      "execution_count": null,
      "outputs": [
        {
          "output_type": "stream",
          "name": "stdout",
          "text": [
            "Forward Traversal:\n",
            "5 <-> 3 <-> 7 <-> None\n",
            "Backward Traversal:\n",
            "7 <-> 3 <-> 5 <-> None\n"
          ]
        }
      ]
    },
    {
      "cell_type": "code",
      "source": [
        "## Circullar linked list\n",
        "# 1. Define the Node class for a circular singly linked list\n",
        "class Node:\n",
        "    def __init__(self, data, next=None):\n",
        "        self.data = data      # Value held by the node\n",
        "        self.next = next      # Pointer to the next node\n",
        "\n",
        "# 2. Create three nodes: a, b, and c\n",
        "a = Node(5)   # First node\n",
        "b = Node(3)   # Second node\n",
        "c = Node(7)   # Third node\n",
        "\n",
        "# 3. Connect them to form a circular structure: a -> b -> c -> a\n",
        "a.next = b    # a points to b\n",
        "b.next = c    # b points to c\n",
        "c.next = a    # c loops back to a (circular link)\n",
        "\n",
        "# 4. Print elements in the circular list starting from node a\n",
        "print(\"Circular List Traversal (starting from a):\")\n",
        "temp = a  # head\n",
        "while True:\n",
        "    print(temp.data, end=\" -> \")\n",
        "    temp = temp.next\n",
        "    if temp == a:  # Stop after one full cycle\n",
        "        break\n",
        "print(\"... (back to start)\")\n",
        "\n",
        "\n"
      ],
      "metadata": {
        "colab": {
          "base_uri": "https://localhost:8080/"
        },
        "id": "mSofEsLhsaVX",
        "outputId": "54a3df7d-3f73-401b-8f9e-8d9806f75b8d"
      },
      "execution_count": null,
      "outputs": [
        {
          "output_type": "stream",
          "name": "stdout",
          "text": [
            "Circular List Traversal (starting from a):\n",
            "5 -> 3 -> 7 -> ... (back to start)\n"
          ]
        }
      ]
    },
    {
      "cell_type": "code",
      "source": [
        "## Doubly Linked List\n",
        "# 1. Define a node class for a doubly linked list\n",
        "class DoublyNode:\n",
        "    def __init__(self, data, prev=None, next=None):\n",
        "        self.data = data      # Stores value\n",
        "        self.prev = prev      # Points to previous node\n",
        "        self.next = next      # Points to next node\n",
        "\n",
        "# 2. Create individual nodes\n",
        "a = DoublyNode(5)     # Node a with data = 5\n",
        "b = DoublyNode(3)     # Node b with data = 3\n",
        "c = DoublyNode(7)     # Node c with data = 7\n",
        "\n",
        "# 3. Connect them: a <-> b <-> c\n",
        "\n",
        "a.next = b            # a points to b\n",
        "b.prev = a            # b points back to a\n",
        "\n",
        "b.next = c            # b points to c\n",
        "c.prev = b            # c points back to b\n",
        "\n",
        "# 4. Print forward from node a\n",
        "print(\"Forward traversal:\")\n",
        "temp = a\n",
        "while temp:\n",
        "    print(temp.data, end=\" ⇄ \")\n",
        "    temp = temp.next\n",
        "print(\"None\")\n",
        "\n",
        "# 5. Print backward from node c\n",
        "print(\"Backward traversal:\")\n",
        "temp = c\n",
        "while temp:\n",
        "    print(temp.data, end=\" ⇄ \")\n",
        "    temp = temp.prev\n",
        "print(\"None\")\n",
        "0\n"
      ],
      "metadata": {
        "colab": {
          "base_uri": "https://localhost:8080/"
        },
        "id": "YxR7cJRQtGY3",
        "outputId": "1d256f10-85a2-499a-c046-2ed925193db5"
      },
      "execution_count": null,
      "outputs": [
        {
          "output_type": "stream",
          "name": "stdout",
          "text": [
            "Forward traversal:\n",
            "5 ⇄ 3 ⇄ 7 ⇄ None\n",
            "Backward traversal:\n",
            "7 ⇄ 3 ⇄ 5 ⇄ None\n"
          ]
        },
        {
          "output_type": "execute_result",
          "data": {
            "text/plain": [
              "0"
            ]
          },
          "metadata": {},
          "execution_count": 39
        }
      ]
    },
    {
      "cell_type": "code",
      "source": [
        "# Leetcode (876) – Find Middle of Linked List\n",
        "\n",
        "# Definition for singly-linked list node\n",
        "class ListNode:\n",
        "    def __init__(self, val=0, next=None):\n",
        "        self.val = val        # Holds the node's value\n",
        "        self.next = next      # Pointer to the next node\n",
        "\n",
        "# Solution class containing method to find the middle node\n",
        "class Solution:\n",
        "    def middleNode(self, head):\n",
        "        curr = head\n",
        "        l = 0\n",
        "\n",
        "        # First traversal: Count number of nodes in the list\n",
        "        while curr is not None:\n",
        "            l += 1\n",
        "            curr = curr.next\n",
        "        # Time: O(n) where n = number of nodes\n",
        "        # Space: O(1) – no extra space used\n",
        "\n",
        "        # Second traversal: Move to the middle node (l // 2)\n",
        "        curr = head\n",
        "        for _ in range(l // 2):\n",
        "            curr = curr.next\n",
        "        # Time: O(n), since traversing up to n/2 more nodes\n",
        "\n",
        "        return curr  # Total Time: O(n), Space: O(1)\n",
        "\n",
        "# Helper function to build a linked list from a list\n",
        "def build_linked_list(values):\n",
        "    head = ListNode(values[0])\n",
        "    curr = head\n",
        "    for val in values[1:]:\n",
        "        curr.next = ListNode(val)\n",
        "        curr = curr.next\n",
        "    return head\n",
        "# Time: O(n), Space: O(n) – due to n node objects being created\n",
        "\n",
        "# Build a linked list from an array: [1 → 2 → 3 → 4 → 5]\n",
        "head = build_linked_list([1, 2, 3, 4, 5])\n",
        "\n",
        "# Create a Solution object and find the middle node\n",
        "sol = Solution()\n",
        "middle = sol.middleNode(head)\n",
        "\n",
        "# Print result\n",
        "print(\"Middle node value:\", middle.val)\n",
        "# Expected Output: Middle node value: 3\n"
      ],
      "metadata": {
        "colab": {
          "base_uri": "https://localhost:8080/"
        },
        "id": "A__YQxe1digZ",
        "outputId": "1c086cb4-118d-48ef-a564-8a2993d33632"
      },
      "execution_count": null,
      "outputs": [
        {
          "output_type": "stream",
          "name": "stdout",
          "text": [
            "Middle node value: 3\n"
          ]
        }
      ]
    },
    {
      "cell_type": "code",
      "source": [
        "# Definition for singly-linked list node\n",
        "class ListNode(object):\n",
        "    def __init__(self, val=0, next=None):\n",
        "        self.val = val         # Stores the node's value\n",
        "        self.next = next       # Points to the next node\n",
        "\n",
        "# Solution class using fast and slow pointer technique (Tortoise and Hare)\n",
        "class Solution(object):\n",
        "    def middleNode(self, head):\n",
        "        slow = head            # Slow moves one step at a time\n",
        "        fast = head            # Fast moves two steps at a time\n",
        "\n",
        "        # Traverse the list: slow moves 1 step, fast moves 2 steps\n",
        "        while fast is not None and fast.next is not None:\n",
        "            slow = slow.next\n",
        "            fast = fast.next.next\n",
        "\n",
        "        return slow            # Slow now points to the middle node\n",
        "\n",
        "        # Time Complexity: O(n) – each node is visited at most once\n",
        "        # Space Complexity: O(1) – only two pointers used, no extra memory\n",
        "\n",
        "\n",
        "# Helper function to create a linked list from a list of values\n",
        "def build_linked_list(values):\n",
        "    head = ListNode(values[0])\n",
        "    curr = head\n",
        "    for val in values[1:]:\n",
        "        curr.next = ListNode(val)\n",
        "        curr = curr.next\n",
        "    return head\n",
        "\n",
        "# Example: create a list: [1 -> 2 -> 3 -> 4 -> 5]\n",
        "head = build_linked_list([1, 2, 3, 4, 5])\n",
        "\n",
        "# Instantiate the solution and get the middle node\n",
        "sol = Solution()\n",
        "middle = sol.middleNode(head)\n",
        "\n",
        "# Print result\n",
        "print(\"Middle node value:\", middle.val)  # Output: 3\n"
      ],
      "metadata": {
        "colab": {
          "base_uri": "https://localhost:8080/"
        },
        "id": "ToKcw2ltevqY",
        "outputId": "74c6f0f2-9535-4d96-9126-e189f2ba78cf"
      },
      "execution_count": null,
      "outputs": [
        {
          "output_type": "stream",
          "name": "stdout",
          "text": [
            "Middle node value: 3\n"
          ]
        }
      ]
    },
    {
      "cell_type": "code",
      "source": [
        "## Leetcode(237)------\n",
        "# Definition for singly-linked list.\n",
        "class ListNode(object):\n",
        "    def __init__(self, x):\n",
        "        self.val = x            # Stores the node's value\n",
        "        self.next = None        # Pointer to the next node\n",
        "\n",
        "class Solution(object):\n",
        "    def deleteNode(self, node):\n",
        "        \"\"\"\n",
        "        Deletes a node in a singly linked list, given only access to that node.\n",
        "        The actual deletion is done by copying the value from the next node\n",
        "        and bypassing it.\n",
        "        \"\"\"\n",
        "        node.val = node.next.val           # Copy value from the next node\n",
        "        node.next = node.next.next         # Skip over the next node\n",
        "\n",
        "        # Time Complexity: O(1) – Constant time operation\n",
        "        # Space Complexity: O(1) – No extra space used\n",
        "# Create the list manually\n",
        "a = ListNode(4)\n",
        "b = ListNode(5)\n",
        "c = ListNode(1)\n",
        "d = ListNode(9)\n",
        "\n",
        "# Link the nodes\n",
        "a.next = b\n",
        "b.next = c\n",
        "c.next = d\n",
        "\n",
        "# Delete node 'b' (which has value 5)\n",
        "sol = Solution()\n",
        "sol.deleteNode(b)\n",
        "\n",
        "# Print updated list starting from head (a)\n",
        "curr = a\n",
        "while curr:\n",
        "    print(curr.val, end=\" -> \")\n",
        "    curr = curr.next\n",
        "print(\"None\")\n"
      ],
      "metadata": {
        "colab": {
          "base_uri": "https://localhost:8080/"
        },
        "id": "NtqdIYRoiLTu",
        "outputId": "215ec605-7d94-46b0-ce26-24ddfd1a6998"
      },
      "execution_count": null,
      "outputs": [
        {
          "output_type": "stream",
          "name": "stdout",
          "text": [
            "4 -> 1 -> 9 -> None\n"
          ]
        }
      ]
    },
    {
      "cell_type": "code",
      "source": [
        "### Leetcode(19)-- delete n(th) node from end of the array\n",
        "# Definition for singly-linked list node\n",
        "class ListNode(object):\n",
        "    def __init__(self, val=0, next=None):\n",
        "        self.val = val        # Holds the node's value\n",
        "        self.next = next      # Points to the next node\n",
        "\n",
        "class Solution(object):\n",
        "    def removeNthFromEnd(self, head, n):\n",
        "        \"\"\"\n",
        "        Removes the N-th node from the end of the list.\n",
        "        \"\"\"\n",
        "        # Step 1: Count total number of nodes\n",
        "        length = 0\n",
        "        curr = head\n",
        "        while curr:\n",
        "            length += 1\n",
        "            curr = curr.next\n",
        "        # Time: O(n), Space: O(1)\n",
        "\n",
        "        # Step 2: If removing the first node (n == length)\n",
        "        if n == length:\n",
        "            return head.next  # Move head forward\n",
        "\n",
        "        # Step 3: Move to the node just before the one to be deleted\n",
        "        curr = head\n",
        "        for _ in range(length - n - 1):\n",
        "            curr = curr.next\n",
        "\n",
        "        # Step 4: Bypass the node to delete it\n",
        "        if curr.next:\n",
        "            curr.next = curr.next.next\n",
        "\n",
        "        return head\n",
        "        # Total Time Complexity: O(n) – two passes\n",
        "        # Space Complexity: O(1) – no extra memory used\n",
        "\n",
        "# Helper function to build a linked list from a list of values\n",
        "def build_linked_list(values):\n",
        "    head = ListNode(values[0])\n",
        "    curr = head\n",
        "    for val in values[1:]:\n",
        "        curr.next = ListNode(val)\n",
        "        curr = curr.next\n",
        "    return head\n",
        "\n",
        "# Helper function to print linked list\n",
        "def print_linked_list(head):\n",
        "    curr = head\n",
        "    while curr:\n",
        "        print(curr.val, end=\" -> \")\n",
        "        curr = curr.next\n",
        "    print(\"None\")\n",
        "\n",
        "# Test Case\n",
        "values = [1, 2, 3, 4, 5]\n",
        "n = 2\n",
        "head = build_linked_list(values)\n",
        "\n",
        "sol = Solution()\n",
        "new_head = sol.removeNthFromEnd(head, n)\n",
        "\n",
        "print(\"Updated list after removing {}-th node from end:\".format(n))\n",
        "print_linked_list(new_head)\n",
        "\n"
      ],
      "metadata": {
        "colab": {
          "base_uri": "https://localhost:8080/"
        },
        "id": "Iy0ooUFBk5qH",
        "outputId": "55f185cd-9029-4a94-8d12-859d324afea9"
      },
      "execution_count": null,
      "outputs": [
        {
          "output_type": "stream",
          "name": "stdout",
          "text": [
            "Updated list after removing 2-th node from end:\n",
            "1 -> 2 -> 3 -> 5 -> None\n"
          ]
        }
      ]
    },
    {
      "cell_type": "code",
      "source": [
        "# Definition for singly-linked list.\n",
        "from typing import Optional\n",
        "\n",
        "class ListNode:\n",
        "    def __init__(self, val=0, next=None):\n",
        "        self.val = val        # Holds the node's value\n",
        "        self.next = next      # Points to the next node\n",
        "\n",
        "class Solution:\n",
        "    def removeNthFromEnd(self, head: Optional[ListNode], n: int) -> Optional[ListNode]:\n",
        "        \"\"\"\n",
        "        Removes the n-th node from the end of the linked list in one pass using two pointers.\n",
        "        \"\"\"\n",
        "        p1 = head  # Slow pointer\n",
        "        p2 = head  # Fast pointer\n",
        "\n",
        "        # Move p2 n steps ahead\n",
        "        for _ in range(n):\n",
        "            p2 = p2.next\n",
        "\n",
        "        # Edge case: if p2 is None, we're removing the first node\n",
        "        if p2 is None:\n",
        "            return head.next\n",
        "\n",
        "        # Move both pointers until p2 reaches the end\n",
        "        while p2.next:\n",
        "            p2 = p2.next\n",
        "            p1 = p1.next\n",
        "\n",
        "        # Remove the node after p1\n",
        "        p1.next = p1.next.next\n",
        "\n",
        "        return head\n",
        "\n",
        "        # Time Complexity: O(n) — each node is visited once\n",
        "        # Space Complexity: O(1) — only two pointers used\n",
        "\n",
        "\n",
        "# Helper to build a linked list from a list\n",
        "def build_linked_list(values):\n",
        "    head = ListNode(values[0])\n",
        "    curr = head\n",
        "    for val in values[1:]:\n",
        "        curr.next = ListNode(val)\n",
        "        curr = curr.next\n",
        "    return head\n",
        "\n",
        "# Helper to print linked list\n",
        "def print_list(head):\n",
        "    curr = head\n",
        "    while curr:\n",
        "        print(curr.val, end=\" -> \")\n",
        "        curr = curr.next\n",
        "    print(\"None\")\n",
        "\n",
        "# Usage example\n",
        "values = [1, 2, 3, 4, 5]\n",
        "n = 2\n",
        "head = build_linked_list(values)\n",
        "\n",
        "sol = Solution()\n",
        "new_head = sol.removeNthFromEnd(head, n)\n",
        "\n",
        "print(\"List after removing the {}-th node from the end:\".format(n))\n",
        "print_list(new_head)"
      ],
      "metadata": {
        "colab": {
          "base_uri": "https://localhost:8080/"
        },
        "id": "8-Q2I44Es5QQ",
        "outputId": "d779868f-2678-44da-864d-2f17deb9f3d4"
      },
      "execution_count": null,
      "outputs": [
        {
          "output_type": "stream",
          "name": "stdout",
          "text": [
            "List after removing the 2-th node from the end:\n",
            "1 -> 2 -> 3 -> 5 -> None\n"
          ]
        }
      ]
    },
    {
      "cell_type": "code",
      "source": [
        "## Leetcode(83)----\n",
        "# Definition for singly-linked list.\n",
        "class ListNode:\n",
        "    def __init__(self, val=0, next=None):\n",
        "        self.val = val        # Stores the value of the node\n",
        "        self.next = next      # Points to the next node\n",
        "\n",
        "class Solution:\n",
        "    def deleteDuplicates(self, head: Optional[ListNode]) -> Optional[ListNode]:\n",
        "        \"\"\"\n",
        "        Removes all duplicate nodes from a sorted singly linked list.\n",
        "        Only keeps distinct elements once.\n",
        "        \"\"\"\n",
        "        # Base case: empty list or single node list\n",
        "        if head is None or head.next is None:\n",
        "            return head\n",
        "\n",
        "        curr = head  # Pointer to iterate through the list\n",
        "\n",
        "        # Traverse while there's a next node\n",
        "        while curr is not None and curr.next is not None:\n",
        "            if curr.val == curr.next.val:\n",
        "                # Duplicate found: skip the next node\n",
        "                curr.next = curr.next.next\n",
        "            else:\n",
        "                # Advance to next node\n",
        "                curr = curr.next\n",
        "\n",
        "        return head\n",
        "\n",
        "        # Time Complexity: O(n) – each node visited once\n",
        "        # Space Complexity: O(1) – no extra space used\n",
        "\n",
        "\n",
        "\n",
        "# Build a linked list from a list of values\n",
        "def build_linked_list(values):\n",
        "    head = ListNode(values[0])\n",
        "    curr = head\n",
        "    for val in values[1:]:\n",
        "        curr.next = ListNode(val)\n",
        "        curr = curr.next\n",
        "    return head\n",
        "\n",
        "# Print the linked list\n",
        "def print_list(head):\n",
        "    curr = head\n",
        "    while curr:\n",
        "        print(curr.val, end=\" -> \")\n",
        "        curr = curr.next\n",
        "    print(\"None\")\n",
        "\n",
        "# Create list and apply solution\n",
        "values = [1, 1, 2, 3, 3]\n",
        "head = build_linked_list(values)\n",
        "\n",
        "sol = Solution()\n",
        "new_head = sol.deleteDuplicates(head)\n",
        "\n",
        "print(\"List after removing duplicates:\")\n",
        "print_list(new_head)\n",
        "\n"
      ],
      "metadata": {
        "colab": {
          "base_uri": "https://localhost:8080/"
        },
        "id": "EFcp7_fSwDfx",
        "outputId": "08570397-cf44-4b39-c88c-d1fdb37b434c"
      },
      "execution_count": null,
      "outputs": [
        {
          "output_type": "stream",
          "name": "stdout",
          "text": [
            "List after removing duplicates:\n",
            "1 -> 2 -> 3 -> None\n"
          ]
        }
      ]
    },
    {
      "cell_type": "code",
      "source": [
        "## Leetcode(82)----\n",
        "# Definition for singly-linked list.\n",
        "class ListNode:\n",
        "    def __init__(self, val=0, next=None):\n",
        "        self.val = val        # Node value\n",
        "        self.next = next      # Pointer to next node\n",
        "\n",
        "class Solution:\n",
        "    def deleteDuplicates(self, head: Optional[ListNode]) -> Optional[ListNode]:\n",
        "        \"\"\"\n",
        "        Deletes all nodes that have duplicate numbers, leaving only distinct nodes.\n",
        "        \"\"\"\n",
        "        dummy = ListNode(0)         # Create a dummy node before head\n",
        "        dummy.next = head\n",
        "        prev = dummy                # prev points to the last node before duplicate block\n",
        "        curr = head                 # curr is the iterator\n",
        "\n",
        "        while curr:\n",
        "            # Skip all nodes with the same value\n",
        "            has_duplicate = False\n",
        "            while curr.next and curr.val == curr.next.val:\n",
        "                curr = curr.next\n",
        "                has_duplicate = True\n",
        "\n",
        "            if has_duplicate:\n",
        "                prev.next = curr.next  # Remove the entire duplicate block\n",
        "            else:\n",
        "                prev = prev.next       # Keep this node, move prev forward\n",
        "\n",
        "            curr = curr.next           # Always move curr forward\n",
        "\n",
        "        return dummy.next\n",
        "\n",
        "        # Time Complexity: O(n)\n",
        "        # Space Complexity: O(1)\n",
        "\n",
        "# Helper to build linked list\n",
        "def build_linked_list(values):\n",
        "    head = ListNode(values[0])\n",
        "    curr = head\n",
        "    for val in values[1:]:\n",
        "        curr.next = ListNode(val)\n",
        "        curr = curr.next\n",
        "    return head\n",
        "\n",
        "# Helper to print linked list\n",
        "def print_list(head):\n",
        "    while head:\n",
        "        print(head.val, end=\" -> \")\n",
        "        head = head.next\n",
        "    print(\"None\")\n",
        "\n",
        "# Test case\n",
        "head = build_linked_list([1, 2, 3, 3, 4, 4, 5])\n",
        "sol = Solution()\n",
        "new_head = sol.deleteDuplicates(head)\n",
        "print(\"List after removing all duplicates:\")\n",
        "print_list(new_head)\n",
        "\n"
      ],
      "metadata": {
        "colab": {
          "base_uri": "https://localhost:8080/"
        },
        "id": "J7XFCLXKzMwf",
        "outputId": "59ea3473-d834-466a-81dd-66b123394a4b"
      },
      "execution_count": null,
      "outputs": [
        {
          "output_type": "stream",
          "name": "stdout",
          "text": [
            "List after removing all duplicates:\n",
            "1 -> 2 -> 5 -> None\n"
          ]
        }
      ]
    },
    {
      "cell_type": "code",
      "source": [
        "## Leetcode(206)---\n",
        "# Definition for singly-linked list node\n",
        "class ListNode:\n",
        "    def __init__(self, val=0, next=None):\n",
        "        self.val = val        # Value stored in the node\n",
        "        self.next = next      # Pointer to the next node\n",
        "\n",
        "class Solution:\n",
        "    def reverseList(self, head: Optional[ListNode]) -> Optional[ListNode]:\n",
        "        \"\"\"\n",
        "        Reverses a singly linked list in-place.\n",
        "\n",
        "        Time Complexity: O(n) – each node is visited once\n",
        "        Space Complexity: O(1) – uses constant extra space\n",
        "        \"\"\"\n",
        "        curr = head           # Current node pointer\n",
        "        prev = None           # Reversed list pointer\n",
        "\n",
        "        while curr is not None:\n",
        "            nxt = curr.next   # Store next node\n",
        "            curr.next = prev  # Reverse pointer\n",
        "            prev = curr       # Move prev to current\n",
        "            curr = nxt        # Move curr to next\n",
        "\n",
        "        return prev           # New head of reversed list\n",
        "\n",
        "\n",
        "# Helper to build a linked list from a list\n",
        "def build_linked_list(values):\n",
        "    head = ListNode(values[0])\n",
        "    curr = head\n",
        "    for v in values[1:]:\n",
        "        curr.next = ListNode(v)\n",
        "        curr = curr.next\n",
        "    return head\n",
        "\n",
        "# Helper to print linked list\n",
        "def print_list(head):\n",
        "    while head:\n",
        "        print(head.val, end=' -> ')\n",
        "        head = head.next\n",
        "    print('None')\n",
        "\n",
        "# Usage\n",
        "values = [1, 2, 3, 4, 5]\n",
        "head = build_linked_list(values)\n",
        "\n",
        "print(\"Original list:\")\n",
        "print_list(head)\n",
        "\n",
        "sol = Solution()\n",
        "reversed_head = sol.reverseList(head)\n",
        "\n",
        "print(\"Reversed list:\")\n",
        "print_list(reversed_head)\n",
        "\n"
      ],
      "metadata": {
        "colab": {
          "base_uri": "https://localhost:8080/"
        },
        "id": "4WS_XPbO23me",
        "outputId": "ddefda1c-4dba-477a-cc69-0826f6daac1a"
      },
      "execution_count": null,
      "outputs": [
        {
          "output_type": "stream",
          "name": "stdout",
          "text": [
            "Original list:\n",
            "1 -> 2 -> 3 -> 4 -> 5 -> None\n",
            "Reversed list:\n",
            "5 -> 4 -> 3 -> 2 -> 1 -> None\n"
          ]
        }
      ]
    },
    {
      "cell_type": "code",
      "source": [
        "## Leetcode(234)--\n",
        "# Definition for singly-linked list.\n",
        "class ListNode:\n",
        "    def __init__(self, val=0, next=None):\n",
        "        self.val = val\n",
        "        self.next = next\n",
        "\n",
        "class Solution:\n",
        "    def isPalindrome(self, head: Optional[ListNode]) -> bool:\n",
        "        if head is None or head.next is None:\n",
        "            return True  # Single node or empty list is a palindrome\n",
        "\n",
        "        # Step 1: Find the middle using slow and fast pointers\n",
        "        slow = head\n",
        "        fast = head\n",
        "        while fast and fast.next:\n",
        "            slow = slow.next\n",
        "            fast = fast.next.next\n",
        "\n",
        "        # Step 2: Reverse the second half of the list\n",
        "        prev = None\n",
        "        while slow:\n",
        "            temp = slow.next\n",
        "            slow.next = prev\n",
        "            prev = slow\n",
        "            slow = temp\n",
        "\n",
        "        # Step 3: Compare both halves\n",
        "        left = head\n",
        "        right = prev\n",
        "        while right:\n",
        "            if left.val != right.val:\n",
        "                return False\n",
        "            left = left.next\n",
        "            right = right.next\n",
        "\n",
        "        return True\n",
        "\n",
        "        # Time Complexity: O(n) – Two passes over the list\n",
        "        # Space Complexity: O(1) – Reversing in place\n",
        "\n",
        "# Helper to build a list\n",
        "def build_linked_list(values):\n",
        "    head = ListNode(values[0])\n",
        "    curr = head\n",
        "    for v in values[1:]:\n",
        "        curr.next = ListNode(v)\n",
        "        curr = curr.next\n",
        "    return head\n",
        "\n",
        "# Test example\n",
        "head = build_linked_list([1, 2, 3, 2, 1])\n",
        "sol = Solution()\n",
        "print(\"Is palindrome:\", sol.isPalindrome(head))\n"
      ],
      "metadata": {
        "colab": {
          "base_uri": "https://localhost:8080/"
        },
        "id": "tXXz8Xls8H7F",
        "outputId": "daadf4fd-2a35-44b3-b4e8-48a3078b147f"
      },
      "execution_count": null,
      "outputs": [
        {
          "output_type": "stream",
          "name": "stdout",
          "text": [
            "Is palindrome: True\n"
          ]
        }
      ]
    },
    {
      "cell_type": "code",
      "source": [
        "## Leetcode(61)---\n",
        "# Definition for singly-linked list.\n",
        "class ListNode:\n",
        "    def __init__(self, val=0, next=None):\n",
        "        self.val = val\n",
        "        self.next = next\n",
        "\n",
        "class Solution:\n",
        "    def rotateRight(self, head: Optional[ListNode], k: int) -> Optional[ListNode]:\n",
        "        # Edge case: empty list or single node\n",
        "        if head is None or head.next is None:\n",
        "            return head\n",
        "\n",
        "        # Step 1: Compute the length of the list\n",
        "        length = 1\n",
        "        last = head\n",
        "        while last.next:\n",
        "            last = last.next\n",
        "            length += 1\n",
        "        # At the end, 'last' points to the last node\n",
        "\n",
        "        # Step 2: Normalize k in case it's greater than list length\n",
        "        k = k % length\n",
        "        if k == 0:\n",
        "            return head  # No rotation needed\n",
        "\n",
        "        # Step 3: Find the new tail: node at (length - k - 1)\n",
        "        curr = head\n",
        "        for _ in range(length - k - 1):\n",
        "            curr = curr.next\n",
        "\n",
        "        # Step 4: Rotate\n",
        "        new_head = curr.next       # New head becomes the k-th node from end\n",
        "        curr.next = None           # Break the link to form new tail\n",
        "        last.next = head           # Connect last node to old head\n",
        "\n",
        "        return new_head\n",
        "\n",
        "        # Time Complexity: O(n) – where n is the number of nodes\n",
        "        # Space Complexity: O(1) – constant space used\n",
        "\n",
        "# Helper to build a linked list from a list\n",
        "def build_linked_list(values):\n",
        "    head = ListNode(values[0])\n",
        "    curr = head\n",
        "    for val in values[1:]:\n",
        "        curr.next = ListNode(val)\n",
        "        curr = curr.next\n",
        "    return head\n",
        "\n",
        "# Helper to print a linked list\n",
        "def print_list(head):\n",
        "    while head:\n",
        "        print(head.val, end=\" -> \")\n",
        "        head = head.next\n",
        "    print(\"None\")\n",
        "\n",
        "# Example usage\n",
        "values = [1, 2, 3, 4, 5]\n",
        "k = 2\n",
        "\n",
        "head = build_linked_list(values)\n",
        "\n",
        "print(\"Original list:\")\n",
        "print_list(head)\n",
        "\n",
        "sol = Solution()\n",
        "rotated = sol.rotateRight(head, k)\n",
        "\n",
        "print(f\"List after rotating by {k} positions:\")\n",
        "print_list(rotated)\n",
        "\n"
      ],
      "metadata": {
        "colab": {
          "base_uri": "https://localhost:8080/"
        },
        "id": "0FwzBhHf9mFF",
        "outputId": "997f6795-5f08-4de4-c7cb-952e0cdb90e5"
      },
      "execution_count": null,
      "outputs": [
        {
          "output_type": "stream",
          "name": "stdout",
          "text": [
            "Original list:\n",
            "1 -> 2 -> 3 -> 4 -> 5 -> None\n",
            "List after rotating by 2 positions:\n",
            "4 -> 5 -> 1 -> 2 -> 3 -> None\n"
          ]
        }
      ]
    },
    {
      "cell_type": "code",
      "source": [
        "## Leetcode(160)----\n",
        "# Definition for singly-linked list.\n",
        "class ListNode:\n",
        "    def __init__(self, val=0, next=None):\n",
        "        self.val = val        # Stores the node's value\n",
        "        self.next = next      # Points to the next node\n",
        "\n",
        "class Solution:\n",
        "    def getIntersectionNode(self, headA: Optional[ListNode], headB: Optional[ListNode]) -> Optional[ListNode]:\n",
        "        \"\"\"\n",
        "        Finds the node where two singly linked lists intersect.\n",
        "        Uses the length difference technique.\n",
        "\n",
        "        Time Complexity: O(m + n)\n",
        "        Space Complexity: O(1)\n",
        "        \"\"\"\n",
        "        # Step 1: Compute lengths of both lists\n",
        "        lenA = 0\n",
        "        lenB = 0\n",
        "        currA = headA\n",
        "        currB = headB\n",
        "\n",
        "        while currA:\n",
        "            lenA += 1\n",
        "            currA = currA.next\n",
        "\n",
        "        while currB:\n",
        "            lenB += 1\n",
        "            currB = currB.next\n",
        "\n",
        "        # Step 2: Reset pointers to heads\n",
        "        currA = headA\n",
        "        currB = headB\n",
        "\n",
        "        # Step 3: Align the starting points\n",
        "        if lenA > lenB:\n",
        "            for _ in range(lenA - lenB):\n",
        "                currA = currA.next\n",
        "        else:\n",
        "            for _ in range(lenB - lenA):\n",
        "                currB = currB.next\n",
        "\n",
        "        # Step 4: Traverse both lists together\n",
        "        while currA and currB:\n",
        "            if currA == currB:\n",
        "                return currA  # Intersection found\n",
        "            currA = currA.next\n",
        "            currB = currB.next\n",
        "\n",
        "        return None  # No intersection\n",
        "\n",
        "\n",
        "\n",
        "# Helper: create intersecting lists\n",
        "def build_intersecting_lists():\n",
        "    # Shared part\n",
        "    intersect = ListNode(8, ListNode(9))\n",
        "\n",
        "    # First list: 1 → 2 → intersect\n",
        "    a1 = ListNode(1, ListNode(2, intersect))\n",
        "\n",
        "    # Second list: 3 → 4 → intersect\n",
        "    b1 = ListNode(3, ListNode(4, intersect))\n",
        "\n",
        "    return a1, b1\n",
        "\n",
        "# Run example\n",
        "headA, headB = build_intersecting_lists()\n",
        "\n",
        "sol = Solution()\n",
        "result = sol.getIntersectionNode(headA, headB)\n",
        "\n",
        "print(\"Intersection at node with value:\" if result else \"No intersection found.\")\n",
        "if result:\n",
        "    print(result.val)\n",
        "\n"
      ],
      "metadata": {
        "colab": {
          "base_uri": "https://localhost:8080/"
        },
        "id": "Daw1fKmVB-pl",
        "outputId": "d8d60ece-08a5-4af2-d52f-f33c4a2921a7"
      },
      "execution_count": null,
      "outputs": [
        {
          "output_type": "stream",
          "name": "stdout",
          "text": [
            "Intersection at node with value:\n",
            "8\n"
          ]
        }
      ]
    },
    {
      "cell_type": "code",
      "source": [
        "# Definition for singly-linked list.\n",
        "class ListNode:\n",
        "    def __init__(self, val=0, next=None):\n",
        "        self.val = val        # Node value\n",
        "        self.next = next      # Pointer to the next node\n",
        "\n",
        "class Solution:\n",
        "    def getIntersectionNode(self, headA: ListNode, headB: ListNode) -> Optional[ListNode]:\n",
        "        \"\"\"\n",
        "        Returns the node where two linked lists intersect, or None if they don't.\n",
        "        \"\"\"\n",
        "        if not headA or not headB:\n",
        "            return None\n",
        "\n",
        "        p1 = headA\n",
        "        p2 = headB\n",
        "\n",
        "        # Traverse both lists. When one pointer reaches the end, redirect to the other list's head.\n",
        "        # They will either meet at the intersection or both become None at the end.\n",
        "        while p1 != p2:\n",
        "            p1 = p1.next if p1 else headB\n",
        "            p2 = p2.next if p2 else headA\n",
        "\n",
        "        return p1  # Either the intersection node or None\n",
        "\n",
        "        # Time Complexity: O(m + n), where m and n are lengths of the two lists\n",
        "        # Space Complexity: O(1), constant extra space\n",
        "\n",
        "\n",
        "# Build test example\n",
        "def build_intersection():\n",
        "    # Shared part\n",
        "    intersect = ListNode(8, ListNode(9))\n",
        "\n",
        "    # List A: 1 → 2 → 8 → 9\n",
        "    headA = ListNode(1, ListNode(2, intersect))\n",
        "\n",
        "    # List B: 3 → 4 → 8 → 9\n",
        "    headB = ListNode(3, ListNode(4, intersect))\n",
        "\n",
        "    return headA, headB\n",
        "\n",
        "# Run test\n",
        "headA, headB = build_intersection()\n",
        "sol = Solution()\n",
        "intersection = sol.getIntersectionNode(headA, headB)\n",
        "\n",
        "# Print result\n",
        "if intersection:\n",
        "    print(\"Intersection at node with value:\", intersection.val)\n",
        "else:\n",
        "    print(\"No intersection found.\")\n",
        "\n"
      ],
      "metadata": {
        "colab": {
          "base_uri": "https://localhost:8080/"
        },
        "id": "VpaL7R2FDsIC",
        "outputId": "69d6468c-5c87-45a4-ff49-f7490e0f81dd"
      },
      "execution_count": null,
      "outputs": [
        {
          "output_type": "stream",
          "name": "stdout",
          "text": [
            "Intersection at node with value: 8\n"
          ]
        }
      ]
    },
    {
      "cell_type": "code",
      "source": [
        "## Leetcode(2)-----\n",
        "from typing import Optional  # For type hinting with Optional types\n",
        "\n",
        "# Definition for singly-linked list node\n",
        "class ListNode:\n",
        "    def __init__(self, val: int = 0, next: Optional['ListNode'] = None):\n",
        "        self.val = val           # The value at this node\n",
        "        self.next = next         # Pointer to the next node in the list\n",
        "\n",
        "# Main solution class\n",
        "class Solution:\n",
        "    def addTwoNumbers(self, head1: Optional[ListNode], head2: Optional[ListNode]) -> Optional[ListNode]:\n",
        "        dummy = ListNode(-1)     # Dummy node to simplify list construction\n",
        "        curr = dummy             # Pointer to track current node in result list\n",
        "        carry = 0                # To hold carry-over value from sum > 9\n",
        "\n",
        "        while head1 or head2 or carry:  # Continue while nodes or carry exist\n",
        "            total = carry               # Start total with carry from last addition\n",
        "\n",
        "            if head1:                   # Add value from list 1 if available\n",
        "                total += head1.val\n",
        "                head1 = head1.next      # Move to next node in list 1\n",
        "\n",
        "            if head2:                   # Add value from list 2 if available\n",
        "                total += head2.val\n",
        "                head2 = head2.next      # Move to next node in list 2\n",
        "\n",
        "            carry = total // 10         # Compute new carry\n",
        "            digit = total % 10          # Get the digit to store in the node\n",
        "\n",
        "            curr.next = ListNode(digit) # Append new digit node to result list\n",
        "            curr = curr.next            # Move current pointer forward\n",
        "\n",
        "        return dummy.next               # Return the head of the result list\n",
        "\n",
        "# Function to create a linked list from a list of integers\n",
        "def create_linked_list(nums):\n",
        "    dummy = ListNode(-1)               # Dummy node to ease list creation\n",
        "    curr = dummy\n",
        "    for num in nums:                   # For every number in input list\n",
        "        curr.next = ListNode(num)      # Create a new node with num\n",
        "        curr = curr.next               # Move current pointer forward\n",
        "    return dummy.next                  # Return the real head of the list\n",
        "\n",
        "# Function to print out linked list in human-readable form\n",
        "def print_linked_list(head):\n",
        "    nums = []\n",
        "    while head:\n",
        "        nums.append(str(head.val))     # Collect values as strings\n",
        "        head = head.next\n",
        "    print(\" -> \".join(nums))           # Print values separated by arrows\n",
        "\n",
        "\n",
        "# Create input lists representing 342 and 465 in reverse: 2->4->3 and 5->6->4\n",
        "l1 = create_linked_list([2, 4, 3])\n",
        "l2 = create_linked_list([5, 6, 4])\n",
        "\n",
        "sol = Solution()\n",
        "result = sol.addTwoNumbers(l1, l2)  # Call method to add the numbers\n",
        "\n",
        "print(\"Resultant Linked List:\")     # Print the result\n",
        "print_linked_list(result)           # Should output: 7 -> 0 -> 8\n",
        "\n",
        "\"\"\"\n",
        "Time Complexity: O(max(N, M))\n",
        "- We traverse each input list once. The dominant term is the longer list.\n",
        "\n",
        "Space Complexity: O(max(N, M))\n",
        "- Output list length is at most one longer than the longer input list (if carry remains).\n",
        "\"\"\"\n",
        "\n"
      ],
      "metadata": {
        "id": "xl_MbCv2FbXc",
        "colab": {
          "base_uri": "https://localhost:8080/",
          "height": 88
        },
        "outputId": "b10d5dc4-cadc-4e51-ff00-a99b1b9cb021"
      },
      "execution_count": 2,
      "outputs": [
        {
          "output_type": "stream",
          "name": "stdout",
          "text": [
            "Resultant Linked List:\n",
            "7 -> 0 -> 8\n"
          ]
        },
        {
          "output_type": "execute_result",
          "data": {
            "text/plain": [
              "'\\nTime Complexity: O(max(N, M))\\n- We traverse each input list once. The dominant term is the longer list.\\n\\nSpace Complexity: O(max(N, M))\\n- Output list length is at most one longer than the longer input list (if carry remains).\\n'"
            ],
            "application/vnd.google.colaboratory.intrinsic+json": {
              "type": "string"
            }
          },
          "metadata": {},
          "execution_count": 2
        }
      ]
    },
    {
      "cell_type": "code",
      "source": [
        "## Leetcode(141)----cycle linked list\n",
        "from typing import Optional\n",
        "\n",
        "# Definition for singly-linked list node\n",
        "class ListNode:\n",
        "    def __init__(self, val: int):\n",
        "        self.val = val         # Node's value\n",
        "        self.next = None       # Pointer to next node (default is None)\n",
        "\n",
        "class Solution:\n",
        "    def hasCycle(self, head: Optional[ListNode]) -> bool:\n",
        "        \"\"\"\n",
        "        Detects if a cycle exists in the linked list using Floyd's algorithm.\n",
        "\n",
        "        Time Complexity: O(n)\n",
        "        - Each node is visited at most once by the fast and slow pointers.\n",
        "\n",
        "        Space Complexity: O(1)\n",
        "        - Only two pointers are used regardless of list size.\n",
        "        \"\"\"\n",
        "\n",
        "        slow = head  # Slow pointer moves one step\n",
        "        fast = head  # Fast pointer moves two steps\n",
        "\n",
        "        # Traverse the list while both pointers are safe to move\n",
        "        while fast is not None and fast.next is not None:\n",
        "            slow = slow.next             # Move slow pointer one step\n",
        "            fast = fast.next.next        # Move fast pointer two steps\n",
        "\n",
        "            if slow == fast:             # If they meet, there is a cycle\n",
        "                return True\n",
        "\n",
        "        return False  # Fast reached the end — no cycle\n",
        "\n",
        "# ----------------- Helper Functions and Example Test Case -----------------\n",
        "\n",
        "# Utility to create a linked list from a list and create a cycle if needed\n",
        "def create_linked_list_with_cycle(values, pos):\n",
        "    \"\"\"\n",
        "    Creates a linked list from the values and introduces a cycle at position `pos`.\n",
        "    If pos == -1, no cycle is created.\n",
        "    \"\"\"\n",
        "    if not values:\n",
        "        return None\n",
        "\n",
        "    head = ListNode(values[0])\n",
        "    current = head\n",
        "    cycle_node = None\n",
        "\n",
        "    for index in range(1, len(values)):\n",
        "        current.next = ListNode(values[index])\n",
        "        current = current.next\n",
        "        if index == pos:\n",
        "            cycle_node = current\n",
        "\n",
        "    if pos != -1:\n",
        "        current.next = cycle_node  # Introduce cycle\n",
        "\n",
        "    return head\n",
        "\n",
        "# Function to print list safely (for acyclic testing only)\n",
        "def print_list_safe(head, max_nodes=20):\n",
        "    \"\"\"\n",
        "    Prints up to `max_nodes` nodes from the list to avoid infinite loops in case of a cycle.\n",
        "    \"\"\"\n",
        "    current = head\n",
        "    count = 0\n",
        "    while current and count < max_nodes:\n",
        "        print(current.val, end=\" -> \")\n",
        "        current = current.next\n",
        "        count += 1\n",
        "    print(\"...\")\n",
        "\n",
        "\n",
        "# Create a list: 3 -> 2 -> 0 -> -4 -> (points back to node with value 2)\n",
        "values = [3, 2, 0, -4]\n",
        "pos = 1  # Index at which cycle starts (0-based). Set to -1 to avoid cycle.\n",
        "\n",
        "head = create_linked_list_with_cycle(values, pos)\n",
        "\n",
        "sol = Solution()\n",
        "has_cycle = sol.hasCycle(head)\n",
        "\n",
        "print(\"Cycle Detected:\" if has_cycle else \"No Cycle Detected\")\n"
      ],
      "metadata": {
        "colab": {
          "base_uri": "https://localhost:8080/"
        },
        "id": "ItS5k_xf1BMK",
        "outputId": "698b7bf0-1780-45d1-919e-67f85e419235"
      },
      "execution_count": 4,
      "outputs": [
        {
          "output_type": "stream",
          "name": "stdout",
          "text": [
            "Cycle Detected:\n"
          ]
        }
      ]
    },
    {
      "cell_type": "code",
      "source": [
        "from typing import Optional\n",
        "\n",
        "# Definition of a singly-linked list node\n",
        "class ListNode:\n",
        "    def __init__(self, val: int):\n",
        "        self.val = val\n",
        "        self.next = None\n",
        "\n",
        "class Solution:\n",
        "    def detectCycle(self, head: Optional[ListNode]) -> Optional[ListNode]:\n",
        "        \"\"\"\n",
        "        Detects the start of a cycle in a linked list using the length-based method.\n",
        "\n",
        "        Time Complexity: O(n)\n",
        "        - First loop: Detects cycle (O(n))\n",
        "        - Second loop: Measures cycle length (O(k), k = cycle size)\n",
        "        - Third part: Advances one pointer by k steps and meets the other at the entry (O(n))\n",
        "\n",
        "        Space Complexity: O(1)\n",
        "        - Only uses pointers and integer variables.\n",
        "        \"\"\"\n",
        "        slow = head\n",
        "        fast = head\n",
        "        hasCycle = False\n",
        "\n",
        "        # Step 1: Detect whether a cycle exists using Floyd's Algorithm\n",
        "        while fast and fast.next:\n",
        "            slow = slow.next           # Move slow by 1\n",
        "            fast = fast.next.next      # Move fast by 2\n",
        "            if slow == fast:           # Cycle detected\n",
        "                hasCycle = True\n",
        "                break\n",
        "\n",
        "        if not hasCycle:\n",
        "            return None  # No cycle found\n",
        "\n",
        "        # Step 2: Measure the length of the cycle\n",
        "        length = 1\n",
        "        current = slow.next\n",
        "        while current != slow:\n",
        "            length += 1\n",
        "            current = current.next\n",
        "\n",
        "        # Step 3: Use two pointers spaced 'length' apart to find the entry\n",
        "        ptr1 = head\n",
        "        ptr2 = head\n",
        "        for _ in range(length):\n",
        "            ptr2 = ptr2.next\n",
        "\n",
        "        while ptr1 != ptr2:\n",
        "            ptr1 = ptr1.next\n",
        "            ptr2 = ptr2.next\n",
        "\n",
        "        return ptr1  # Start of the cycle\n",
        "\n",
        "# Helper function to build a linked list with a cycle\n",
        "def create_linked_list_with_cycle(values, pos):\n",
        "    \"\"\"\n",
        "    Builds a linked list from `values` and creates a cycle at index `pos`.\n",
        "    If pos == -1, no cycle is created.\n",
        "    \"\"\"\n",
        "    if not values:\n",
        "        return None\n",
        "\n",
        "    head = ListNode(values[0])\n",
        "    current = head\n",
        "    nodes = [head]\n",
        "\n",
        "    for value in values[1:]:\n",
        "        node = ListNode(value)\n",
        "        current.next = node\n",
        "        current = node\n",
        "        nodes.append(node)\n",
        "\n",
        "    if pos != -1:\n",
        "        current.next = nodes[pos]  # Create the cycle\n",
        "\n",
        "    return head\n",
        "\n",
        "\n",
        "# Create a linked list: 3 -> 2 -> 0 -> -4, with a cycle starting at node index 1 (value = 2)\n",
        "head = create_linked_list_with_cycle([3, 2, 0, -4], pos=1)\n",
        "\n",
        "sol = Solution()\n",
        "entry = sol.detectCycle(head)\n",
        "\n",
        "if entry:\n",
        "    print(f\"Cycle detected starting at node with value: {entry.val}\")\n",
        "else:\n",
        "    print(\"No cycle detected.\")\n"
      ],
      "metadata": {
        "id": "Toc3ZO6l9q8I",
        "outputId": "dc5f6096-0bba-4d2c-bdda-07a15c9f3668",
        "colab": {
          "base_uri": "https://localhost:8080/"
        }
      },
      "execution_count": 5,
      "outputs": [
        {
          "output_type": "stream",
          "name": "stdout",
          "text": [
            "Cycle detected starting at node with value: 2\n"
          ]
        }
      ]
    },
    {
      "cell_type": "code",
      "source": [],
      "metadata": {
        "id": "FFxbFP1j9uAY"
      },
      "execution_count": null,
      "outputs": []
    }
  ]
}