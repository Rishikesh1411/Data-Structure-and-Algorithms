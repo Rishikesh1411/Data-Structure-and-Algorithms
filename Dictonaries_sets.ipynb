{
  "nbformat": 4,
  "nbformat_minor": 0,
  "metadata": {
    "colab": {
      "provenance": [],
      "authorship_tag": "ABX9TyNpo5SBlqaN1NoHMr2Zvgsx",
      "include_colab_link": true
    },
    "kernelspec": {
      "name": "python3",
      "display_name": "Python 3"
    },
    "language_info": {
      "name": "python"
    }
  },
  "cells": [
    {
      "cell_type": "markdown",
      "metadata": {
        "id": "view-in-github",
        "colab_type": "text"
      },
      "source": [
        "<a href=\"https://colab.research.google.com/github/Rishikesh1411/Data-Structure-and-Algorithms/blob/main/Dictonaries_sets.ipynb\" target=\"_parent\"><img src=\"https://colab.research.google.com/assets/colab-badge.svg\" alt=\"Open In Colab\"/></a>"
      ]
    },
    {
      "cell_type": "markdown",
      "source": [
        "## SET"
      ],
      "metadata": {
        "id": "iku3s-w_P3CM"
      }
    },
    {
      "cell_type": "code",
      "source": [
        "a = set()\n",
        "print(type(a))"
      ],
      "metadata": {
        "colab": {
          "base_uri": "https://localhost:8080/"
        },
        "id": "FTbCbRPQP4d5",
        "outputId": "4d15645b-fa1b-46eb-896f-b147e6c443e6"
      },
      "execution_count": null,
      "outputs": [
        {
          "output_type": "stream",
          "name": "stdout",
          "text": [
            "<class 'set'>\n"
          ]
        }
      ]
    },
    {
      "cell_type": "code",
      "source": [
        "set1 = {2,4,\"hello\",2,\"abhinav\",\"hello\",2,4}\n",
        "print(set1)"
      ],
      "metadata": {
        "colab": {
          "base_uri": "https://localhost:8080/"
        },
        "id": "goMLrfr7P9hq",
        "outputId": "e8f9db29-602f-458d-b12b-12efaafa2fdd"
      },
      "execution_count": null,
      "outputs": [
        {
          "output_type": "stream",
          "name": "stdout",
          "text": [
            "{2, 4, 'abhinav', 'hello'}\n"
          ]
        }
      ]
    },
    {
      "cell_type": "code",
      "source": [
        "print(type(set1))"
      ],
      "metadata": {
        "colab": {
          "base_uri": "https://localhost:8080/"
        },
        "id": "Xtkqa-rFRlbD",
        "outputId": "4a83787b-5254-4818-a5ee-98d43f2700b3"
      },
      "execution_count": null,
      "outputs": [
        {
          "output_type": "stream",
          "name": "stdout",
          "text": [
            "<class 'set'>\n"
          ]
        }
      ]
    },
    {
      "cell_type": "code",
      "source": [
        "set2 = (2,4,\"hello\",2,\"abhinav\",\"hello\",2,4)\n",
        "print(set2)\n",
        "print(type(set2))"
      ],
      "metadata": {
        "colab": {
          "base_uri": "https://localhost:8080/"
        },
        "id": "lQqMA3xoRoy5",
        "outputId": "0663956a-df48-44b9-9b48-5c15222f8e4d"
      },
      "execution_count": null,
      "outputs": [
        {
          "output_type": "stream",
          "name": "stdout",
          "text": [
            "(2, 4, 'hello', 2, 'abhinav', 'hello', 2, 4)\n",
            "<class 'tuple'>\n"
          ]
        }
      ]
    },
    {
      "cell_type": "code",
      "source": [
        "list1 = [3,4,6,2,4,56,7,5,2,2,4,6,23,2,45,5]\n",
        "## count number of unique elements in this lists\n",
        "set3 = set(list1)\n",
        "print(set3)\n",
        "print(len(set3))"
      ],
      "metadata": {
        "colab": {
          "base_uri": "https://localhost:8080/"
        },
        "id": "hf7I7HfgR1LC",
        "outputId": "644054e6-1680-4fbc-cdc3-4d4f524808d3"
      },
      "execution_count": null,
      "outputs": [
        {
          "output_type": "stream",
          "name": "stdout",
          "text": [
            "{2, 3, 4, 5, 6, 7, 45, 23, 56}\n",
            "9\n"
          ]
        }
      ]
    },
    {
      "cell_type": "code",
      "source": [
        "set1 = {2,4,\"hello\",2,\"abhinav\",\"hello\",2,4}\n",
        "set1.add(100)\n",
        "set1.add(\"hello\")\n",
        "print(set1)"
      ],
      "metadata": {
        "colab": {
          "base_uri": "https://localhost:8080/"
        },
        "id": "f1yLFVYxSo3K",
        "outputId": "db2417c2-160a-4692-fed2-6bc7561fcda3"
      },
      "execution_count": null,
      "outputs": [
        {
          "output_type": "stream",
          "name": "stdout",
          "text": [
            "{2, 100, 4, 'hello', 'abhinav'}\n"
          ]
        }
      ]
    },
    {
      "cell_type": "code",
      "source": [
        "set1.discard(\"hello\")  ## it don't shows error if entity don't exist\n",
        "# set1.remove(\"hello\")  ## it shows error if entity don't exist\n",
        "print(set1)"
      ],
      "metadata": {
        "colab": {
          "base_uri": "https://localhost:8080/"
        },
        "id": "9NMyfGIcS7jj",
        "outputId": "6abe911a-23d1-4b70-c9e2-02d711486095"
      },
      "execution_count": null,
      "outputs": [
        {
          "output_type": "stream",
          "name": "stdout",
          "text": [
            "{2, 100, 4, 'abhinav'}\n"
          ]
        }
      ]
    },
    {
      "cell_type": "code",
      "source": [
        "set1 = {2,4,\"hello\",2,\"abhinav\",\"hello\",2,4}\n",
        "set(set2).clear()\n",
        "print(set2)\n"
      ],
      "metadata": {
        "colab": {
          "base_uri": "https://localhost:8080/"
        },
        "id": "g7y-30yXTOcC",
        "outputId": "1bae37de-a1eb-4ba5-97a4-8a457d7cc2dc"
      },
      "execution_count": null,
      "outputs": [
        {
          "output_type": "stream",
          "name": "stdout",
          "text": [
            "(2, 4, 'hello', 2, 'abhinav', 'hello', 2, 4)\n"
          ]
        }
      ]
    },
    {
      "cell_type": "code",
      "source": [
        "set1 = {1,2,3}\n",
        "set2 = set1\n",
        "set3= set2.copy()\n",
        "\n",
        "set2.add(4)\n",
        "\n",
        "print(set1)\n",
        "print(set2)\n",
        "print(set3)\n"
      ],
      "metadata": {
        "colab": {
          "base_uri": "https://localhost:8080/"
        },
        "id": "DesXPjtQT29r",
        "outputId": "cedc3052-3e63-408a-ca70-429937edaeb9"
      },
      "execution_count": null,
      "outputs": [
        {
          "output_type": "stream",
          "name": "stdout",
          "text": [
            "{1, 2, 3, 4}\n",
            "{1, 2, 3, 4}\n",
            "{1, 2, 3}\n"
          ]
        }
      ]
    },
    {
      "cell_type": "code",
      "source": [
        "set1 = {1,8,5,2,4}\n",
        "set2 = {8,2,9,6}\n",
        "\n",
        "# union\n",
        "print(set1 | set2)\n",
        "print(set1.union(set2))\n",
        "\n",
        "# intersection\n",
        "print(set1 & set2)\n",
        "print(set1.intersection(set2))\n",
        "\n",
        "# difference\n",
        "print(set1 - set2)\n",
        "print(set1.difference(set2))\n",
        "\n",
        "# symmetric difference\n",
        "print(set1 ^ set2)\n",
        "print(set1.symmetric_difference(set2))"
      ],
      "metadata": {
        "colab": {
          "base_uri": "https://localhost:8080/"
        },
        "id": "SX4488maUT4j",
        "outputId": "164c157e-0616-4bab-ee77-ac5df642e51f"
      },
      "execution_count": null,
      "outputs": [
        {
          "output_type": "stream",
          "name": "stdout",
          "text": [
            "{1, 2, 4, 5, 6, 8, 9}\n",
            "{1, 2, 4, 5, 6, 8, 9}\n",
            "{8, 2}\n",
            "{8, 2}\n",
            "{1, 4, 5}\n",
            "{1, 4, 5}\n",
            "{1, 4, 5, 6, 9}\n",
            "{1, 4, 5, 6, 9}\n"
          ]
        }
      ]
    },
    {
      "cell_type": "markdown",
      "source": [
        "## Dictionaries"
      ],
      "metadata": {
        "id": "wj14nR5KWsW0"
      }
    },
    {
      "cell_type": "code",
      "source": [
        "dict1 = {1:\"abhinav\",2:\"hello\",3:\"rishikesh\",4:True}\n",
        "\n",
        "print(dict1)\n",
        "print(type(dict1))"
      ],
      "metadata": {
        "colab": {
          "base_uri": "https://localhost:8080/"
        },
        "id": "YRsnumxOWEsr",
        "outputId": "2e6ccf69-2fcd-4413-c2ce-49d004c6ebd5"
      },
      "execution_count": null,
      "outputs": [
        {
          "output_type": "stream",
          "name": "stdout",
          "text": [
            "{1: 'abhinav', 2: 'hello', 3: 'rishikesh', 4: True}\n",
            "<class 'dict'>\n"
          ]
        }
      ]
    },
    {
      "cell_type": "code",
      "source": [
        "print(dict1[1])\n",
        "print(dict1.get(2))\n",
        "print(dict1.keys())\n",
        "print(dict1.values())\n",
        "print(dict1.items())"
      ],
      "metadata": {
        "colab": {
          "base_uri": "https://localhost:8080/"
        },
        "id": "P_QzCc2GXkGS",
        "outputId": "e5725ffd-6cc8-4225-d11d-a37236b52972"
      },
      "execution_count": null,
      "outputs": [
        {
          "output_type": "stream",
          "name": "stdout",
          "text": [
            "abhinav\n",
            "hello\n",
            "dict_keys([1, 2, 3, 4])\n",
            "dict_values(['abhinav', 'hello', 'rishikesh', True])\n",
            "dict_items([(1, 'abhinav'), (2, 'hello'), (3, 'rishikesh'), (4, True)])\n"
          ]
        }
      ]
    },
    {
      "cell_type": "code",
      "source": [
        "data = {\"name\": \"Rishikesh\", \"age\": 30, \"city\": \"Jamalpur\"}\n",
        "\n",
        "for index, key in enumerate(data):\n",
        "    print(index, key)\n",
        "\n"
      ],
      "metadata": {
        "colab": {
          "base_uri": "https://localhost:8080/"
        },
        "id": "aq-73TEWXtP5",
        "outputId": "a6798461-bf4e-49a6-a4af-4c5882356206"
      },
      "execution_count": null,
      "outputs": [
        {
          "output_type": "stream",
          "name": "stdout",
          "text": [
            "0 name\n",
            "1 age\n",
            "2 city\n"
          ]
        }
      ]
    },
    {
      "cell_type": "code",
      "source": [
        "data = {\"name\": \"Rishikesh\", \"age\": 30, \"city\": \"Jamalpur\"}\n",
        "data[\"age\"] = 31  # Updates age\n",
        "print(data)\n"
      ],
      "metadata": {
        "colab": {
          "base_uri": "https://localhost:8080/"
        },
        "id": "NXTV5EJPYniy",
        "outputId": "4f47b057-27d4-4922-cb84-511ace87c190"
      },
      "execution_count": null,
      "outputs": [
        {
          "output_type": "stream",
          "name": "stdout",
          "text": [
            "{'name': 'Rishikesh', 'age': 31, 'city': 'Jamalpur'}\n"
          ]
        }
      ]
    },
    {
      "cell_type": "code",
      "source": [
        "data.update({\"age\": 32, \"city\": \"Munger\"})\n",
        "print(data)\n"
      ],
      "metadata": {
        "colab": {
          "base_uri": "https://localhost:8080/"
        },
        "id": "Z3M1p-EzY9ba",
        "outputId": "abff6f61-3039-4d74-af8c-4553fd574c7b"
      },
      "execution_count": null,
      "outputs": [
        {
          "output_type": "stream",
          "name": "stdout",
          "text": [
            "{'name': 'Rishikesh', 'age': 32, 'city': 'Munger'}\n"
          ]
        }
      ]
    },
    {
      "cell_type": "code",
      "source": [
        "data.setdefault(\"gender\", \"Male\")  # Adds key if not present\n",
        "print(data)\n"
      ],
      "metadata": {
        "colab": {
          "base_uri": "https://localhost:8080/"
        },
        "id": "AQs0hHQGZA85",
        "outputId": "7866db0c-9a37-4137-f643-3c2c78154fea"
      },
      "execution_count": null,
      "outputs": [
        {
          "output_type": "stream",
          "name": "stdout",
          "text": [
            "{'name': 'Rishikesh', 'age': 32, 'city': 'Munger', 'gender': 'Male'}\n"
          ]
        }
      ]
    },
    {
      "cell_type": "code",
      "source": [
        "data = {key: (value + 1 if key == \"age\" else value) for key, value in data.items()}\n",
        "print(data)\n"
      ],
      "metadata": {
        "colab": {
          "base_uri": "https://localhost:8080/"
        },
        "id": "p5C0PeY8ZNkK",
        "outputId": "b97e4eac-1b0a-4c98-a71c-9a6ef320c385"
      },
      "execution_count": null,
      "outputs": [
        {
          "output_type": "stream",
          "name": "stdout",
          "text": [
            "{'name': 'Rishikesh', 'age': 33, 'city': 'Munger', 'gender': 'Male'}\n"
          ]
        }
      ]
    },
    {
      "cell_type": "code",
      "source": [
        "data = {\"name\": \"Rishikesh\", \"age\": 30}\n",
        "data[\"city\"] = \"Jamalpur\"  # Adding a new key-value pair\n",
        "print(data)\n"
      ],
      "metadata": {
        "colab": {
          "base_uri": "https://localhost:8080/"
        },
        "id": "RfQgOoU5ZRt6",
        "outputId": "14aed188-803e-4c05-e768-4a6cd4c287a5"
      },
      "execution_count": null,
      "outputs": [
        {
          "output_type": "stream",
          "name": "stdout",
          "text": [
            "{'name': 'Rishikesh', 'age': 30, 'city': 'Jamalpur'}\n"
          ]
        }
      ]
    },
    {
      "cell_type": "code",
      "source": [
        "data.update({\"country\": \"India\", \"gender\": \"Male\"})\n",
        "print(data)\n"
      ],
      "metadata": {
        "colab": {
          "base_uri": "https://localhost:8080/"
        },
        "id": "vwgFRPgcZnrK",
        "outputId": "dbf1238d-1dd0-471b-cf8e-f772f53e2797"
      },
      "execution_count": null,
      "outputs": [
        {
          "output_type": "stream",
          "name": "stdout",
          "text": [
            "{'name': 'Rishikesh', 'age': 30, 'city': 'Jamalpur', 'country': 'India', 'gender': 'Male'}\n"
          ]
        }
      ]
    },
    {
      "cell_type": "code",
      "source": [
        "data.setdefault(\"hobby\", \"Coding\")\n",
        "print(data)\n"
      ],
      "metadata": {
        "colab": {
          "base_uri": "https://localhost:8080/"
        },
        "id": "3pTgXNSwZq-h",
        "outputId": "f6b6111c-b20e-40f5-fb0c-2f36130e46fc"
      },
      "execution_count": null,
      "outputs": [
        {
          "output_type": "stream",
          "name": "stdout",
          "text": [
            "{'name': 'Rishikesh', 'age': 30, 'city': 'Jamalpur', 'country': 'India', 'gender': 'Male', 'hobby': 'Coding'}\n"
          ]
        }
      ]
    },
    {
      "cell_type": "code",
      "source": [
        "new_data = {**data, \"profession\": \"Line Leader\"}\n",
        "print(new_data)\n"
      ],
      "metadata": {
        "colab": {
          "base_uri": "https://localhost:8080/"
        },
        "id": "lrgjMIW4Z1rB",
        "outputId": "50c2c87e-7bce-4657-e389-5ee1d088fa1b"
      },
      "execution_count": null,
      "outputs": [
        {
          "output_type": "stream",
          "name": "stdout",
          "text": [
            "{'name': 'Rishikesh', 'age': 30, 'city': 'Jamalpur', 'country': 'India', 'gender': 'Male', 'hobby': 'Coding', 'profession': 'Line Leader'}\n"
          ]
        }
      ]
    },
    {
      "cell_type": "code",
      "source": [
        "data = dict(data, experience=\"5 years\")\n",
        "print(data)\n"
      ],
      "metadata": {
        "colab": {
          "base_uri": "https://localhost:8080/"
        },
        "id": "18-E1rjJZ3qy",
        "outputId": "752108ac-841f-48ee-ab3a-a6e72a3327ca"
      },
      "execution_count": null,
      "outputs": [
        {
          "output_type": "stream",
          "name": "stdout",
          "text": [
            "{'name': 'Rishikesh', 'age': 30, 'city': 'Jamalpur', 'country': 'India', 'gender': 'Male', 'hobby': 'Coding', 'experience': '5 years'}\n"
          ]
        }
      ]
    },
    {
      "cell_type": "code",
      "source": [
        "data = {\"name\": \"Rishikesh\", \"age\": 30, \"city\": \"Jamalpur\"}\n",
        "del data[\"age\"]  # Removes 'age' key\n",
        "print(data)\n"
      ],
      "metadata": {
        "colab": {
          "base_uri": "https://localhost:8080/"
        },
        "id": "1u3JtXq2Z92K",
        "outputId": "5afe869f-6591-47c5-b117-9b5781705d02"
      },
      "execution_count": null,
      "outputs": [
        {
          "output_type": "stream",
          "name": "stdout",
          "text": [
            "{'name': 'Rishikesh', 'city': 'Jamalpur'}\n"
          ]
        }
      ]
    },
    {
      "cell_type": "code",
      "source": [
        "removed_value = data.pop(\"city\")  # Removes 'city' and returns its value\n",
        "print(data)\n",
        "print(\"Removed:\", removed_value)\n"
      ],
      "metadata": {
        "colab": {
          "base_uri": "https://localhost:8080/"
        },
        "id": "4mGLdijOak-C",
        "outputId": "7605e683-0d36-4412-cc4c-6af45c1ad22b"
      },
      "execution_count": null,
      "outputs": [
        {
          "output_type": "stream",
          "name": "stdout",
          "text": [
            "{'name': 'Rishikesh'}\n",
            "Removed: Jamalpur\n"
          ]
        }
      ]
    },
    {
      "cell_type": "code",
      "source": [
        "data.popitem()  # Removes the last inserted item\n",
        "print(data)\n"
      ],
      "metadata": {
        "colab": {
          "base_uri": "https://localhost:8080/"
        },
        "id": "fu2sA3-aaqo6",
        "outputId": "32133cb5-79c9-449b-8d79-398b61683c0a"
      },
      "execution_count": null,
      "outputs": [
        {
          "output_type": "stream",
          "name": "stdout",
          "text": [
            "{}\n"
          ]
        }
      ]
    },
    {
      "cell_type": "code",
      "source": [
        "data = {key: value for key, value in data.items() if key != \"name\"}\n",
        "print(data)\n"
      ],
      "metadata": {
        "colab": {
          "base_uri": "https://localhost:8080/"
        },
        "id": "quZcXINvaxoq",
        "outputId": "b1a86f84-127d-47f6-b5a6-e135614a3a68"
      },
      "execution_count": null,
      "outputs": [
        {
          "output_type": "stream",
          "name": "stdout",
          "text": [
            "{}\n"
          ]
        }
      ]
    },
    {
      "cell_type": "code",
      "source": [
        "data.clear()\n",
        "print(data)  # Output: {}\n"
      ],
      "metadata": {
        "colab": {
          "base_uri": "https://localhost:8080/"
        },
        "id": "E8wMCJZha11y",
        "outputId": "d56b2ad2-f2ec-4015-a3ac-98d3b45c4274"
      },
      "execution_count": null,
      "outputs": [
        {
          "output_type": "stream",
          "name": "stdout",
          "text": [
            "{}\n"
          ]
        }
      ]
    },
    {
      "cell_type": "code",
      "source": [
        "list1 = [\"abhinav\",\"aman\",\"yash\",\"aman\",\"rahul\",\"abhinav\",\"yash\"]\n",
        "freq = {}\n",
        "\n",
        "for name in list1:\n",
        "  if name not in freq:\n",
        "    freq[name]=1\n",
        "  else:\n",
        "    freq[name]+=1\n",
        "\n",
        "print(freq)"
      ],
      "metadata": {
        "colab": {
          "base_uri": "https://localhost:8080/"
        },
        "id": "JbAgqLWwa9Ly",
        "outputId": "043e221a-32ce-4f3d-ed2e-2a7b9ad08b9d"
      },
      "execution_count": null,
      "outputs": [
        {
          "output_type": "stream",
          "name": "stdout",
          "text": [
            "{'abhinav': 2, 'aman': 2, 'yash': 2, 'rahul': 1}\n"
          ]
        }
      ]
    },
    {
      "cell_type": "code",
      "source": [
        "s = 'physics wallah skills'\n",
        "\n",
        "freq = {}\n",
        "\n",
        "for name in s:\n",
        "  if name not in freq:\n",
        "    freq[name]=1\n",
        "  else:\n",
        "    freq[name]+=1\n",
        "\n",
        "print(freq)"
      ],
      "metadata": {
        "colab": {
          "base_uri": "https://localhost:8080/"
        },
        "id": "DHvwMPUFco06",
        "outputId": "a640c543-a0ac-4c2b-d098-9cd1b677f704"
      },
      "execution_count": null,
      "outputs": [
        {
          "output_type": "stream",
          "name": "stdout",
          "text": [
            "{'p': 1, 'h': 2, 'y': 1, 's': 4, 'i': 2, 'c': 1, ' ': 2, 'w': 1, 'a': 2, 'l': 4, 'k': 1}\n"
          ]
        }
      ]
    },
    {
      "cell_type": "code",
      "source": [
        "# Using Python's built-in hash function\n",
        "data = \"hello\"\n",
        "print(hash(data))  # Generates a unique integer hash\n"
      ],
      "metadata": {
        "id": "SMMISHE5c8PS",
        "colab": {
          "base_uri": "https://localhost:8080/"
        },
        "outputId": "9231e8c5-ccf3-4c62-8d0f-0c331e1666a6"
      },
      "execution_count": 1,
      "outputs": [
        {
          "output_type": "stream",
          "name": "stdout",
          "text": [
            "-4194517296990530333\n"
          ]
        }
      ]
    },
    {
      "cell_type": "code",
      "source": [
        "###  Leetcode --(1) Two sum\n",
        "class Solution(object):\n",
        "    def twoSum(self, nums, target):\n",
        "        # Step 1: Find the number of elements in the list\n",
        "        n = len(nums)\n",
        "\n",
        "        # Step 2: Create an empty dictionary to store numbers and their indices\n",
        "        dict1 = {}\n",
        "\n",
        "        # Step 3: Iterate through the list using an index variable i\n",
        "        for i in range(n):\n",
        "            # Step 4: Calculate the complement (remaining value needed)\n",
        "            rem = target - nums[i]\n",
        "\n",
        "            # Step 5: Check if the complement (rem) exists in the dictionary\n",
        "            if rem in dict1:\n",
        "                return [dict1[rem], i]  # Return indices of the two numbers forming the target\n",
        "\n",
        "            # Step 6: Store the current number in the dictionary along with its index\n",
        "            dict1[nums[i]] = i\n",
        "\n",
        "# Example Test Cases\n",
        "solution = Solution()\n",
        "\n",
        "# Example 1\n",
        "nums1 = [2, 7, 11, 15]\n",
        "target1 = 9\n",
        "print(solution.twoSum(nums1, target1))  # Expected Output: [0, 1] (since 2 + 7 = 9)\n",
        "\n",
        "# Example 2\n",
        "nums2 = [3, 2, 4]\n",
        "target2 = 6\n",
        "print(solution.twoSum(nums2, target2))  # Expected Output: [1, 2] (since 2 + 4 = 6)\n",
        "\n",
        "# Example 3\n",
        "nums3 = [1, 5, 3, 6]\n",
        "target3 = 8\n",
        "print(solution.twoSum(nums3, target3))  # Expected Output: [1, 3] (since 5 + 3 = 8)\n",
        "\n",
        "# Example 4\n",
        "nums4 = [10, 20, 30, 40, 50]\n",
        "target4 = 70\n",
        "print(solution.twoSum(nums4, target4))  # Expected Output: [2, 3] (since 30 + 40 = 70)\n",
        "\n"
      ],
      "metadata": {
        "colab": {
          "base_uri": "https://localhost:8080/"
        },
        "id": "Atwz1vlkSv33",
        "outputId": "092c1c10-3d25-4998-b346-1f3a757ac399"
      },
      "execution_count": 2,
      "outputs": [
        {
          "output_type": "stream",
          "name": "stdout",
          "text": [
            "[0, 1]\n",
            "[1, 2]\n",
            "[1, 2]\n",
            "[2, 3]\n"
          ]
        }
      ]
    },
    {
      "cell_type": "code",
      "source": [
        "## Leetcode(167)------\n",
        "class Solution(object):\n",
        "    def twoSum(self, numbers, target):\n",
        "        # Step 1: Get the length of the numbers list\n",
        "        n = len(numbers)\n",
        "\n",
        "        # Step 2: Create an empty dictionary to store numbers and their indices\n",
        "        dic = {}\n",
        "\n",
        "        # Step 3: Loop through the list elements\n",
        "        for i in range(n):\n",
        "            # Step 4: Compute the complement (remaining value needed)\n",
        "            rem = target - numbers[i]\n",
        "\n",
        "            # Step 5: Check if the complement exists in the dictionary\n",
        "            if rem in dic:\n",
        "                # Since the problem requires 1-based indices, we return dic[rem]+1, i+1\n",
        "                return [dic[rem] + 1, i + 1]\n",
        "\n",
        "            # Step 6: Store the number in the dictionary with its index\n",
        "            dic[numbers[i]] = i\n",
        "solution = Solution()\n",
        "\n",
        "# Example 1: Input with 1-based index output\n",
        "nums1 = [2, 7, 11, 15]\n",
        "target1 = 9\n",
        "print(solution.twoSum(nums1, target1))  # Expected Output: [1, 2] (since 2 + 7 = 9)\n",
        "\n",
        "# Example 2: Different numbers with 1-based indices\n",
        "nums2 = [3, 2, 4]\n",
        "target2 = 6\n",
        "print(solution.twoSum(nums2, target2))  # Expected Output: [2, 3] (since 2 + 4 = 6)\n",
        "\n",
        "# Example 3: Handling another case with correct index shifting\n",
        "nums3 = [1, 5, 3, 6]\n",
        "target3 = 8\n",
        "print(solution.twoSum(nums3, target3))  # Expected Output: [2, 4] (since 5 + 3 = 8)\n"
      ],
      "metadata": {
        "colab": {
          "base_uri": "https://localhost:8080/"
        },
        "id": "V2x9rLUkXJ-w",
        "outputId": "0db0d052-b646-4926-c6cd-21380a636eb9"
      },
      "execution_count": 3,
      "outputs": [
        {
          "output_type": "stream",
          "name": "stdout",
          "text": [
            "[1, 2]\n",
            "[2, 3]\n",
            "[2, 3]\n"
          ]
        }
      ]
    },
    {
      "cell_type": "code",
      "source": [
        "class Solution(object):\n",
        "    def twoSum(self, numbers, target):\n",
        "        # Step 1: Initialize two pointers\n",
        "        left = 0  # Points to the start of the list\n",
        "        right = len(numbers) - 1  # Points to the end of the list\n",
        "\n",
        "        # Step 2: Loop while left pointer is smaller than right pointer\n",
        "        while left < right:\n",
        "            # Step 3: Calculate the sum of values at left and right positions\n",
        "            sum1 = numbers[left] + numbers[right]\n",
        "\n",
        "            # Step 4: If the sum matches the target, return the 1-based indices\n",
        "            if sum1 == target:\n",
        "                return [left + 1, right + 1]  # 1-based index output (not 0-based)\n",
        "\n",
        "            # Step 5: If sum is too large, decrease right pointer to reduce the sum\n",
        "            elif sum1 > target:\n",
        "                right -= 1\n",
        "\n",
        "            # Step 6: If sum is too small, increase left pointer to increase the sum\n",
        "            else:\n",
        "                left += 1\n",
        "\n",
        "        # If no solution is found, return an empty list (though the problem assumes a solution exists)\n",
        "        return []\n",
        "\n",
        "\n",
        "solution = Solution()\n",
        "\n",
        "# Example 1: Sorted Input\n",
        "nums1 = [2, 7, 11, 15]\n",
        "target1 = 9\n",
        "print(solution.twoSum(nums1, target1))  # Expected Output: [1, 2] (since 2 + 7 = 9)\n",
        "\n",
        "# Example 2: Another sorted array\n",
        "nums2 = [1, 3, 5, 7, 9]\n",
        "target2 = 10\n",
        "print(solution.twoSum(nums2, target2))  # Expected Output: [2, 4] (since 3 + 7 = 10)\n",
        "\n",
        "# Example 3: Edge Case where numbers are consecutive\n",
        "nums3 = [1, 2, 3, 4, 5, 6]\n",
        "target3 = 7\n",
        "print(solution.twoSum(nums3, target3))  # Expected Output: [2, 5] (since 2 + 5 = 7)\n",
        "\n",
        "# Example 4: Handling a large sorted input\n",
        "nums4 = [10, 20, 30, 40, 50, 60]\n",
        "target4 = 90\n",
        "print(solution.twoSum(nums4, target4))  # Expected Output: [5, 6] (since 40 + 50 = 90)\n",
        "\n"
      ],
      "metadata": {
        "colab": {
          "base_uri": "https://localhost:8080/"
        },
        "id": "s69HVzyKZjiX",
        "outputId": "4f0a42ee-0f28-475b-f47e-1d78fa8cf630"
      },
      "execution_count": 4,
      "outputs": [
        {
          "output_type": "stream",
          "name": "stdout",
          "text": [
            "[1, 2]\n",
            "[1, 5]\n",
            "[1, 6]\n",
            "[3, 6]\n"
          ]
        }
      ]
    },
    {
      "cell_type": "code",
      "source": [
        "## 349(Leetcode)--Intersection of two arrays\n",
        "\n",
        "class Solution(object):\n",
        "    def intersection(self, nums1, nums2):\n",
        "        # Step 1: Create an empty list to store the intersection elements\n",
        "        list1 = []\n",
        "\n",
        "        # Step 2: Iterate through the first list (nums1)\n",
        "        for i in nums1:\n",
        "            # Step 3: Check if the current element exists in the second list (nums2)\n",
        "            if i in nums2:\n",
        "                # Step 4: Prevent duplicate values in the intersection list\n",
        "                if i in list1:\n",
        "                    pass  # Skip adding if the value is already present\n",
        "                else:\n",
        "                    list1.append(i)  # Add unique intersection values\n",
        "\n",
        "        # Step 5: Return the intersection list\n",
        "        return list1\n",
        "\n",
        "# Example Test Cases\n",
        "solution = Solution()\n",
        "\n",
        "# Example 1: Basic intersection\n",
        "nums1 = [1, 2, 2, 3, 4]\n",
        "nums2 = [2, 3, 5]\n",
        "print(solution.intersection(nums1, nums2))  # Expected Output: [2, 3]\n",
        "\n"
      ],
      "metadata": {
        "colab": {
          "base_uri": "https://localhost:8080/"
        },
        "id": "ncsy7a3kbWZ4",
        "outputId": "3e769fd1-2578-4e2c-d70e-b4e84c310bde"
      },
      "execution_count": 5,
      "outputs": [
        {
          "output_type": "stream",
          "name": "stdout",
          "text": [
            "[2, 3]\n"
          ]
        }
      ]
    },
    {
      "cell_type": "code",
      "source": [
        "class Solution(object):\n",
        "    def intersection(self, nums1, nums2):\n",
        "        # Step 1: Convert nums1 into a set\n",
        "        set1 = set(nums1)  # This removes duplicates and allows O(1) lookups\n",
        "        # Example: nums1 = [1, 2, 2, 3, 4] → set1 = {1, 2, 3, 4}\n",
        "\n",
        "        # Step 2: Convert nums2 into a set\n",
        "        set2 = set(nums2)  # Similar to set1, this removes duplicates\n",
        "        # Example: nums2 = [2, 3, 5] → set2 = {2, 3, 5}\n",
        "\n",
        "        # Step 3: Find the intersection between set1 and set2\n",
        "        set3 = set1.intersection(set2)  # Efficient O(min(n1, n2)) operation\n",
        "        # Example: set1 = {1, 2, 3, 4}, set2 = {2, 3, 5}\n",
        "        # Intersection = {2, 3}\n",
        "\n",
        "        # Step 4: Convert the set to a list and return it\n",
        "        return list(set3)  # Converts the intersection set into a list\n",
        "        # Output Example: [2, 3]\n",
        "\n",
        "# Example Usage\n",
        "solution = Solution()\n",
        "\n",
        "nums1 = [1, 2, 2, 3, 4]\n",
        "nums2 = [2, 3, 5]\n",
        "print(solution.intersection(nums1, nums2))  # Expected Output: [2, 3]\n",
        "\n",
        "# ================================\n",
        "# Time Complexity Analysis:\n",
        "# ================================\n",
        "# set(nums1) takes O(n1) time.\n",
        "# set(nums2) takes O(n2) time.\n",
        "# intersection operation takes O(min(n1, n2)) time.\n",
        "# list(set3) takes O(k), where k is the number of intersecting elements.\n",
        "# Overall, the complexity is **O(n1 + n2)** (linear).\n",
        "\n",
        "# ================================\n",
        "# Space Complexity Analysis:\n",
        "# ================================\n",
        "# set1 stores unique elements → O(n1).\n",
        "# set2 stores unique elements → O(n2).\n",
        "# set3 stores common elements → O(k), where k ≤ min(n1, n2).\n",
        "# list(set3) also requires O(k) space.\n",
        "# Overall, space complexity is **O(n1 + n2)** (linear).\n",
        "\n"
      ],
      "metadata": {
        "colab": {
          "base_uri": "https://localhost:8080/"
        },
        "id": "6Utg3VjFeIfg",
        "outputId": "f7bef3fc-e107-4513-a0fb-848b902af3e5"
      },
      "execution_count": 6,
      "outputs": [
        {
          "output_type": "stream",
          "name": "stdout",
          "text": [
            "[2, 3]\n"
          ]
        }
      ]
    },
    {
      "cell_type": "code",
      "source": [
        "## Leetcode(387)-----\n",
        "class Solution(object):\n",
        "    def firstUniqChar(self, s):\n",
        "        # Step 1: Create a dictionary to store character frequencies\n",
        "        freq = {}\n",
        "\n",
        "        # Step 2: Iterate through the string and count occurrences of each character\n",
        "        for i in s:\n",
        "            if i not in freq:\n",
        "                freq[i] = 1  # First occurrence, set count to 1\n",
        "            else:\n",
        "                freq[i] += 1  # Increment count for repeated characters\n",
        "\n",
        "        # Step 3: Iterate through the string again to find the first unique character\n",
        "        for i in range(len(s)):\n",
        "            if freq[s[i]] == 1:  # If frequency is 1, it's the first unique character\n",
        "                return i  # Return its index\n",
        "\n",
        "        # Step 4: If no unique character is found, return -1\n",
        "        return -1\n",
        "\n",
        "# Example Test Cases\n",
        "solution = Solution()\n",
        "\n",
        "# Example 1: Basic test case\n",
        "s1 = \"leetcode\"\n",
        "print(solution.firstUniqChar(s1))  # Expected Output: 0 (First unique character is 'l')\n",
        "\n"
      ],
      "metadata": {
        "colab": {
          "base_uri": "https://localhost:8080/"
        },
        "id": "YGmSUIAPe_6f",
        "outputId": "8c75ffc6-424b-4dc5-e916-09a8e7e1e2dd"
      },
      "execution_count": 7,
      "outputs": [
        {
          "output_type": "stream",
          "name": "stdout",
          "text": [
            "0\n"
          ]
        }
      ]
    },
    {
      "cell_type": "code",
      "source": [
        "## Leetcode(242)-----\n",
        "class Solution(object):\n",
        "    def isAnagram(self, s, t):\n",
        "        # Step 1: If the lengths of s and t are different, they can't be anagrams.\n",
        "        if len(s) != len(t):\n",
        "            return False  # Example: \"cat\" vs \"cats\" → False\n",
        "\n",
        "        # Step 2: Create a frequency dictionary to count occurrences of characters in s.\n",
        "        freq = {}\n",
        "\n",
        "        # Step 3: Populate the frequency dictionary with counts from string s.\n",
        "        for i in s:\n",
        "            if i not in freq:\n",
        "                freq[i] = 1  # First occurrence of character\n",
        "            else:\n",
        "                freq[i] += 1  # Increment count for repeated characters\n",
        "        # Example: s = \"anagram\" → freq = {'a': 3, 'n': 1, 'g': 1, 'r': 1, 'm': 1}\n",
        "\n",
        "        # Step 4: Reduce the count for characters found in string t.\n",
        "        for i in t:\n",
        "            if i not in freq:  # If character not found in frequency dictionary, return False\n",
        "                return False\n",
        "            else:\n",
        "                freq[i] -= 1  # Decrease count when character appears in t\n",
        "\n",
        "        # Step 5: If any value in the frequency dictionary is non-zero, return False.\n",
        "        for i in freq.values():\n",
        "            if i != 0:  # If any character count is mismatched, it's not an anagram.\n",
        "                return False\n",
        "\n",
        "        # Step 6: If all counts match, return True (s and t are anagrams).\n",
        "        return True\n",
        "\n",
        "# Example Test Cases\n",
        "solution = Solution()\n",
        "\n",
        "# Example 1: Standard anagram test\n",
        "s1 = \"anagram\"\n",
        "t1 = \"nagaram\"\n",
        "print(solution.isAnagram(s1, t1))  # Expected Output: True\n",
        "\n",
        "# Example 2: Strings of different lengths\n",
        "s2 = \"rat\"\n",
        "t2 = \"car\"\n",
        "print(solution.isAnagram(s2, t2))  # Expected Output: False\n",
        "\n",
        "\n"
      ],
      "metadata": {
        "colab": {
          "base_uri": "https://localhost:8080/"
        },
        "id": "19UDPr1Ykv1Z",
        "outputId": "28ba410a-d5ae-4c91-bb8a-33c757c8bbdd"
      },
      "execution_count": 8,
      "outputs": [
        {
          "output_type": "stream",
          "name": "stdout",
          "text": [
            "True\n",
            "False\n"
          ]
        }
      ]
    },
    {
      "cell_type": "code",
      "source": [
        "## Leetcode(49)-------\n",
        "class Solution(object):\n",
        "    def sortString(self, s):\n",
        "        # Step 1: Convert the string into a list of characters\n",
        "        s = list(s)  # Example: s = \"tea\" → ['t', 'e', 'a']\n",
        "\n",
        "        # Step 2: Sort the list alphabetically\n",
        "        s.sort()  # Example: ['t', 'e', 'a'] → ['a', 'e', 't']\n",
        "\n",
        "        # Step 3: Join the sorted characters back into a string\n",
        "        return \"\".join(s)  # Example: ['a', 'e', 't'] → \"aet\"\n",
        "\n",
        "    def groupAnagrams(self, strs):\n",
        "        # Step 4: Create an empty dictionary to store groups of anagrams\n",
        "        dict1 = {}\n",
        "\n",
        "        # Step 5: Iterate over each string in the list\n",
        "        for s in strs:\n",
        "            # Step 6: Get a sorted version of the string to use as a unique key\n",
        "            key = self.sortString(s)\n",
        "            # Example: strs = [\"eat\", \"tea\", \"tan\", \"ate\", \"nat\", \"bat\"]\n",
        "            # Sorted keys: [\"aet\", \"aet\", \"ant\", \"aet\", \"ant\", \"abt\"]\n",
        "\n",
        "            # Step 7: If the key already exists in the dictionary, append the word\n",
        "            if key in dict1:\n",
        "                dict1[key].append(s)\n",
        "                # Example: dict1 = {\"aet\": [\"eat\", \"tea\", \"ate\"], \"ant\": [\"tan\", \"nat\"], \"abt\": [\"bat\"]}\n",
        "            else:\n",
        "                # Step 8: If the key does not exist, create a new list\n",
        "                dict1[key] = [s]\n",
        "\n",
        "        # Step 9: Return the grouped anagrams as a list of lists\n",
        "        return list(dict1.values())\n",
        "        # Example: [['eat', 'tea', 'ate'], ['tan', 'nat'], ['bat']]\n",
        "\n",
        "# Example Usage\n",
        "solution = Solution()\n",
        "\n",
        "# Example Test Case\n",
        "strs1 = [\"eat\", \"tea\", \"tan\", \"ate\", \"nat\", \"bat\"]\n",
        "print(solution.groupAnagrams(strs1))\n",
        "# Expected Output: [['eat', 'tea', 'ate'], ['tan', 'nat'], ['bat']]\n"
      ],
      "metadata": {
        "colab": {
          "base_uri": "https://localhost:8080/"
        },
        "id": "LSiFGCAQpw0K",
        "outputId": "a25ed064-84db-4b39-bd3a-45192e2bfe42"
      },
      "execution_count": 9,
      "outputs": [
        {
          "output_type": "stream",
          "name": "stdout",
          "text": [
            "[['eat', 'tea', 'ate'], ['tan', 'nat'], ['bat']]\n"
          ]
        }
      ]
    },
    {
      "cell_type": "code",
      "source": [
        "## Leetcode(1876)-----\n",
        "class Solution(object):\n",
        "    def countGoodSubstrings(self, s):\n",
        "        # Step 1: Get the length of the string\n",
        "        n = len(s)  # O(1) time complexity\n",
        "\n",
        "        # Step 2: Initialize a counter for valid substrings\n",
        "        ans = 0  # O(1) space complexity\n",
        "\n",
        "        # Step 3: Loop through the string, checking substrings of length 3\n",
        "        for i in range(n-2):  # O(n) time complexity, iterating through the string\n",
        "            # Step 4: Check if three consecutive characters are unique\n",
        "            if s[i] != s[i+1] and s[i+1] != s[i+2] and s[i+2] != s[i]:\n",
        "                ans += 1  # O(1) time complexity (increment operation)\n",
        "\n",
        "        # Step 5: Return the count of good substrings\n",
        "        return ans  # O(1) space complexity\n",
        "\n",
        "# Example Test Case\n",
        "solution = Solution()\n",
        "\n",
        "s1 = \"xyzzaz\"\n",
        "print(solution.countGoodSubstrings(s1))  # Expected Output: 1 (Only \"xyz\" is unique)\n",
        "\n",
        "# ================================\n",
        "# Time Complexity Analysis:\n",
        "# ================================\n",
        "# - Finding length `n` → O(1)\n",
        "# - Looping through the string → O(n)\n",
        "# - Checking uniqueness of substring → O(1)\n",
        "# - Increment operation → O(1)\n",
        "# - Final complexity → **O(n) linear**\n",
        "\n",
        "# ================================\n",
        "# Space Complexity Analysis:\n",
        "# ================================\n",
        "# - `ans` variable → O(1)\n",
        "# - No extra data structures used → O(1)\n",
        "# - Final complexity → **O(1) constant space**\n"
      ],
      "metadata": {
        "colab": {
          "base_uri": "https://localhost:8080/"
        },
        "id": "mxjXDHoGtWVp",
        "outputId": "248ce04a-b2c8-42a5-ae75-4d7a42c6256f"
      },
      "execution_count": 10,
      "outputs": [
        {
          "output_type": "stream",
          "name": "stdout",
          "text": [
            "1\n"
          ]
        }
      ]
    },
    {
      "cell_type": "code",
      "source": [
        "## Leetcode(3)\n",
        "class Solution(object):\n",
        "    def lengthOfLongestSubstring(self, s):\n",
        "        # Step 1: Get the length of the input string\n",
        "        n = len(s)  # O(1) time complexity\n",
        "\n",
        "        # Step 2: Handle edge case where input is empty\n",
        "        if n == 0:\n",
        "            return 0  # O(1) space complexity\n",
        "\n",
        "        # Step 3: Initialize variables\n",
        "        ans = 1  # Keeps track of the longest unique substring length (O(1) space)\n",
        "        set1 = set()  # Stores unique characters (O(min(n, 26)) space)\n",
        "\n",
        "        # Step 4: Add the first character to the set (if string is not empty)\n",
        "        set1.add(s[0])  # O(1) time complexity\n",
        "\n",
        "        # Step 5: Define two pointers for the sliding window approach\n",
        "        i = 0  # Left pointer (O(1) space)\n",
        "        j = 1  # Right pointer (O(1) space)\n",
        "\n",
        "        # Step 6: Traverse through the string using the right pointer (j)\n",
        "        while j < n:  # O(n) time complexity, iterates through the string\n",
        "            # Step 7: If duplicate character found, move the left pointer\n",
        "            while s[j] in set1:  # O(1) lookup time in a set\n",
        "                set1.discard(s[i])  # Remove left character to shrink window (O(1) time)\n",
        "                i += 1  # Move left pointer forward (O(1) space)\n",
        "\n",
        "            # Step 8: Add the new character into the set and update the right pointer\n",
        "            set1.add(s[j])  # O(1) time\n",
        "            j += 1  # O(1) space\n",
        "\n",
        "            # Step 9: Update the maximum length found so far\n",
        "            ans = max(ans, j - i)  # O(1) time complexity\n",
        "\n",
        "        # Step 10: Return the length of the longest substring without repeating characters\n",
        "        return ans  # O(1) space complexity\n",
        "\n",
        "# Example Test Cases\n",
        "solution = Solution()\n",
        "\n",
        "# Example 1: Basic test case\n",
        "s1 = \"abcabcbb\"\n",
        "print(solution.lengthOfLongestSubstring(s1))\n",
        "# Expected Output: 3 (Longest substring: \"abc\")\n",
        "\n",
        "# Example 2: No repeating characters\n",
        "s2 = \"abcdef\"\n",
        "print(solution.lengthOfLongestSubstring(s2))\n",
        "# Expected Output: 6 (Longest substring: \"abcdef\")\n",
        "\n",
        "\n"
      ],
      "metadata": {
        "colab": {
          "base_uri": "https://localhost:8080/"
        },
        "id": "Z7HR4xJYvVGj",
        "outputId": "b6f27577-9dfe-4d0c-ff0b-07b4a954fc0b"
      },
      "execution_count": 11,
      "outputs": [
        {
          "output_type": "stream",
          "name": "stdout",
          "text": [
            "3\n",
            "6\n",
            "1\n",
            "3\n",
            "0\n"
          ]
        }
      ]
    },
    {
      "cell_type": "code",
      "source": [
        "class Solution(object):\n",
        "    def lengthOfLongestSubstring(self, s):\n",
        "        # Step 1: Get the length of the string\n",
        "        n = len(s)  # O(1) time complexity\n",
        "\n",
        "        # Step 2: Handle edge case when input string is empty\n",
        "        if n == 0:\n",
        "            return 0  # O(1) time, O(1) space\n",
        "\n",
        "        # Step 3: Initialize variables\n",
        "        ans = 1  # Stores the max length found so far (O(1) space)\n",
        "        set1 = set()  # Stores characters in current substring (O(min(n, 26)) space)\n",
        "\n",
        "        # Step 4: Add the first character to the set if string is not empty\n",
        "        set1.add(s[0])  # O(1) time complexity\n",
        "\n",
        "        # Step 5: Define two pointers for the sliding window approach\n",
        "        i = 0  # Left pointer (O(1) space)\n",
        "        j = 1  # Right pointer (O(1) space)\n",
        "\n",
        "        # Step 6: Traverse through the string using the right pointer (j)\n",
        "        while j < n:  # O(n) time complexity (iterates through the string)\n",
        "            # Step 7: If duplicate character is found, remove leftmost character and shift left pointer\n",
        "            while s[j] in set1:  # O(1) lookup in the set\n",
        "                set1.discard(s[i])  # Remove left character from the set (O(1) operation)\n",
        "                i += 1  # Move left pointer forward (O(1) space)\n",
        "\n",
        "            # Step 8: Add the new character into the set and update right pointer\n",
        "            set1.add(s[j])  # O(1) time complexity\n",
        "            j += 1  # O(1) space complexity\n",
        "\n",
        "            # Step 9: Update the maximum substring length found so far\n",
        "            ans = max(ans, j - i)  # Correct window size calculation (O(1) time)\n",
        "\n",
        "        # Step 10: Return the final result\n",
        "        return ans  # O(1) space complexity\n",
        "\n",
        "# Example Test Cases\n",
        "solution = Solution()\n",
        "\n",
        "# Example 1: Basic test case with repeated characters\n",
        "s1 = \"abcabcbb\"\n",
        "print(solution.lengthOfLongestSubstring(s1))  # Expected Output: 3 (\"abc\")\n",
        "\n",
        "# Example 2: No repeating characters\n",
        "s2 = \"abcdef\"\n",
        "print(solution.lengthOfLongestSubstring(s2))  # Expected Output: 6 (\"abcdef\")\n"
      ],
      "metadata": {
        "colab": {
          "base_uri": "https://localhost:8080/"
        },
        "id": "HRnj0Hb-ySzC",
        "outputId": "fc4131af-b1cd-453d-ae2b-e4c626830ef2"
      },
      "execution_count": 13,
      "outputs": [
        {
          "output_type": "stream",
          "name": "stdout",
          "text": [
            "3\n",
            "6\n"
          ]
        }
      ]
    },
    {
      "cell_type": "code",
      "source": [],
      "metadata": {
        "id": "bzdISPGZzOby"
      },
      "execution_count": null,
      "outputs": []
    }
  ]
}