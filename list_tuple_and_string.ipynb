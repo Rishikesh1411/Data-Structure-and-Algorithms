{
  "nbformat": 4,
  "nbformat_minor": 0,
  "metadata": {
    "colab": {
      "provenance": [],
      "authorship_tag": "ABX9TyOwsb9rbBznTDvPUSIqUUCB",
      "include_colab_link": true
    },
    "kernelspec": {
      "name": "python3",
      "display_name": "Python 3"
    },
    "language_info": {
      "name": "python"
    }
  },
  "cells": [
    {
      "cell_type": "markdown",
      "metadata": {
        "id": "view-in-github",
        "colab_type": "text"
      },
      "source": [
        "<a href=\"https://colab.research.google.com/github/Rishikesh1411/Data-Structure-and-Algorithms/blob/main/list_tuple_and_string.ipynb\" target=\"_parent\"><img src=\"https://colab.research.google.com/assets/colab-badge.svg\" alt=\"Open In Colab\"/></a>"
      ]
    },
    {
      "cell_type": "code",
      "execution_count": null,
      "metadata": {
        "id": "82_bCm8K65M8",
        "colab": {
          "base_uri": "https://localhost:8080/"
        },
        "outputId": "89470ce8-0627-469e-fab9-a01411351bb8"
      },
      "outputs": [
        {
          "output_type": "stream",
          "name": "stdout",
          "text": [
            "abhinav\n"
          ]
        }
      ],
      "source": [
        "name=\"abhinav\"\n",
        "print(name)"
      ]
    },
    {
      "cell_type": "code",
      "source": [
        "names = [ 'aman','ravi','rahul','priyesh']\n",
        "print(names)"
      ],
      "metadata": {
        "colab": {
          "base_uri": "https://localhost:8080/"
        },
        "id": "ZOkHT3fti7vR",
        "outputId": "a663bb10-f747-48a2-a728-961cdc6061c0"
      },
      "execution_count": null,
      "outputs": [
        {
          "output_type": "stream",
          "name": "stdout",
          "text": [
            "['aman', 'ravi', 'rahul', 'priyesh']\n"
          ]
        }
      ]
    },
    {
      "cell_type": "code",
      "source": [
        "print(names[2])\n",
        "print(names[-2])"
      ],
      "metadata": {
        "colab": {
          "base_uri": "https://localhost:8080/"
        },
        "id": "zGg8oCUSjF63",
        "outputId": "985aab5a-bb80-4809-c94b-5425ba6aeb99"
      },
      "execution_count": null,
      "outputs": [
        {
          "output_type": "stream",
          "name": "stdout",
          "text": [
            "rahul\n",
            "rahul\n"
          ]
        }
      ]
    },
    {
      "cell_type": "code",
      "source": [
        "print(len(names))\n",
        "print(names.append(5))\n",
        "print(names)"
      ],
      "metadata": {
        "colab": {
          "base_uri": "https://localhost:8080/"
        },
        "id": "2p6n7KpMjiTm",
        "outputId": "87c823ea-a0ce-4143-aa74-8b208f189efa"
      },
      "execution_count": null,
      "outputs": [
        {
          "output_type": "stream",
          "name": "stdout",
          "text": [
            "6\n",
            "None\n",
            "['aman', 'ravi', 'rahul', 'priyesh', 5, 5, 5]\n"
          ]
        }
      ]
    },
    {
      "cell_type": "code",
      "source": [
        "list1= [4,5,6,7,8,2.2,5.8]\n",
        "list2= [6,9,0]\n",
        "list1.append(list2)\n",
        "\n",
        "list1.extend(list2)\n"
      ],
      "metadata": {
        "id": "2Rurd7l6jxj2"
      },
      "execution_count": null,
      "outputs": []
    },
    {
      "cell_type": "code",
      "source": [
        "print(list1)"
      ],
      "metadata": {
        "colab": {
          "base_uri": "https://localhost:8080/"
        },
        "id": "fC5Soe7RkW2-",
        "outputId": "d3113357-b75f-4cd3-f40b-3c352b8ef76d"
      },
      "execution_count": null,
      "outputs": [
        {
          "output_type": "stream",
          "name": "stdout",
          "text": [
            "[4, 5, 6, 7, 8, 2.2, 5.8, [6, 9, 0], 6, 9, 0]\n"
          ]
        }
      ]
    },
    {
      "cell_type": "code",
      "source": [
        "list1=[32,5,76,78]\n",
        "list1.insert(3,100)\n",
        "print(list1)"
      ],
      "metadata": {
        "colab": {
          "base_uri": "https://localhost:8080/"
        },
        "id": "paVMDJjTkZaW",
        "outputId": "367e1d9e-e4b8-49b6-9aa9-2e8ce76b0a50"
      },
      "execution_count": null,
      "outputs": [
        {
          "output_type": "stream",
          "name": "stdout",
          "text": [
            "[32, 5, 76, 100, 78]\n"
          ]
        }
      ]
    },
    {
      "cell_type": "code",
      "source": [
        "list1.remove(32)\n",
        "print(list1)"
      ],
      "metadata": {
        "colab": {
          "base_uri": "https://localhost:8080/"
        },
        "id": "mVHrspo2k_Jl",
        "outputId": "9eb34de1-1006-45c9-d56f-c639acc3af1a"
      },
      "execution_count": null,
      "outputs": [
        {
          "output_type": "stream",
          "name": "stdout",
          "text": [
            "[5, 76, 100, 78]\n"
          ]
        }
      ]
    },
    {
      "cell_type": "code",
      "source": [
        "list1.pop()\n",
        "print(list1)"
      ],
      "metadata": {
        "colab": {
          "base_uri": "https://localhost:8080/"
        },
        "id": "nd_0nhz5lK0e",
        "outputId": "19ca818f-0ef7-4c5b-ce86-63f53aa4def0"
      },
      "execution_count": null,
      "outputs": [
        {
          "output_type": "stream",
          "name": "stdout",
          "text": [
            "[5, 76]\n"
          ]
        }
      ]
    },
    {
      "cell_type": "code",
      "source": [
        "list1.pop(1)\n",
        "print(list1)"
      ],
      "metadata": {
        "colab": {
          "base_uri": "https://localhost:8080/"
        },
        "id": "B160NTzAlRZN",
        "outputId": "53962f91-4580-4656-fa4e-c4d740d00373"
      },
      "execution_count": null,
      "outputs": [
        {
          "output_type": "stream",
          "name": "stdout",
          "text": [
            "[5]\n"
          ]
        }
      ]
    },
    {
      "cell_type": "code",
      "source": [
        "list2.clear()\n",
        "print(list2)"
      ],
      "metadata": {
        "colab": {
          "base_uri": "https://localhost:8080/"
        },
        "id": "x8HX7xdrlZle",
        "outputId": "e1b2de4b-2d8a-41b4-cdb2-e83e1fc30f1c"
      },
      "execution_count": null,
      "outputs": [
        {
          "output_type": "stream",
          "name": "stdout",
          "text": [
            "[]\n"
          ]
        }
      ]
    },
    {
      "cell_type": "code",
      "source": [
        "list1=[32,5,76,78]\n",
        "print(min(list1))\n",
        "print(max(list1))"
      ],
      "metadata": {
        "colab": {
          "base_uri": "https://localhost:8080/"
        },
        "id": "mDRICC0Glg81",
        "outputId": "4f45f6fc-b158-4934-a5a9-42aaade69bc9"
      },
      "execution_count": null,
      "outputs": [
        {
          "output_type": "stream",
          "name": "stdout",
          "text": [
            "5\n",
            "78\n"
          ]
        }
      ]
    },
    {
      "cell_type": "code",
      "source": [
        "list1 = [4,3,2,4,3,234,6,7,89,5,4,3]\n",
        "print(list1.count(4))\n",
        "print(list1.count(3))\n"
      ],
      "metadata": {
        "colab": {
          "base_uri": "https://localhost:8080/"
        },
        "id": "fC442sK4l2SN",
        "outputId": "4f1d608e-7820-4833-c6a7-7eeb1b88b623"
      },
      "execution_count": null,
      "outputs": [
        {
          "output_type": "stream",
          "name": "stdout",
          "text": [
            "3\n",
            "3\n"
          ]
        }
      ]
    },
    {
      "cell_type": "code",
      "source": [
        "print(list1.sort()) ## O(nlogn)"
      ],
      "metadata": {
        "colab": {
          "base_uri": "https://localhost:8080/"
        },
        "id": "bd_Fz1fxmOFW",
        "outputId": "c2099265-3b99-4027-e7b3-75484ec92314"
      },
      "execution_count": null,
      "outputs": [
        {
          "output_type": "stream",
          "name": "stdout",
          "text": [
            "None\n"
          ]
        }
      ]
    },
    {
      "cell_type": "code",
      "source": [
        "print(list1.reverse())  ##  O(n)"
      ],
      "metadata": {
        "colab": {
          "base_uri": "https://localhost:8080/"
        },
        "id": "b4Oq13VSmyLt",
        "outputId": "fe10acc8-f45e-4257-f588-8abfa4e53cf9"
      },
      "execution_count": null,
      "outputs": [
        {
          "output_type": "stream",
          "name": "stdout",
          "text": [
            "None\n"
          ]
        }
      ]
    },
    {
      "cell_type": "code",
      "source": [
        "print(list1.index(5))"
      ],
      "metadata": {
        "colab": {
          "base_uri": "https://localhost:8080/"
        },
        "id": "xnnt4CHNm-iM",
        "outputId": "d39418f9-a669-4ba2-c500-189ac790156e"
      },
      "execution_count": null,
      "outputs": [
        {
          "output_type": "stream",
          "name": "stdout",
          "text": [
            "4\n"
          ]
        }
      ]
    },
    {
      "cell_type": "code",
      "source": [
        "list1 = [1,2,3]\n",
        "list2 = list1\n",
        "list3 = list2.copy()\n",
        "\n",
        "list2.append(4)\n",
        "\n",
        "print(list1,id(list1))\n",
        "print(list2,id(list2))\n",
        "print(list3,id(list3))"
      ],
      "metadata": {
        "colab": {
          "base_uri": "https://localhost:8080/"
        },
        "id": "OEbXvi0KnKbk",
        "outputId": "604158aa-a8d6-4ba5-c09a-900495306dd5"
      },
      "execution_count": null,
      "outputs": [
        {
          "output_type": "stream",
          "name": "stdout",
          "text": [
            "[1, 2, 3, 4] 132116522969856\n",
            "[1, 2, 3, 4] 132116522969856\n",
            "[1, 2, 3] 132115460395712\n"
          ]
        }
      ]
    },
    {
      "cell_type": "code",
      "source": [
        "## subarray  -- continuous part of an array\n",
        "## subsequesce -- non continuous part of an array\n",
        "## Slicing-----\n",
        "list1 = [4,3,2,4,3,234,6,7,89,5,4,3]\n",
        "print(list1[2:6])\n",
        "print(list1[2:6:2])\n",
        "print(list1[: :-1])\n",
        "print(list1[:])\n"
      ],
      "metadata": {
        "colab": {
          "base_uri": "https://localhost:8080/"
        },
        "id": "WQLEMHKaoI2k",
        "outputId": "e2ffa310-4d75-4b82-a22c-d3accd474845"
      },
      "execution_count": null,
      "outputs": [
        {
          "output_type": "stream",
          "name": "stdout",
          "text": [
            "[2, 4, 3, 234]\n",
            "[2, 3]\n",
            "[3, 4, 5, 89, 7, 6, 234, 3, 4, 2, 3, 4]\n",
            "[4, 3, 2, 4, 3, 234, 6, 7, 89, 5, 4, 3]\n"
          ]
        }
      ]
    },
    {
      "cell_type": "code",
      "source": [
        "## Tuple----\n",
        "tuple1 = (\"hello\",123,23.232,True,324.423)\n",
        "print(tuple1)\n",
        "print(tuple1[-2])\n",
        "print(tuple1[1:4])\n",
        "print(len(tuple1))"
      ],
      "metadata": {
        "colab": {
          "base_uri": "https://localhost:8080/"
        },
        "id": "03k-LhhupFer",
        "outputId": "21fc3dc9-170f-484c-ac74-264d06847927"
      },
      "execution_count": null,
      "outputs": [
        {
          "output_type": "stream",
          "name": "stdout",
          "text": [
            "('hello', 123, 23.232, True, 324.423)\n",
            "True\n",
            "(123, 23.232, True)\n",
            "5\n"
          ]
        }
      ]
    },
    {
      "cell_type": "code",
      "source": [
        "tuple2= tuple1\n",
        "print(tuple1,id(tuple1))\n",
        "print(tuple2,id(tuple2))\n",
        "print(tuple1[2:4])"
      ],
      "metadata": {
        "colab": {
          "base_uri": "https://localhost:8080/"
        },
        "id": "OAvDJkJPqfjL",
        "outputId": "4fd639c5-0353-4895-e241-84f2e83adb85"
      },
      "execution_count": null,
      "outputs": [
        {
          "output_type": "stream",
          "name": "stdout",
          "text": [
            "('hello', 123, 23.232, True, 324.423) 132115435500976\n",
            "('hello', 123, 23.232, True, 324.423) 132115435500976\n",
            "(23.232, True)\n"
          ]
        }
      ]
    },
    {
      "cell_type": "code",
      "source": [
        "#### String--\n",
        "\n",
        "name = \"rishikesh\"\n",
        "print(name)\n",
        "\n",
        "skill = \"Physics Wallah Skills\"\n",
        "print(skill)\n",
        "print(len(skill))\n",
        "\n"
      ],
      "metadata": {
        "colab": {
          "base_uri": "https://localhost:8080/"
        },
        "id": "ipWUk1SArRlz",
        "outputId": "f5fade2a-3559-41f4-c7f4-92a32784c3f3"
      },
      "execution_count": null,
      "outputs": [
        {
          "output_type": "stream",
          "name": "stdout",
          "text": [
            "rishikesh\n",
            "Physics Wallah Skills\n",
            "21\n"
          ]
        }
      ]
    },
    {
      "cell_type": "code",
      "source": [
        "print(skill.upper())\n",
        "print(skill.lower())\n",
        "print(skill.swapcase())\n",
        "print(skill.title())"
      ],
      "metadata": {
        "colab": {
          "base_uri": "https://localhost:8080/"
        },
        "id": "rAKdANmYrz3q",
        "outputId": "25033851-e58c-46c9-a3cd-aecd8f4d6797"
      },
      "execution_count": null,
      "outputs": [
        {
          "output_type": "stream",
          "name": "stdout",
          "text": [
            "PHYSICS WALLAH SKILLS\n",
            "physics wallah skills\n",
            "pHYSICS wALLAH sKILLS\n",
            "Physics Wallah Skills\n"
          ]
        }
      ]
    },
    {
      "cell_type": "code",
      "source": [
        "print(name[4])\n",
        "print(len(name))\n",
        "print(name[-2])"
      ],
      "metadata": {
        "colab": {
          "base_uri": "https://localhost:8080/"
        },
        "id": "cGANTRJdsspJ",
        "outputId": "1b430727-5301-45b5-970f-c2a70e05b271"
      },
      "execution_count": null,
      "outputs": [
        {
          "output_type": "stream",
          "name": "stdout",
          "text": [
            "i\n",
            "9\n",
            "s\n"
          ]
        }
      ]
    },
    {
      "cell_type": "code",
      "source": [
        "print(name.index(\"i\"))\n",
        "print(name.count(\"i\"))\n",
        "print(name.find(\"i\"))\n",
        "print(type(name))\n"
      ],
      "metadata": {
        "colab": {
          "base_uri": "https://localhost:8080/"
        },
        "id": "Wa8pfeKms00B",
        "outputId": "c89fbd99-2c81-47a7-d60f-debf137960a7"
      },
      "execution_count": null,
      "outputs": [
        {
          "output_type": "stream",
          "name": "stdout",
          "text": [
            "1\n",
            "2\n",
            "1\n",
            "<class 'str'>\n"
          ]
        }
      ]
    },
    {
      "cell_type": "code",
      "source": [
        "## leetcode (1480)--\n",
        "### sum of running list\n",
        "class Solution(object):\n",
        "    def runningSum(self, nums):\n",
        "        \"\"\"\n",
        "        This function computes the running sum of a list.\n",
        "        Each element in the output list represents the sum of all previous elements up to that index.\n",
        "\n",
        "        Time Complexity: O(n) - We iterate through the list once.\n",
        "        Space Complexity: O(n) - We store the result in a new list.\n",
        "        \"\"\"\n",
        "        ans = 0  # Initialize sum accumulator\n",
        "        dic = []  # Initialize list to store running sums\n",
        "\n",
        "        for i in range(len(nums)):  # Loop through each element in the list\n",
        "            ans += nums[i]  # Add the current element to the running sum\n",
        "            dic.append(ans)  # Append the updated sum to the result list\n",
        "\n",
        "        return dic  # Return the final list of running sums\n",
        "\n",
        "# Example usage:\n",
        "sol = Solution()\n",
        "print(sol.runningSum([1, 2, 3, 4]))  # Output: [1, 3, 6, 10]\n",
        "print(sol.runningSum([3, 1, 2, 10, 1]))  # Output: [3, 4, 6, 16, 17]\n",
        "print(sol.runningSum([0, 0, 0, 0]))  # Output: [0, 0, 0, 0]\n"
      ],
      "metadata": {
        "id": "mSHRyQzNtr_w",
        "colab": {
          "base_uri": "https://localhost:8080/"
        },
        "outputId": "46f440c6-bc29-4be2-c567-13d06fd14c3c"
      },
      "execution_count": null,
      "outputs": [
        {
          "output_type": "stream",
          "name": "stdout",
          "text": [
            "[1, 3, 6, 10]\n",
            "[3, 4, 6, 16, 17]\n",
            "[0, 0, 0, 0]\n"
          ]
        }
      ]
    },
    {
      "cell_type": "code",
      "source": [
        "class Solution(object):\n",
        "    def runningSum(self, nums):\n",
        "        \"\"\"\n",
        "        This function computes the running sum of a list.\n",
        "        Each element in the output list represents the sum of all previous elements up to that index.\n",
        "\n",
        "        Time Complexity: O(n) - We iterate through the list once.\n",
        "        Space Complexity: O(n) - We store the result in a new list.\n",
        "        \"\"\"\n",
        "\n",
        "        n = len(nums)  # Get the length of the input list\n",
        "        ans = []  # Initialize an empty list to store running sums\n",
        "\n",
        "        # Append the first element directly (base case)\n",
        "        ans.append(nums[0])\n",
        "\n",
        "        # Loop through the rest of the list\n",
        "        for i in range(1, n):\n",
        "            x = ans[i - 1] + nums[i]  # Compute running sum by adding previous sum\n",
        "            ans.append(x)  # Store the computed running sum in the list\n",
        "\n",
        "        return ans  # Return the final list of running sums\n",
        "\n",
        "# Example usage:\n",
        "sol = Solution()\n",
        "print(sol.runningSum([1, 2, 3, 4]))  # Output: [1, 3, 6, 10]\n",
        "print(sol.runningSum([3, 1, 2, 10, 1]))  # Output: [3, 4, 6, 16, 17]\n",
        "print(sol.runningSum([0, 0, 0, 0]))  # Output: [0, 0, 0, 0]\n"
      ],
      "metadata": {
        "colab": {
          "base_uri": "https://localhost:8080/"
        },
        "id": "h2er9mdE0WFI",
        "outputId": "2ae4c133-3a0d-439f-9528-9ae03ede7259"
      },
      "execution_count": null,
      "outputs": [
        {
          "output_type": "stream",
          "name": "stdout",
          "text": [
            "[1, 3, 6, 10]\n",
            "[3, 4, 6, 16, 17]\n",
            "[0, 0, 0, 0]\n"
          ]
        }
      ]
    },
    {
      "cell_type": "code",
      "source": [
        "## leetcode(26)-remove duplicate from sorted list\n",
        "class Solution(object):\n",
        "    def removeDuplicates(self, nums):\n",
        "        \"\"\"\n",
        "        Removes duplicates from a sorted list in-place.\n",
        "\n",
        "        Time Complexity: O(n) - We iterate through the list once.\n",
        "        Space Complexity: O(1) - Modifies the list in-place without extra storage.\n",
        "        \"\"\"\n",
        "        if not nums:  # Handle empty list case\n",
        "            return 0\n",
        "\n",
        "        n = len(nums)\n",
        "        start = 0  # Pointer for unique elements\n",
        "\n",
        "        for i in range(1, n):\n",
        "            # If current element is unique, move start pointer forward\n",
        "            if nums[i] != nums[start]:\n",
        "                start += 1\n",
        "                nums[start] = nums[i]  # Overwrite duplicate values\n",
        "\n",
        "        return nums[:start + 1]  # Return the modified list with unique elements\n",
        "\n",
        "# Example usage:\n",
        "sol = Solution()\n",
        "print(sol.removeDuplicates([1, 1, 2, 3, 3, 4]))  # Output: [1, 2, 3, 4]\n",
        "print(sol.removeDuplicates([0, 0, 1, 2, 2, 3, 4, 4, 5]))  # Output: [0, 1, 2, 3, 4, 5]\n",
        "print(sol.removeDuplicates([]))  # Output: []\n"
      ],
      "metadata": {
        "colab": {
          "base_uri": "https://localhost:8080/"
        },
        "id": "SYLuUxYQ1XY2",
        "outputId": "9ef45d58-974b-4e35-81fe-ae3e50327d98"
      },
      "execution_count": null,
      "outputs": [
        {
          "output_type": "stream",
          "name": "stdout",
          "text": [
            "[1, 2, 3, 4]\n",
            "[0, 1, 2, 3, 4, 5]\n",
            "0\n"
          ]
        }
      ]
    },
    {
      "cell_type": "code",
      "source": [
        "#leetcode(80)\n",
        "class Solution(object):\n",
        "    def removeDuplicates(self, nums):\n",
        "        \"\"\"\n",
        "        Removes duplicates from a sorted list where each element can appear at most twice.\n",
        "\n",
        "        Time Complexity: O(n) - Iterates through the list once.\n",
        "        Space Complexity: O(1) - Modifies the list in-place without extra storage.\n",
        "        \"\"\"\n",
        "        n = len(nums)\n",
        "\n",
        "        if n <= 2:  # If list has 2 or fewer elements, no duplicates need removal\n",
        "            return nums  # Return the same list\n",
        "\n",
        "        start = 1  # Pointer for unique elements (allowing at most 2 occurrences)\n",
        "\n",
        "        for i in range(2, n):\n",
        "            # Ensure each number can appear at most twice\n",
        "            if nums[i] != nums[start - 1]:\n",
        "                start += 1\n",
        "                nums[start] = nums[i]  # Move unique elements forward\n",
        "\n",
        "        return nums[:start + 1]  # Return the modified list up to the new unique length\n",
        "\n",
        "# Example usage:\n",
        "sol = Solution()\n",
        "print(sol.removeDuplicates([1, 1, 1, 2, 2, 3]))  # Output: [1, 1, 2, 2, 3]\n",
        "print(sol.removeDuplicates([0, 0, 1, 1, 1, 2, 3, 3]))  # Output: [0, 0, 1, 1, 2, 3, 3]\n",
        "print(sol.removeDuplicates([1, 2, 2, 3]))  # Output: [1, 2, 2, 3]"
      ],
      "metadata": {
        "colab": {
          "base_uri": "https://localhost:8080/"
        },
        "id": "PscEOc947Cm3",
        "outputId": "1787126a-54f9-4a7a-8d24-2e3618d14eb3"
      },
      "execution_count": null,
      "outputs": [
        {
          "output_type": "stream",
          "name": "stdout",
          "text": [
            "[1, 1, 2, 2, 3]\n",
            "[0, 0, 1, 1, 2, 3, 3]\n",
            "[1, 2, 2, 3]\n"
          ]
        }
      ]
    },
    {
      "cell_type": "code",
      "source": [
        "## Leetcode(905)---\n",
        "class Solution(object):\n",
        "    def sortArrayByParity(self, nums):\n",
        "        \"\"\"\n",
        "        Sorts an array such that even numbers appear first, followed by odd numbers.\n",
        "\n",
        "        Time Complexity: O(n) - We iterate through the list once.\n",
        "        Space Complexity: O(1) - Sorting happens in-place.\n",
        "        \"\"\"\n",
        "        n = len(nums)\n",
        "        start = 0  # Pointer to track position for swapping even numbers\n",
        "\n",
        "        for i in range(n):\n",
        "            if nums[i] % 2 == 0:  # If current element is even\n",
        "                nums[i], nums[start] = nums[start], nums[i]  # Swap without temp variable\n",
        "                start += 1  # Move pointer forward\n",
        "\n",
        "        return nums  # Return in-place modified array\n",
        "\n",
        "# Example usage:\n",
        "sol = Solution()\n",
        "print(sol.sortArrayByParity([3, 1, 2, 4]))  # Output: [2, 4, 3, 1]\n",
        "print(sol.sortArrayByParity([0, 1, 2]))    # Output: [0, 2, 1]\n",
        "print(sol.sortArrayByParity([7, 5, 3, 2])) # Output: [2, 5, 3, 7]\n"
      ],
      "metadata": {
        "colab": {
          "base_uri": "https://localhost:8080/"
        },
        "id": "aXbaf-YtO-u1",
        "outputId": "10965b7d-23c7-4460-9054-4a19b6187cbd"
      },
      "execution_count": null,
      "outputs": [
        {
          "output_type": "stream",
          "name": "stdout",
          "text": [
            "[2, 4, 3, 1]\n",
            "[0, 2, 1]\n",
            "[2, 5, 3, 7]\n"
          ]
        }
      ]
    },
    {
      "cell_type": "code",
      "source": [
        "## Leetcode(53)------\n",
        "class Solution(object):\n",
        "    def maxSubArray(self, nums):\n",
        "        \"\"\"\n",
        "        Finds the largest sum of any contiguous subarray using Kadane's Algorithm.\n",
        "\n",
        "        Time Complexity: O(n) - Iterates through the list once.\n",
        "        Space Complexity: O(1) - Uses only a few extra variables.\n",
        "        \"\"\"\n",
        "        max_sum = nums[0]  # Initialize max sum with the first element\n",
        "        curr_sum = nums[0]  # Start current sum with the first element\n",
        "\n",
        "        for i in range(1, len(nums)):  # Start loop from second element\n",
        "            curr_sum = max(nums[i], curr_sum + nums[i])  # Either extend subarray or start fresh\n",
        "            max_sum = max(max_sum, curr_sum)  # Update max sum if necessary\n",
        "\n",
        "        return max_sum  # Return the maximum subarray sum\n",
        "\n",
        "# Example usage:\n",
        "sol = Solution()\n",
        "print(sol.maxSubArray([-2, 1, -3, 4, -1, 2, 1, -5, 4]))  # Output: 6 (subarray: [4, -1, 2, 1])\n",
        "print(sol.maxSubArray([1]))  # Output: 1\n",
        "print(sol.maxSubArray([-1, -2, -3]))  # Output: -1\n",
        "\n"
      ],
      "metadata": {
        "colab": {
          "base_uri": "https://localhost:8080/"
        },
        "id": "H9vsUQs9Rsks",
        "outputId": "0fe5ec4c-2f7a-4d06-c2ee-d94c7ff215cf"
      },
      "execution_count": null,
      "outputs": [
        {
          "output_type": "stream",
          "name": "stdout",
          "text": [
            "6\n",
            "1\n",
            "-1\n"
          ]
        }
      ]
    },
    {
      "cell_type": "code",
      "source": [
        "## Leetcode(121)\n",
        "class Solution(object):\n",
        "    def maxProfit(self, prices):\n",
        "        \"\"\"\n",
        "        Finds the maximum profit from stock prices where you can buy and sell once.\n",
        "\n",
        "        Time Complexity: O(n) - Iterates through the list once.\n",
        "        Space Complexity: O(1) - Uses only a few extra variables.\n",
        "        \"\"\"\n",
        "        if not prices:  # Edge case: empty list\n",
        "            return 0\n",
        "\n",
        "        min_price = prices[0]  # Track the lowest price so far\n",
        "        profit = 0  # Track the maximum profit\n",
        "\n",
        "        for i in range(1, len(prices)):  # Start from day 1\n",
        "            curr_profit = prices[i] - min_price  # Calculate profit if sold today\n",
        "            profit = max(profit, curr_profit)  # Update max profit\n",
        "\n",
        "            min_price = min(min_price, prices[i])  # Update min purchase price\n",
        "\n",
        "        return profit  # Return the maximum profit possible\n",
        "\n",
        "# Example usage:\n",
        "sol = Solution()\n",
        "print(sol.maxProfit([7, 1, 5, 3, 6, 4]))  # Output: 5 (Buy at 1, Sell at 6)\n",
        "print(sol.maxProfit([7, 6, 4, 3, 1]))  # Output: 0 (No profit possible)\n",
        "print(sol.maxProfit([2, 4, 1]))  # Output: 2 (Buy at 2, Sell\n"
      ],
      "metadata": {
        "colab": {
          "base_uri": "https://localhost:8080/"
        },
        "id": "BWzjaE9xUyl7",
        "outputId": "b5bb47c1-76e7-4bde-effb-a0557b45ccc7"
      },
      "execution_count": null,
      "outputs": [
        {
          "output_type": "stream",
          "name": "stdout",
          "text": [
            "5\n",
            "0\n",
            "2\n"
          ]
        }
      ]
    },
    {
      "cell_type": "code",
      "source": [
        "## Leetcode(122)\n",
        "class Solution(object):\n",
        "    def maxProfit(self, prices):\n",
        "        # Initialize profit as 0, since we start with no earnings\n",
        "        profit = 0\n",
        "        n = len(prices)  # Get the number of days (length of price list)\n",
        "\n",
        "        # Loop through the price list, stopping at the second-to-last element\n",
        "        for i in range(n-1):\n",
        "            # If the price increases on the next day, we capture the profit from selling\n",
        "            if prices[i+1] > prices[i]:\n",
        "                profit += (prices[i+1] - prices[i])  # Add the profit made from this transaction\n",
        "\n",
        "        # Return the total accumulated profit after scanning all days\n",
        "        return profit\n",
        "\n",
        "# Example usage:\n",
        "prices = [7, 1, 5, 3, 6, 4]  # Example stock prices over 6 days\n",
        "solution = Solution()\n",
        "print(solution.maxProfit(prices))  # Expected output: 7\n",
        "\n",
        "# TIME COMPLEXITY ANALYSIS:\n",
        "# - The loop runs from index 0 to n-2, meaning it executes O(n) operations.\n",
        "# - Each iteration performs a comparison and a potential addition.\n",
        "# - Therefore, the overall time complexity is **O(n)**.\n",
        "\n",
        "# SPACE COMPLEXITY ANALYSIS:\n",
        "# - We only use a few integer variables (`profit`, `n`).\n",
        "# - No extra space is used relative to the input list.\n",
        "# - Thus, the space complexity is **O(1)** (constant space usage).\n",
        "\n",
        "# MATHEMATICAL EXAMPLE:\n",
        "# Suppose the stock prices over 6 days are: [7, 1, 5, 3, 6, 4]\n",
        "# Let's manually calculate the profit:\n",
        "# - Day 1 to Day 2: Price drops from 7 to 1 → No profit\n",
        "# - Day 2 to Day 3: Price rises from 1 to 5 → Profit = 5 - 1 = 4\n",
        "# - Day 3 to Day 4: Price drops from 5 to 3 → No profit\n",
        "# - Day 4 to Day 5: Price rises from 3 to 6 → Profit = 6 - 3 = 3\n",
        "# - Day 5 to Day 6: Price drops from 6 to 4 → No profit\n",
        "\n",
        "# Total profit = 4 + 3 = 7 (which is the correct answer).\n",
        "\n",
        "# This greedy approach ensures we capture all small profitable trades efficiently.\n"
      ],
      "metadata": {
        "id": "mWET5OISYGr8",
        "colab": {
          "base_uri": "https://localhost:8080/"
        },
        "outputId": "3a827f99-c5bf-4b00-8f45-2ea01a0d3a42"
      },
      "execution_count": 1,
      "outputs": [
        {
          "output_type": "stream",
          "name": "stdout",
          "text": [
            "7\n"
          ]
        }
      ]
    },
    {
      "cell_type": "code",
      "source": [
        "## Leetcode(1672)-----\n",
        "class Solution(object):\n",
        "    def maximumWealth(self, accounts):\n",
        "        \"\"\"\n",
        "        Finds the maximum wealth among all customers.\n",
        "\n",
        "        Time Complexity: O(m * n) -> Iterates through each account once.\n",
        "        Space Complexity: O(1) -> Uses only one extra variable (`ans`).\n",
        "        \"\"\"\n",
        "        ans = 0  # Initialize the maximum wealth as 0\n",
        "\n",
        "        for account in accounts:  # Iterate over each customer's bank accounts\n",
        "            # Calculate the total wealth for the current customer\n",
        "            # Then, update 'ans' to the maximum wealth found so far\n",
        "            ans = max(ans, sum(account))\n",
        "\n",
        "        return ans  # Return the richest customer's total wealth\n",
        "\n",
        "# Example usage:\n",
        "accounts = [[1, 2, 3], [3, 2, 1], [4, 5, 6]]\n",
        "solution = Solution()\n",
        "print(solution.maximumWealth(accounts))  # Expected output: 15\n",
        "\n",
        "# TIME COMPLEXITY ANALYSIS:\n",
        "# - `sum(account)` takes **O(n)** time (where `n` is the number of accounts per customer).\n",
        "# - The loop runs **O(m)** times (where `m` is the number of customers).\n",
        "# - So, the overall time complexity is **O(m * n)**.\n",
        "\n",
        "# SPACE COMPLEXITY ANALYSIS:\n",
        "# - We only use an integer variable `ans` for tracking the maximum wealth.\n",
        "# - No extra storage is used aside from input data.\n",
        "# - Thus, the space complexity is **O(1)** (constant space usage).\n",
        "\n",
        "# MATHEMATICAL EXAMPLE:\n",
        "# Suppose we have 3 customers with the following bank accounts:\n",
        "# Customer 1 -> [1, 2, 3] -> Wealth = 1 + 2 + 3 = 6\n",
        "# Customer 2 -> [3, 2, 1] -> Wealth = 3 + 2 + 1 = 6\n",
        "# Customer 3 -> [4, 5, 6] -> Wealth = 4 + 5 + 6 = 15\n",
        "\n",
        "# The richest customer has **15** wealth, so that is the final output.\n"
      ],
      "metadata": {
        "colab": {
          "base_uri": "https://localhost:8080/"
        },
        "id": "us3kQ1_pff6u",
        "outputId": "565d6924-6668-425d-c6ab-c1eeae09d17c"
      },
      "execution_count": 2,
      "outputs": [
        {
          "output_type": "stream",
          "name": "stdout",
          "text": [
            "15\n"
          ]
        }
      ]
    },
    {
      "cell_type": "code",
      "source": [
        "## leetcode(54)--Spiral matrix---\n",
        "class Solution(object):\n",
        "    def spiralOrder(self, matrix):\n",
        "        \"\"\"\n",
        "        Returns the elements of a matrix in spiral order.\n",
        "\n",
        "        Time Complexity: O(m * n) - Each element is visited once.\n",
        "        Space Complexity: O(1) - Only result list is used.\n",
        "        \"\"\"\n",
        "\n",
        "        if not matrix or not matrix[0]:  # Edge case: empty matrix\n",
        "            return []\n",
        "\n",
        "        n = len(matrix)  # Number of rows\n",
        "        m = len(matrix[0])  # Number of columns\n",
        "        total = n * m  # Total number of elements\n",
        "        ans = []  # Store the spiral order elements\n",
        "        count = 0  # Track the number of elements added\n",
        "\n",
        "        # Define matrix boundaries\n",
        "        row_start, row_end = 0, n - 1\n",
        "        col_start, col_end = 0, m - 1\n",
        "\n",
        "        while count < total:  # Continue until all elements are processed\n",
        "\n",
        "            # Traverse top row (left to right)\n",
        "            for i in range(col_start, col_end + 1):\n",
        "                ans.append(matrix[row_start][i])\n",
        "                count += 1\n",
        "            row_start += 1  # Move down to next row\n",
        "\n",
        "            if count == total: break  # Stop if done\n",
        "\n",
        "            # Traverse right column (top to bottom)\n",
        "            for i in range(row_start, row_end + 1):\n",
        "                ans.append(matrix[i][col_end])\n",
        "                count += 1\n",
        "            col_end -= 1  # Move left to next column\n",
        "\n",
        "            if count == total: break  # Stop if done\n",
        "\n",
        "            # Traverse bottom row (right to left)\n",
        "            for i in range(col_end, col_start - 1, -1):\n",
        "                ans.append(matrix[row_end][i])\n",
        "                count += 1\n",
        "            row_end -= 1  # Move up to next row\n",
        "\n",
        "            if count == total: break  # Stop if done\n",
        "\n",
        "            # Traverse left column (bottom to top)\n",
        "            for i in range(row_end, row_start - 1, -1):\n",
        "                ans.append(matrix[i][col_start])\n",
        "                count += 1\n",
        "            col_start += 1  # Move right to next column\n",
        "\n",
        "        return ans  # Return final spiral order list\n",
        "\n",
        "# Example usage:\n",
        "matrix = [[1, 2, 3],\n",
        "          [4, 5, 6],\n",
        "          [7, 8, 9]]\n",
        "\n",
        "solution = Solution()\n",
        "print(solution.spiralOrder(matrix))  # Output: [1, 2, 3, 6, 9, 8, 7, 4, 5]\n"
      ],
      "metadata": {
        "colab": {
          "base_uri": "https://localhost:8080/"
        },
        "id": "RvuHSYfThcuG",
        "outputId": "49c054e9-de98-4410-dbbc-bd83b6783e9b"
      },
      "execution_count": 3,
      "outputs": [
        {
          "output_type": "stream",
          "name": "stdout",
          "text": [
            "[1, 2, 3, 6, 9, 8, 7, 4, 5]\n"
          ]
        }
      ]
    },
    {
      "cell_type": "code",
      "source": [
        "## Leetcode(1108)---\n",
        "class Solution(object):\n",
        "    def defangIPaddr(self, address):\n",
        "        \"\"\"\n",
        "        Given a valid IPv4 address as a string, the function replaces each dot ('.')\n",
        "        with '[.]' to defang the IP address.\n",
        "\n",
        "        Time Complexity: O(n) - Iterates over the string once.\n",
        "        Space Complexity: O(1) - No extra data structures used.\n",
        "        \"\"\"\n",
        "\n",
        "        # Use Python's built-in `replace()` function to substitute '.' with '[.]'\n",
        "        return address.replace(\".\", \"[.]\")\n",
        "\n",
        "# Example usage:\n",
        "solution = Solution()\n",
        "\n",
        "# Test cases\n",
        "print(solution.defangIPaddr(\"192.168.1.1\"))  # Expected output: \"192[.]168[.]1[.]1\"\n",
        "print(solution.defangIPaddr(\"255.100.50.0\")) # Expected output: \"255[.]100[.]50[.]0\"\n",
        "print(solution.defangIPaddr(\"127.0.0.1\"))    # Expected output: \"127[.]0[.]0[.]1\"\n",
        "\n",
        "# TIME COMPLEXITY ANALYSIS:\n",
        "# - `replace()` function scans the string once (O(n)) where n is the length of `address`.\n",
        "# - The time complexity remains **O(n)** since replacement is done efficiently.\n",
        "\n",
        "# SPACE COMPLEXITY ANALYSIS:\n",
        "# - Python strings are immutable, so `replace()` creates a new modified string.\n",
        "# - However, no extra data structures are used, making space complexity **O(1)**.\n",
        "\n",
        "# MATHEMATICAL EXAMPLE:\n",
        "# Suppose we have an IP address `\"192.168.1.1\"`\n",
        "# Step-by-step modification:\n",
        "# - Replace \".\" with \"[.]\"\n",
        "# - `\"192.168.1.1\"` → `\"192[.]168[.]1[.]1\"`\n",
        "\n",
        "# This is used in cybersecurity scenarios to prevent automatic parsing of IP addresses.\n"
      ],
      "metadata": {
        "colab": {
          "base_uri": "https://localhost:8080/"
        },
        "id": "MKjsYvqCpVx_",
        "outputId": "1fefbf90-5b78-4971-a72e-b989ea596a14"
      },
      "execution_count": 4,
      "outputs": [
        {
          "output_type": "stream",
          "name": "stdout",
          "text": [
            "192[.]168[.]1[.]1\n",
            "255[.]100[.]50[.]0\n",
            "127[.]0[.]0[.]1\n"
          ]
        }
      ]
    },
    {
      "cell_type": "code",
      "source": [
        "class Solution(object):\n",
        "    def defangIPaddr(self, address):\n",
        "        # Initialize an empty string to store the modified IP address\n",
        "        ans = \"\"\n",
        "\n",
        "        # Iterate over each character in the given address\n",
        "        for i in address:\n",
        "            # If the character is not a dot (.), add it to the result string\n",
        "            if i != \".\":\n",
        "                ans += i\n",
        "            else:\n",
        "                # If the character is a dot, replace it with \"[.]\"\n",
        "                ans += \"[.]\"\n",
        "\n",
        "        # Return the final modified IP address\n",
        "        return ans\n",
        "\n",
        "# Example usage\n",
        "solution = Solution()\n",
        "address = \"192.168.1.1\"\n",
        "print(solution.defangIPaddr(address))\n",
        "# Expected output: \"192[.]168[.]1[.]1\"\n"
      ],
      "metadata": {
        "colab": {
          "base_uri": "https://localhost:8080/"
        },
        "id": "4wR45npgq5EW",
        "outputId": "e231f432-9679-4bfb-bf3b-a625333edd27"
      },
      "execution_count": 5,
      "outputs": [
        {
          "output_type": "stream",
          "name": "stdout",
          "text": [
            "192[.]168[.]1[.]1\n"
          ]
        }
      ]
    },
    {
      "cell_type": "code",
      "source": [
        "## Leetcode(125)-----\n",
        "class Solution(object):\n",
        "    def isAlphanumeric(self, s):\n",
        "        # Convert character to ASCII value using ord()\n",
        "        x = ord(s)\n",
        "\n",
        "        # Check if ASCII value belongs to a lowercase letter (97-122)\n",
        "        # OR uppercase letter (65-90)\n",
        "        # OR digit (48-57)\n",
        "        if 97 <= x <= 122 or 65 < x < 90 or 48 <= x <= 57:\n",
        "            return True  # It is alphanumeric\n",
        "        return False  # It is NOT alphanumeric\n",
        "\n",
        "    def isPalindrome(self, s):\n",
        "        # Convert string to lowercase to ensure case-insensitive comparison\n",
        "        s = s.lower()\n",
        "\n",
        "        # Initialize two pointers: 'i' at the beginning, 'j' at the end\n",
        "        i = 0\n",
        "        j = len(s) - 1\n",
        "\n",
        "        while i < j:\n",
        "            # Ignore non-alphanumeric characters from the left side\n",
        "            if not self.isAlphanumeric(s[i]):\n",
        "                i += 1\n",
        "\n",
        "            # Ignore non-alphanumeric characters from the right side\n",
        "            elif not self.isAlphanumeric(s[j]):\n",
        "                j -= 1\n",
        "\n",
        "            # Compare the characters after skipping non-alphanumeric ones\n",
        "            elif s[i] == s[j]:\n",
        "                i += 1  # Move left pointer forward\n",
        "                j -= 1  # Move right pointer backward\n",
        "\n",
        "            else:\n",
        "                return False  # Mismatch found, not a palindrome\n",
        "\n",
        "        return True  # If loop completes, it's a palindrome\n",
        "\n",
        "# Example usage\n",
        "solution = Solution()\n",
        "test_string = \"A man, a plan, a canal: Panama\"\n",
        "print(solution.isPalindrome(test_string))\n",
        "# Expected output: True (Ignoring spaces and punctuation)\n"
      ],
      "metadata": {
        "colab": {
          "base_uri": "https://localhost:8080/"
        },
        "id": "cQYPMU2bs53f",
        "outputId": "7acf5160-bbcb-43f1-e7c4-ed5ea53a51a4"
      },
      "execution_count": 6,
      "outputs": [
        {
          "output_type": "stream",
          "name": "stdout",
          "text": [
            "True\n"
          ]
        }
      ]
    },
    {
      "cell_type": "code",
      "source": [
        "## Leetcode(Reverse String)344----\n",
        "class Solution(object):\n",
        "    def reverseString(self, s):\n",
        "        \"\"\"\n",
        "        Given a list of characters, this function reverses the list **in place**.\n",
        "        Python's built-in `.reverse()` method is used, which performs an efficient in-place reversal.\n",
        "\n",
        "        :param s: List of characters to be reversed\n",
        "        :return: None (modifies `s` in place)\n",
        "        \"\"\"\n",
        "\n",
        "        # Use Python's built-in reverse() method to reverse the list in place.\n",
        "        # This modifies the original list directly, without creating a new one.\n",
        "        s.reverse()\n",
        "\n",
        "\n",
        "# Example usage\n",
        "solution = Solution()\n",
        "s = [\"h\", \"e\", \"l\", \"l\", \"o\"]\n",
        "solution.reverseString(s)\n",
        "print(s)\n",
        "# Expected output: ['o', 'l', 'l', 'e', 'h']\n"
      ],
      "metadata": {
        "colab": {
          "base_uri": "https://localhost:8080/"
        },
        "id": "4gLqDzejwyTn",
        "outputId": "b1e1ec33-6e8a-45e2-b08d-5b7e79b969c5"
      },
      "execution_count": 7,
      "outputs": [
        {
          "output_type": "stream",
          "name": "stdout",
          "text": [
            "['o', 'l', 'l', 'e', 'h']\n"
          ]
        }
      ]
    },
    {
      "cell_type": "code",
      "source": [
        "## Leetcode(344)\n",
        "class Solution(object):\n",
        "    def reverseString(self, s):\n",
        "        # Get the length of the list s\n",
        "        n = len(s)\n",
        "\n",
        "        # Initialize two pointers:\n",
        "        # i starts from the beginning (leftmost index)\n",
        "        # j starts from the end (rightmost index)\n",
        "        i = 0\n",
        "        j = n - 1\n",
        "\n",
        "        # Swap elements until i meets j\n",
        "        while i < j:\n",
        "            # Store the element at i in a temporary variable\n",
        "            temp = s[i]\n",
        "\n",
        "            # Swap elements at i and j\n",
        "            s[i] = s[j]\n",
        "            s[j] = temp\n",
        "\n",
        "            # Move the left pointer forward\n",
        "            i += 1\n",
        "\n",
        "            # Move the right pointer backward\n",
        "            j -= 1\n",
        "\n",
        "        # Return the modified list (now reversed)\n",
        "        return s\n",
        "\n",
        "# Example Usage:\n",
        "# Input list: ['h', 'e', 'l', 'l', 'o']\n",
        "# Expected Output: ['o', 'l', 'l', 'e', 'h']\n",
        "solution = Solution()\n",
        "print(solution.reverseString(['h', 'e', 'l', 'l', 'o']))\n"
      ],
      "metadata": {
        "colab": {
          "base_uri": "https://localhost:8080/"
        },
        "id": "5rJloDmXx_Ko",
        "outputId": "b2090101-74d9-4567-c0d3-0edbd7971a79"
      },
      "execution_count": 8,
      "outputs": [
        {
          "output_type": "stream",
          "name": "stdout",
          "text": [
            "['o', 'l', 'l', 'e', 'h']\n"
          ]
        }
      ]
    },
    {
      "cell_type": "code",
      "source": [
        "## Leetcode(151)----\n",
        "class Solution(object):\n",
        "    def reverseWords(self, s):\n",
        "        # Remove leading and trailing whitespace from the input string\n",
        "        s = s.strip()\n",
        "\n",
        "        # Split the string into a list of words (by default, split() separates by spaces)\n",
        "        s = s.split()\n",
        "\n",
        "        # Reverse the order of words in the list\n",
        "        s.reverse()\n",
        "\n",
        "        # Join the reversed words back into a single string, separated by spaces\n",
        "        s = \" \".join(s)\n",
        "\n",
        "        # Return the modified string\n",
        "        return s\n",
        "\n",
        "# Example Usage:\n",
        "# Input: \"  Hello world!  \"\n",
        "# Output: \"world! Hello\"\n",
        "solution = Solution()\n",
        "print(solution.reverseWords(\"  Hello world!  \"))\n"
      ],
      "metadata": {
        "colab": {
          "base_uri": "https://localhost:8080/"
        },
        "id": "ByD5TN8fzTmQ",
        "outputId": "2ef2c2a2-556e-4a0e-f3af-6f3cf113f022"
      },
      "execution_count": 9,
      "outputs": [
        {
          "output_type": "stream",
          "name": "stdout",
          "text": [
            "world! Hello\n"
          ]
        }
      ]
    },
    {
      "cell_type": "code",
      "source": [
        "## Leetcode(58)-----\n",
        "class Solution(object):\n",
        "    def lengthOfLastWord(self, s):\n",
        "        # Remove leading and trailing spaces from the input string\n",
        "        s = s.strip()\n",
        "\n",
        "        # Get the total length of the trimmed string\n",
        "        n = len(s)\n",
        "\n",
        "        # Initialize the index to start searching from the end of the string\n",
        "        i = -1\n",
        "\n",
        "        # Iterate backwards while the character at index i is NOT a space\n",
        "        # The loop stops when we either encounter a space or reach the beginning of the string\n",
        "        while i >= (-1 * n) and s[i] != \" \":\n",
        "            i -= 1\n",
        "\n",
        "        # Move the index forward by one step to correctly count the last word's length\n",
        "        i += 1\n",
        "\n",
        "        # Convert the negative index into the actual word length\n",
        "        i *= -1\n",
        "\n",
        "        # Return the length of the last word\n",
        "        return i\n",
        "\n",
        "# Example Usage:\n",
        "# Input: \"  Python is amazing  \"\n",
        "# Output: 7  (The last word is \"amazing\", and its length is 7)\n",
        "solution = Solution()\n",
        "print(solution.lengthOfLastWord(\"  Python is amazing  \"))\n"
      ],
      "metadata": {
        "colab": {
          "base_uri": "https://localhost:8080/"
        },
        "id": "lwwBIVuw03nh",
        "outputId": "a52a13a5-dbb0-4753-d51f-99a04060de47"
      },
      "execution_count": 10,
      "outputs": [
        {
          "output_type": "stream",
          "name": "stdout",
          "text": [
            "7\n"
          ]
        }
      ]
    },
    {
      "cell_type": "code",
      "source": [],
      "metadata": {
        "id": "9sth5VDe2ubb"
      },
      "execution_count": null,
      "outputs": []
    }
  ]
}