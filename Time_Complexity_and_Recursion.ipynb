{
  "nbformat": 4,
  "nbformat_minor": 0,
  "metadata": {
    "colab": {
      "provenance": [],
      "authorship_tag": "ABX9TyNKKolhTA4PTdI5y9AZd4kN",
      "include_colab_link": true
    },
    "kernelspec": {
      "name": "python3",
      "display_name": "Python 3"
    },
    "language_info": {
      "name": "python"
    }
  },
  "cells": [
    {
      "cell_type": "markdown",
      "metadata": {
        "id": "view-in-github",
        "colab_type": "text"
      },
      "source": [
        "<a href=\"https://colab.research.google.com/github/Rishikesh1411/Data-Structure-and-Algorithms/blob/main/Time_Complexity_and_Recursion.ipynb\" target=\"_parent\"><img src=\"https://colab.research.google.com/assets/colab-badge.svg\" alt=\"Open In Colab\"/></a>"
      ]
    },
    {
      "cell_type": "code",
      "execution_count": 14,
      "metadata": {
        "colab": {
          "base_uri": "https://localhost:8080/"
        },
        "id": "wb-2xkCi8LZK",
        "outputId": "dbcb9eda-50bc-4fff-c649-eb35811fd4bb"
      },
      "outputs": [
        {
          "output_type": "stream",
          "name": "stdout",
          "text": [
            "0 1 2 "
          ]
        }
      ],
      "source": [
        "n=10\n",
        "x=3\n",
        "for i in range(n):\n",
        "  if i==x:\n",
        "    break\n",
        "  print(i,end=\" \")"
      ]
    },
    {
      "cell_type": "code",
      "source": [
        "## Linear time complexity--O(n)\n",
        "for i in range(n):\n",
        "  print(i,end=\" \")\n",
        "\n",
        "for i in range(n+100):\n",
        "  print(i,end=\" \")\n",
        "\n",
        "for i in range(n*10):\n",
        "  print(i,end=\" \")\n",
        "\n",
        "m=2\n",
        "for i in range(n+m):\n",
        "  print(i,end=\" \")"
      ],
      "metadata": {
        "colab": {
          "base_uri": "https://localhost:8080/"
        },
        "id": "wZp8NAX3-Cj8",
        "outputId": "d4cfab9c-ff4b-4a5e-99d6-332f905ce892"
      },
      "execution_count": 15,
      "outputs": [
        {
          "output_type": "stream",
          "name": "stdout",
          "text": [
            "0 1 2 3 4 5 6 7 8 9 0 1 2 3 4 5 6 7 8 9 10 11 12 13 14 15 16 17 18 19 20 21 22 23 24 25 26 27 28 29 30 31 32 33 34 35 36 37 38 39 40 41 42 43 44 45 46 47 48 49 50 51 52 53 54 55 56 57 58 59 60 61 62 63 64 65 66 67 68 69 70 71 72 73 74 75 76 77 78 79 80 81 82 83 84 85 86 87 88 89 90 91 92 93 94 95 96 97 98 99 100 101 102 103 104 105 106 107 108 109 0 1 2 3 4 5 6 7 8 9 10 11 12 13 14 15 16 17 18 19 20 21 22 23 24 25 26 27 28 29 30 31 32 33 34 35 36 37 38 39 40 41 42 43 44 45 46 47 48 49 50 51 52 53 54 55 56 57 58 59 60 61 62 63 64 65 66 67 68 69 70 71 72 73 74 75 76 77 78 79 80 81 82 83 84 85 86 87 88 89 90 91 92 93 94 95 96 97 98 99 0 1 2 3 4 5 6 7 8 9 10 11 "
          ]
        }
      ]
    },
    {
      "cell_type": "code",
      "source": [
        "## Constant  time complexity--O(1)-code of algorithm execute in constant time\n",
        "\n",
        "for i in range(5): ## does not depends on input\n",
        "  print(i,end=\" \")"
      ],
      "metadata": {
        "colab": {
          "base_uri": "https://localhost:8080/"
        },
        "id": "1FzjhvwO-9Yq",
        "outputId": "a328db82-3107-4adc-9dd6-ed597b10b020"
      },
      "execution_count": 16,
      "outputs": [
        {
          "output_type": "stream",
          "name": "stdout",
          "text": [
            "0 1 2 3 4 "
          ]
        }
      ]
    },
    {
      "cell_type": "code",
      "source": [
        "## Quardatic time complexity--O(n^2)\n",
        "## O(n^2 + n)\n",
        "\n",
        "for i in range(n**2):\n",
        "  print(i, end=\" \")\n",
        "\n",
        "for i in range(n):\n",
        "  for j  in range(n):\n",
        "    print(i,j )"
      ],
      "metadata": {
        "colab": {
          "base_uri": "https://localhost:8080/"
        },
        "id": "H3ZtyTgp_6u6",
        "outputId": "47ad02af-f65b-4e27-8deb-56f2345feefd"
      },
      "execution_count": 17,
      "outputs": [
        {
          "output_type": "stream",
          "name": "stdout",
          "text": [
            "0 1 2 3 4 5 6 7 8 9 10 11 12 13 14 15 16 17 18 19 20 21 22 23 24 25 26 27 28 29 30 31 32 33 34 35 36 37 38 39 40 41 42 43 44 45 46 47 48 49 50 51 52 53 54 55 56 57 58 59 60 61 62 63 64 65 66 67 68 69 70 71 72 73 74 75 76 77 78 79 80 81 82 83 84 85 86 87 88 89 90 91 92 93 94 95 96 97 98 99 0 0\n",
            "0 1\n",
            "0 2\n",
            "0 3\n",
            "0 4\n",
            "0 5\n",
            "0 6\n",
            "0 7\n",
            "0 8\n",
            "0 9\n",
            "1 0\n",
            "1 1\n",
            "1 2\n",
            "1 3\n",
            "1 4\n",
            "1 5\n",
            "1 6\n",
            "1 7\n",
            "1 8\n",
            "1 9\n",
            "2 0\n",
            "2 1\n",
            "2 2\n",
            "2 3\n",
            "2 4\n",
            "2 5\n",
            "2 6\n",
            "2 7\n",
            "2 8\n",
            "2 9\n",
            "3 0\n",
            "3 1\n",
            "3 2\n",
            "3 3\n",
            "3 4\n",
            "3 5\n",
            "3 6\n",
            "3 7\n",
            "3 8\n",
            "3 9\n",
            "4 0\n",
            "4 1\n",
            "4 2\n",
            "4 3\n",
            "4 4\n",
            "4 5\n",
            "4 6\n",
            "4 7\n",
            "4 8\n",
            "4 9\n",
            "5 0\n",
            "5 1\n",
            "5 2\n",
            "5 3\n",
            "5 4\n",
            "5 5\n",
            "5 6\n",
            "5 7\n",
            "5 8\n",
            "5 9\n",
            "6 0\n",
            "6 1\n",
            "6 2\n",
            "6 3\n",
            "6 4\n",
            "6 5\n",
            "6 6\n",
            "6 7\n",
            "6 8\n",
            "6 9\n",
            "7 0\n",
            "7 1\n",
            "7 2\n",
            "7 3\n",
            "7 4\n",
            "7 5\n",
            "7 6\n",
            "7 7\n",
            "7 8\n",
            "7 9\n",
            "8 0\n",
            "8 1\n",
            "8 2\n",
            "8 3\n",
            "8 4\n",
            "8 5\n",
            "8 6\n",
            "8 7\n",
            "8 8\n",
            "8 9\n",
            "9 0\n",
            "9 1\n",
            "9 2\n",
            "9 3\n",
            "9 4\n",
            "9 5\n",
            "9 6\n",
            "9 7\n",
            "9 8\n",
            "9 9\n"
          ]
        }
      ]
    },
    {
      "cell_type": "code",
      "source": [
        "## Logirithmic time complexity -- O(logn)\n",
        "n=100\n",
        "\n",
        "while n>0:\n",
        "  print(n,end=\" \")\n",
        "  n//=2"
      ],
      "metadata": {
        "colab": {
          "base_uri": "https://localhost:8080/"
        },
        "id": "vWm7rnpPAKdi",
        "outputId": "7f05f194-d959-41a5-bff0-3b711436e6f7"
      },
      "execution_count": 18,
      "outputs": [
        {
          "output_type": "stream",
          "name": "stdout",
          "text": [
            "100 50 25 12 6 3 1 "
          ]
        }
      ]
    },
    {
      "cell_type": "code",
      "source": [
        "n=1\n",
        "\n",
        "while n<=100:\n",
        "  print(n,end=\" \")\n",
        "  n*=2"
      ],
      "metadata": {
        "colab": {
          "base_uri": "https://localhost:8080/"
        },
        "id": "FDdVsd2ZCdo6",
        "outputId": "f26125eb-7d7f-4c98-fdcb-77bebb997154"
      },
      "execution_count": 19,
      "outputs": [
        {
          "output_type": "stream",
          "name": "stdout",
          "text": [
            "1 2 4 8 16 32 64 "
          ]
        }
      ]
    },
    {
      "cell_type": "code",
      "source": [
        "i=1\n",
        "n=100\n",
        "\n",
        "while i<=n:\n",
        "  print(i,end=\" \")\n",
        "  i *= 2"
      ],
      "metadata": {
        "colab": {
          "base_uri": "https://localhost:8080/"
        },
        "id": "mAoksuI6DUl4",
        "outputId": "6b38ddd4-5f9f-4a9d-9bc5-d1be955f037f"
      },
      "execution_count": 20,
      "outputs": [
        {
          "output_type": "stream",
          "name": "stdout",
          "text": [
            "1 2 4 8 16 32 64 "
          ]
        }
      ]
    },
    {
      "cell_type": "code",
      "source": [
        "## Linearithmic time complexity - O(n logn)\n",
        "i=1\n",
        "n=100\n",
        "for j in range(n):\n",
        "  while i<=n:\n",
        "    print(i,end=\" \")\n",
        "    i *= 2"
      ],
      "metadata": {
        "id": "hcvLrCbaDosB",
        "colab": {
          "base_uri": "https://localhost:8080/"
        },
        "outputId": "dd2bffa0-af4f-4e86-a4b0-88026c5750ef"
      },
      "execution_count": 21,
      "outputs": [
        {
          "output_type": "stream",
          "name": "stdout",
          "text": [
            "1 2 4 8 16 32 64 "
          ]
        }
      ]
    },
    {
      "cell_type": "code",
      "source": [
        "n =100\n",
        "m = 10\n",
        "\n",
        "list1 = []\n",
        "for i in range(n):\n",
        "  list1.append(m)\n",
        "print(list1)"
      ],
      "metadata": {
        "colab": {
          "base_uri": "https://localhost:8080/"
        },
        "id": "9D3Or5Y1EqnK",
        "outputId": "46ab2645-9723-4625-ade5-97a96ae03576"
      },
      "execution_count": 22,
      "outputs": [
        {
          "output_type": "stream",
          "name": "stdout",
          "text": [
            "[10, 10, 10, 10, 10, 10, 10, 10, 10, 10, 10, 10, 10, 10, 10, 10, 10, 10, 10, 10, 10, 10, 10, 10, 10, 10, 10, 10, 10, 10, 10, 10, 10, 10, 10, 10, 10, 10, 10, 10, 10, 10, 10, 10, 10, 10, 10, 10, 10, 10, 10, 10, 10, 10, 10, 10, 10, 10, 10, 10, 10, 10, 10, 10, 10, 10, 10, 10, 10, 10, 10, 10, 10, 10, 10, 10, 10, 10, 10, 10, 10, 10, 10, 10, 10, 10, 10, 10, 10, 10, 10, 10, 10, 10, 10, 10, 10, 10, 10, 10]\n"
          ]
        }
      ]
    },
    {
      "cell_type": "markdown",
      "source": [
        "# Recursion"
      ],
      "metadata": {
        "id": "EWjXJUKmHY4H"
      }
    },
    {
      "cell_type": "code",
      "source": [
        "n = 5 ## loop break after i values greater than n\n",
        "i =1\n",
        "\n",
        "\n",
        "while i<=n:\n",
        "  print(i,end=\" \")\n",
        "  i += 1"
      ],
      "metadata": {
        "colab": {
          "base_uri": "https://localhost:8080/"
        },
        "id": "gOqYTfGWJ4Wy",
        "outputId": "2a42b834-1d93-49b6-e5c2-e2fdafbd1088"
      },
      "execution_count": 23,
      "outputs": [
        {
          "output_type": "stream",
          "name": "stdout",
          "text": [
            "1 2 3 4 5 "
          ]
        }
      ]
    },
    {
      "cell_type": "code",
      "source": [
        "## print 1 to n using recursion\n",
        "def printnum(i,n):\n",
        "  # base case(where function execution terminates)\n",
        "  if i>n:\n",
        "    return\n",
        "  # recursive case -(whole value for which function will execute)\n",
        "  print(i,end=\" \")\n",
        "  printnum(i+1,n)\n",
        "\n",
        "printnum(1,5)\n"
      ],
      "metadata": {
        "colab": {
          "base_uri": "https://localhost:8080/"
        },
        "id": "IzYUqUgWGY16",
        "outputId": "3330db4a-2130-4d91-e7ea-3f1bef26d54b"
      },
      "execution_count": 24,
      "outputs": [
        {
          "output_type": "stream",
          "name": "stdout",
          "text": [
            "1 2 3 4 5 "
          ]
        }
      ]
    },
    {
      "cell_type": "code",
      "source": [
        "## factorial number\n",
        "def fact(n):\n",
        "  if n==0:\n",
        "    return 1\n",
        "  return n*fact(n-1)\n",
        "\n",
        "print(fact(5))"
      ],
      "metadata": {
        "colab": {
          "base_uri": "https://localhost:8080/"
        },
        "id": "f5tsN2GwLB5g",
        "outputId": "541c2910-8f72-4a56-e370-ac9095b92439"
      },
      "execution_count": 25,
      "outputs": [
        {
          "output_type": "stream",
          "name": "stdout",
          "text": [
            "120\n"
          ]
        }
      ]
    },
    {
      "cell_type": "code",
      "source": [
        "def fun(n):\n",
        "  if n==0:\n",
        "    return\n",
        "  print(n,end=\" \") #------\n",
        "  fun(n-1)\n",
        "\n",
        "fun(3)"
      ],
      "metadata": {
        "colab": {
          "base_uri": "https://localhost:8080/"
        },
        "id": "nEW9bdI3L0Jw",
        "outputId": "f63a9eda-721c-4a3a-8005-99cb879e8696"
      },
      "execution_count": 26,
      "outputs": [
        {
          "output_type": "stream",
          "name": "stdout",
          "text": [
            "3 2 1 "
          ]
        }
      ]
    },
    {
      "cell_type": "code",
      "source": [
        "def fun(n):\n",
        "  if n==0:\n",
        "    return\n",
        "  fun(n-1)  #--------\n",
        "  print(n,end=\" \")\n",
        "\n",
        "\n",
        "fun(3)"
      ],
      "metadata": {
        "colab": {
          "base_uri": "https://localhost:8080/"
        },
        "id": "gT4xMom9Omjo",
        "outputId": "95372d24-a585-43be-c3c2-3022ea4931e8"
      },
      "execution_count": 27,
      "outputs": [
        {
          "output_type": "stream",
          "name": "stdout",
          "text": [
            "1 2 3 "
          ]
        }
      ]
    },
    {
      "cell_type": "code",
      "source": [
        "## fibonnaci series--Leetcode(509)\n",
        "## Time complexity -O (2^n)-exponential time complexity\n",
        "\n",
        "class Solution:\n",
        "    def fib(self, n: int) -> int:\n",
        "    # Base case\n",
        "        if n < 2:\n",
        "            return n\n",
        "    # recursive case\n",
        "        return self.fib(n - 1) + self.fib(n - 2)\n",
        "\n",
        "fibo = Solution()\n",
        "print(fibo.fib(5))\n"
      ],
      "metadata": {
        "colab": {
          "base_uri": "https://localhost:8080/"
        },
        "id": "YuIlCV3eOt8X",
        "outputId": "8e45ab01-9719-47d0-d588-3b887a9af475"
      },
      "execution_count": 28,
      "outputs": [
        {
          "output_type": "stream",
          "name": "stdout",
          "text": [
            "5\n"
          ]
        }
      ]
    },
    {
      "cell_type": "code",
      "source": [
        "## Tribonacci series -- Leetcode (1137)\n",
        "\n",
        "class Solution:\n",
        "    def tribonacci(self, n: int) -> int:\n",
        "        if n == 0:\n",
        "            return 0\n",
        "        elif n == 1 or n == 2:\n",
        "            return 1\n",
        "        return self.tribonacci(n - 1) + self.tribonacci(n - 2) + self.tribonacci(n - 3)\n",
        "\n",
        "fibo = Solution()\n",
        "print(fibo.tribonacci(5))"
      ],
      "metadata": {
        "colab": {
          "base_uri": "https://localhost:8080/"
        },
        "id": "bJJa-HXQWEgo",
        "outputId": "c76cd978-d98f-42f6-afff-190f4caf06a4"
      },
      "execution_count": 29,
      "outputs": [
        {
          "output_type": "stream",
          "name": "stdout",
          "text": [
            "7\n"
          ]
        }
      ]
    },
    {
      "cell_type": "code",
      "source": [
        "class Solution:\n",
        "    def tribonacci(self, n: int) -> int:\n",
        "        if n == 0:\n",
        "            return 0\n",
        "        elif n in (1, 2):\n",
        "            return 1\n",
        "\n",
        "        dp = [0, 1, 1]\n",
        "        for i in range(3, n + 1):\n",
        "            dp.append(dp[-1] + dp[-2] + dp[-3])\n",
        "\n",
        "        return dp[n]\n",
        "\n",
        "# Example usage:\n",
        "sol = Solution()\n",
        "print(sol.tribonacci(4))  # Output: 4\n",
        "print(sol.tribonacci(25)) # Output: 1389537\n"
      ],
      "metadata": {
        "colab": {
          "base_uri": "https://localhost:8080/"
        },
        "id": "OcAOeXVpVrUs",
        "outputId": "e2aa3de8-076b-4339-e3b8-27169c23a10e"
      },
      "execution_count": 30,
      "outputs": [
        {
          "output_type": "stream",
          "name": "stdout",
          "text": [
            "4\n",
            "1389537\n"
          ]
        }
      ]
    },
    {
      "cell_type": "code",
      "source": [
        "## Power of TwO --Leetcode(231)-BY-LOOP\n",
        "def isPowerofTwo(n):\n",
        "  if(n<=0):\n",
        "     return False\n",
        "  while n%2==0:\n",
        "    n = n//2\n",
        "\n",
        "  if n==1:\n",
        "    return True\n",
        "  else:\n",
        "    return False\n",
        "\n",
        "a = isPowerofTwo(64)\n",
        "print(a)"
      ],
      "metadata": {
        "id": "1Cs_cVUNarDH",
        "colab": {
          "base_uri": "https://localhost:8080/"
        },
        "outputId": "d720752b-2f10-487d-8182-97e68a7bafab"
      },
      "execution_count": 31,
      "outputs": [
        {
          "output_type": "stream",
          "name": "stdout",
          "text": [
            "True\n"
          ]
        }
      ]
    },
    {
      "cell_type": "code",
      "source": [
        "## Power of TwO --Leetcode(231)-Recursiuon\n",
        "def isPowerofTwo(n):\n",
        "  # Base\n",
        "  if (n<0):\n",
        "     return False\n",
        "  if (n==1):\n",
        "     return True\n",
        "  if n%2!=0:\n",
        "    return False\n",
        "  ## recursive case\n",
        "  return isPowerofTwo(n//2)\n",
        "\n",
        "a = isPowerofTwo(64)\n",
        "print(a)"
      ],
      "metadata": {
        "colab": {
          "base_uri": "https://localhost:8080/"
        },
        "id": "nQBk9fuNSDCc",
        "outputId": "6fd9ddd4-48a5-475c-b454-0017c8141e01"
      },
      "execution_count": 32,
      "outputs": [
        {
          "output_type": "stream",
          "name": "stdout",
          "text": [
            "True\n"
          ]
        }
      ]
    },
    {
      "cell_type": "code",
      "source": [
        "## Euclidean algorithm--Greatest common Factor(HCF)\n",
        "def gcd(a,b):\n",
        "  if b==0:\n",
        "    return a\n",
        "  return gcd(b,a%b)\n",
        "\n",
        "## lcm\n",
        "def lcm(a,b):\n",
        "  return (a*b)//gcd(a,b)\n",
        "\n",
        "print(gcd(15,50))\n",
        "print(lcm(15,50))\n"
      ],
      "metadata": {
        "colab": {
          "base_uri": "https://localhost:8080/"
        },
        "id": "llZAB-kHTn38",
        "outputId": "7413dda6-19c7-48bb-d470-cb0bf318f162"
      },
      "execution_count": 33,
      "outputs": [
        {
          "output_type": "stream",
          "name": "stdout",
          "text": [
            "5\n",
            "150\n"
          ]
        }
      ]
    },
    {
      "cell_type": "code",
      "source": [
        "## Leetcode(50):-Pow(x,n)\n",
        "\n",
        "## Leetcode(50):-Pow(x,n)\n",
        "\n",
        "class Solution:\n",
        "    def myPow(self, x: float, n: int) -> float:\n",
        "        # Base case: Any number raised to the power of 0 is 1\n",
        "        if n == 0:\n",
        "            return 1\n",
        "\n",
        "        # If exponent is negative, convert x⁻ⁿ to (1/x)ⁿ and make n positive\n",
        "        if n < 0:\n",
        "            x = 1 / x   # Reciprocal of x\n",
        "            n = -n      # Convert n to positive\n",
        "\n",
        "        result = 1  # Initialize result to 1\n",
        "\n",
        "        # Iteratively compute power using exponentiation by squaring\n",
        "        while n:\n",
        "            if n % 2:  # If n is odd, multiply result by x\n",
        "                result *= x\n",
        "\n",
        "            # Square the base value and halve the exponent\n",
        "            x *= x\n",
        "            n //= 2  # Reduce exponent\n",
        "\n",
        "        return result  # Return final computed result\n",
        "\n",
        "# Example usage:\n",
        "sol = Solution()\n",
        "print(sol.myPow(2.0, 10))  # Output: 1024.0\n",
        "print(sol.myPow(2.1, 3))   # Output: 9.261\n",
        "print(sol.myPow(2.0, -2))  # Output: 0.25\n"
      ],
      "metadata": {
        "colab": {
          "base_uri": "https://localhost:8080/"
        },
        "id": "N2X9aH_eX0_C",
        "outputId": "579a779e-f598-4944-824f-d19d9854c38b"
      },
      "execution_count": 34,
      "outputs": [
        {
          "output_type": "stream",
          "name": "stdout",
          "text": [
            "1024.0\n",
            "9.261000000000001\n",
            "0.25\n"
          ]
        }
      ]
    },
    {
      "cell_type": "code",
      "source": [
        "class Solution:\n",
        "    def myPow(self, x: float, n: int) -> float:\n",
        "        if n == 0:\n",
        "            return 1  # Base case: anything raised to power 0 is 1\n",
        "        if n < 0:\n",
        "            return 1 / self.myPow(x, -n)  # Handle negative exponent\n",
        "\n",
        "        if n % 2 == 0:\n",
        "            return self.myPow(x * x, n // 2)  # Reduce problem size by squaring x\n",
        "        else:\n",
        "            return x * self.myPow(x, n - 1)  # Multiply x when n is odd\n",
        "\n",
        "# Example usage:\n",
        "sol = Solution()\n",
        "print(sol.myPow(2.0, 10))  # Output: 1024.0\n",
        "print(sol.myPow(2.1, 3))   # Output: 9.261\n",
        "print(sol.myPow(2.0, -2))  # Output: 0.25\n"
      ],
      "metadata": {
        "colab": {
          "base_uri": "https://localhost:8080/"
        },
        "id": "HduPu8-bY3pb",
        "outputId": "6db620f7-a8b9-4e46-ee6d-c36949fcb4c6"
      },
      "execution_count": 35,
      "outputs": [
        {
          "output_type": "stream",
          "name": "stdout",
          "text": [
            "1024.0\n",
            "9.261000000000001\n",
            "0.25\n"
          ]
        }
      ]
    }
  ]
}