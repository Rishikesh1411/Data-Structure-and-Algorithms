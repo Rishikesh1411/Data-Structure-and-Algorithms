{
  "cells": [
    {
      "cell_type": "markdown",
      "metadata": {
        "id": "view-in-github",
        "colab_type": "text"
      },
      "source": [
        "<a href=\"https://colab.research.google.com/github/Rishikesh1411/Data-Structure-and-Algorithms/blob/main/Searching_and_Sorting.ipynb\" target=\"_parent\"><img src=\"https://colab.research.google.com/assets/colab-badge.svg\" alt=\"Open In Colab\"/></a>"
      ]
    },
    {
      "cell_type": "code",
      "execution_count": null,
      "metadata": {
        "colab": {
          "base_uri": "https://localhost:8080/"
        },
        "id": "dCozQ5fRJQuk",
        "outputId": "a37e1a15-4ffe-4d63-c740-65e2136a79d7"
      },
      "outputs": [
        {
          "name": "stdout",
          "output_type": "stream",
          "text": [
            "[1, 2, 3, 5]\n",
            "[0, 0, 1, 1, 2, 5]\n"
          ]
        }
      ],
      "source": [
        "# Leetcode(912) - Bubble Sort Implementation\n",
        "\n",
        "class Solution(object):\n",
        "    def sortArray(self, nums):\n",
        "        \"\"\"\n",
        "        Implements Bubble Sort to sort the given list of numbers.\n",
        "\n",
        "        Time Complexity:\n",
        "        - Worst-case: O(n^2) (when the array is in reverse order)\n",
        "        - Best-case: O(n) (when the array is already sorted with an optimization)\n",
        "        - Average-case: O(n^2) (due to repeated comparisons and swaps)\n",
        "\n",
        "        Space Complexity:\n",
        "        - O(1) (sorting is performed in-place without additional storage)\n",
        "        \"\"\"\n",
        "\n",
        "        n = len(nums)  # O(1), retrieving the length of the list\n",
        "\n",
        "        # Outer loop controls the number of passes\n",
        "        for i in range(n):  # O(n), runs 'n' times\n",
        "\n",
        "            # Inner loop performs pairwise comparisons and swaps\n",
        "            for j in range(n - i - 1):  # O(n), runs decreasing times per iteration\n",
        "\n",
        "                # Compare adjacent elements\n",
        "                if nums[j] > nums[j + 1]:  # O(1), constant time comparison operation\n",
        "\n",
        "                    # Swap elements if they are in the wrong order\n",
        "                    temp = nums[j]  # O(1), temporary storage for swapping\n",
        "                    nums[j] = nums[j + 1]  # O(1), moving smaller element to left\n",
        "                    nums[j + 1] = temp  # O(1), placing original element in the correct position\n",
        "\n",
        "        return nums  # O(1), returning the sorted list\n",
        "\n",
        "# Create an instance of the Solution class\n",
        "arr = Solution()\n",
        "\n",
        "# Test case 1\n",
        "nums = [5, 2, 3, 1]\n",
        "print(arr.sortArray(nums))  # Expected output: [1, 2, 3, 5], Complexity: O(n^2)\n",
        "\n",
        "# Test case 2\n",
        "nums = [5, 1, 1, 2, 0, 0]\n",
        "print(arr.sortArray(nums))  # Expected output: [0, 0, 1, 1, 2, 5], Complexity: O(n^2)\n"
      ]
    },
    {
      "cell_type": "code",
      "execution_count": null,
      "metadata": {
        "colab": {
          "base_uri": "https://localhost:8080/"
        },
        "id": "RjSrbtaTT5c-",
        "outputId": "32d8684d-e3ad-4166-a653-117c65146e8c"
      },
      "outputs": [
        {
          "name": "stdout",
          "output_type": "stream",
          "text": [
            "[1, 2, 3, 5]\n",
            "[0, 0, 1, 1, 2, 5]\n"
          ]
        }
      ],
      "source": [
        "# Leetcode(912) - Optimized Bubble Sort Implementation\n",
        "# This version includes an early stopping mechanism using the 'isSwap' flag.\n",
        "# If no swaps occur in an iteration, the algorithm terminates early, reducing unnecessary checks.\n",
        "\n",
        "class Solution(object):\n",
        "    def sortArray(self, nums):\n",
        "        \"\"\"\n",
        "        Implements Bubble Sort with an optimization.\n",
        "\n",
        "        Time Complexity:\n",
        "        - Worst-case: O(n^2) (when the array is in reverse order)\n",
        "        - Best-case: O(n) (when the array is already sorted, reducing iterations)\n",
        "        - Average-case: O(n^2) (due to repeated comparisons and swaps)\n",
        "\n",
        "        Space Complexity:\n",
        "        - O(1) (sorting is performed in-place without additional storage)\n",
        "\n",
        "        :param nums: List[int] - List of numbers to be sorted\n",
        "        :return: List[int] - Sorted list\n",
        "        \"\"\"\n",
        "\n",
        "        n = len(nums)  # O(1), retrieving the length of the list\n",
        "\n",
        "        # Outer loop controls the number of passes\n",
        "        for i in range(n):  # O(n), runs 'n' times\n",
        "\n",
        "            # Optimization: Flag to check if a swap occurred\n",
        "            isSwap = False\n",
        "\n",
        "            # Inner loop performs pairwise comparisons and swaps\n",
        "            for j in range(n - i - 1):  # O(n), runs decreasing times per iteration\n",
        "\n",
        "                # Compare adjacent elements\n",
        "                if nums[j] > nums[j + 1]:  # O(1), constant time comparison operation\n",
        "\n",
        "                    # Swap elements if they are in the wrong order\n",
        "                    temp = nums[j]  # O(1), temporary storage for swapping\n",
        "                    nums[j] = nums[j + 1]  # O(1), moving smaller element to left\n",
        "                    nums[j + 1] = temp  # O(1), placing original element in the correct position\n",
        "\n",
        "                    # Mark that a swap occurred\n",
        "                    isSwap = True\n",
        "\n",
        "            # If no swaps occurred, break early - reduces unnecessary iterations\n",
        "            if not isSwap:\n",
        "                break\n",
        "\n",
        "        return nums  # O(1), returning the sorted list\n",
        "\n",
        "# Create an instance of the Solution class\n",
        "arr = Solution()\n",
        "\n",
        "# Test case 1: Regular unsorted list\n",
        "nums = [5, 2, 3, 1]\n",
        "print(arr.sortArray(nums))  # Expected output: [1, 2, 3, 5], Complexity: O(n^2)\n",
        "\n",
        "# Test case 2: Another unsorted list\n",
        "nums = [5, 1, 1, 2, 0, 0]\n",
        "print(arr.sortArray(nums))  # Expected output: [0, 0, 1, 1, 2, 5], Complexity: O(n^2)\n"
      ]
    },
    {
      "cell_type": "code",
      "execution_count": null,
      "metadata": {
        "colab": {
          "base_uri": "https://localhost:8080/"
        },
        "id": "HE4E3q8oT6PC",
        "outputId": "68ee7b89-b2de-4657-f854-c6f785e992dd"
      },
      "outputs": [
        {
          "name": "stdout",
          "output_type": "stream",
          "text": [
            "[1, 2, 3, 5]\n",
            "[0, 0, 1, 1, 2, 5]\n"
          ]
        }
      ],
      "source": [
        "# Leetcode(912) - Insertion Sort Implementation\n",
        "# This algorithm sorts the given list by gradually building the sorted portion one element at a time.\n",
        "\n",
        "class Solution(object):\n",
        "    def sortArray(self, nums):\n",
        "        \"\"\"\n",
        "        Implements Insertion Sort to sort the given list of numbers.\n",
        "\n",
        "        Time Complexity:\n",
        "        - Worst-case: O(n^2) (when the array is sorted in reverse order)\n",
        "        - Best-case: O(n) (when the array is already sorted)\n",
        "        - Average-case: O(n^2) (due to repeated element shifts)\n",
        "\n",
        "        Space Complexity:\n",
        "        - O(1) (sorting is performed in-place without additional storage)\n",
        "\n",
        "        :param nums: List[int] - List of numbers to be sorted\n",
        "        :return: List[int] - Sorted list\n",
        "        \"\"\"\n",
        "\n",
        "        n = len(nums)  # O(1), retrieving the length of the list\n",
        "\n",
        "        # Start loop from index 1 (assuming index 0 is trivially sorted)\n",
        "        for i in range(1, n):  # O(n), iterating through unsorted elements\n",
        "\n",
        "            # Store the current element as 'key' (the value to be placed correctly)\n",
        "            key = nums[i]  # O(1), storing the current element\n",
        "\n",
        "            # Initialize pointer for comparing elements in the sorted portion\n",
        "            j = i - 1  # O(1), setting the index of the previous element\n",
        "\n",
        "            # Shift elements of the sorted portion to make space for 'key'\n",
        "            while j >= 0 and nums[j] > key:  # O(n) worst-case, iterating backwards\n",
        "                nums[j + 1] = nums[j]  # O(1), shifting element to the right\n",
        "                j -= 1  # O(1), moving left\n",
        "\n",
        "            # Place 'key' at its correct position\n",
        "            nums[j + 1] = key  # O(1), inserting element in sorted position\n",
        "\n",
        "        return nums  # O(1), returning sorted list\n",
        "\n",
        "# Create an instance of the Solution class\n",
        "arr = Solution()\n",
        "\n",
        "# Test case 1: Unsorted list\n",
        "nums = [5, 2, 3, 1]\n",
        "print(arr.sortArray(nums))  # Expected output: [1, 2, 3, 5], Complexity: O(n^2)\n",
        "\n",
        "# Test case 2: Another unsorted list\n",
        "nums = [5, 1, 1, 2, 0, 0]\n",
        "print(arr.sortArray(nums))  # Expected output: [0, 0, 1, 1, 2, 5], Complexity: O(n^2)\n",
        "\n"
      ]
    },
    {
      "cell_type": "code",
      "execution_count": null,
      "metadata": {
        "colab": {
          "base_uri": "https://localhost:8080/"
        },
        "id": "UkN7BaROvNE4",
        "outputId": "feca1ea8-b329-42f6-9f05-a06b4a4ba47a"
      },
      "outputs": [
        {
          "name": "stdout",
          "output_type": "stream",
          "text": [
            "[1, 2, 3, 5]\n",
            "[0, 0, 1, 1, 2, 5]\n"
          ]
        }
      ],
      "source": [
        "# Leetcode(912) - Selection Sort Implementation\n",
        "# This algorithm selects the minimum element in each iteration and places it at its correct position.\n",
        "\n",
        "class Solution(object):\n",
        "    def sortArray(self, nums):\n",
        "        \"\"\"\n",
        "        Implements Selection Sort to sort the given list of numbers.\n",
        "\n",
        "        Time Complexity:\n",
        "        - Worst-case: O(n^2) (nested loops iterate through entire list)\n",
        "        - Best-case: O(n^2) (since Selection Sort always performs full iterations)\n",
        "        - Average-case: O(n^2)\n",
        "\n",
        "        Space Complexity:\n",
        "        - O(1) (sorting is performed in-place without additional storage)\n",
        "\n",
        "        :param nums: List[int] - List of numbers to be sorted\n",
        "        :return: List[int] - Sorted list\n",
        "        \"\"\"\n",
        "\n",
        "        n = len(nums)  # O(1), retrieving the length of the list\n",
        "\n",
        "        # Outer loop iterates through each element\n",
        "        for i in range(n):  # O(n), iterating through unsorted elements\n",
        "\n",
        "            # Initialize the minimum element's index\n",
        "            min_index = i  # O(1), setting the initial minimum index\n",
        "\n",
        "            # Inner loop finds the minimum element in the remaining portion\n",
        "            for j in range(i + 1, n):  # O(n), iterating through remaining elements\n",
        "\n",
        "                # Compare and update the minimum index\n",
        "                if nums[j] < nums[min_index]:  # O(1), comparison operation\n",
        "                    min_index = j  # O(1), updating minimum index\n",
        "\n",
        "            # Swap the minimum element found with the current element at index 'i'\n",
        "            nums[i], nums[min_index] = nums[min_index], nums[i]  # O(1), swapping elements\n",
        "\n",
        "        return nums  # O(1), returning sorted list\n",
        "\n",
        "# Create an instance of the Solution class\n",
        "arr = Solution()\n",
        "\n",
        "# Test case 1: Unsorted list\n",
        "nums = [5, 2, 3, 1]\n",
        "print(arr.sortArray(nums))  # Expected output: [1, 2, 3, 5], Complexity: O(n^2)\n",
        "\n",
        "# Test case 2: Another unsorted list\n",
        "nums = [5, 1, 1, 2, 0, 0]\n",
        "print(arr.sortArray(nums))  # Expected output: [0, 0, 1, 1, 2, 5], Complexity: O(n^2)\n",
        "\n",
        "\n"
      ]
    },
    {
      "cell_type": "code",
      "execution_count": null,
      "metadata": {
        "colab": {
          "base_uri": "https://localhost:8080/"
        },
        "id": "Uasp77787HTW",
        "outputId": "5daf2ea2-0ff1-4b16-cc9b-387c5a3d6725"
      },
      "outputs": [
        {
          "name": "stdout",
          "output_type": "stream",
          "text": [
            "[3, 9, 10, 27, 38, 43, 82]\n"
          ]
        }
      ],
      "source": [
        "## Leetcode(912)--Merge sort----\n",
        "class Solution(object):\n",
        "    def merge(self, nums, l, mid, r):\n",
        "        # Divide nums into two subarrays:\n",
        "        # a = left half -> nums[l to mid]\n",
        "        # b = right half -> nums[mid+1 to r]\n",
        "        a = nums[l:mid + 1]\n",
        "        b = nums[mid + 1:r + 1]\n",
        "\n",
        "        i, j, k = 0, 0, l\n",
        "\n",
        "        # Merge the two sorted halves into nums[l..r]\n",
        "        while i < len(a) and j < len(b):\n",
        "            if a[i] <= b[j]:\n",
        "                nums[k] = a[i]\n",
        "                i += 1\n",
        "            else:\n",
        "                nums[k] = b[j]\n",
        "                j += 1\n",
        "            k += 1\n",
        "\n",
        "        # Copy remaining elements from a[], if any\n",
        "        while i < len(a):\n",
        "            nums[k] = a[i]\n",
        "            i += 1\n",
        "            k += 1\n",
        "\n",
        "        # Copy remaining elements from b[], if any\n",
        "        while j < len(b):\n",
        "            nums[k] = b[j]\n",
        "            j += 1\n",
        "            k += 1\n",
        "\n",
        "    def mergeSort(self, nums, l, r):\n",
        "        # Base case: single element\n",
        "        if l >= r:\n",
        "            return\n",
        "\n",
        "        mid = (l + r) // 2\n",
        "\n",
        "        # Recursively sort left half\n",
        "        self.mergeSort(nums, l, mid)\n",
        "\n",
        "        # Recursively sort right half\n",
        "        self.mergeSort(nums, mid + 1, r)\n",
        "\n",
        "        # Merge both halves\n",
        "        self.merge(nums, l, mid, r)\n",
        "\n",
        "    def sortArray(self, nums):\n",
        "        \"\"\"\n",
        "        Example:\n",
        "        Input: nums = [38, 27, 43, 3, 9, 82, 10]\n",
        "        Step-by-step:\n",
        "        - Divide: [38, 27, 43, 3, 9, 82, 10]\n",
        "            -> Left: [38, 27, 43]\n",
        "                -> [38], [27], merge to [27, 38]\n",
        "                -> [27, 38], [43], merge to [27, 38, 43]\n",
        "            -> Right: [3, 9, 82, 10]\n",
        "                -> [3, 9], [82, 10]\n",
        "                -> [3], [9] -> merge to [3, 9]\n",
        "                -> [82], [10] -> merge to [10, 82]\n",
        "                -> merge [3, 9] and [10, 82] -> [3, 9, 10, 82]\n",
        "        - Final Merge: [27, 38, 43] and [3, 9, 10, 82]\n",
        "            -> Result: [3, 9, 10, 27, 38, 43, 82]\n",
        "\n",
        "        Time Complexity:\n",
        "        - Each level of recursion merges `n` elements: O(n)\n",
        "        - There are log₂n levels (due to divide steps)\n",
        "        => Overall: O(n log n)\n",
        "\n",
        "        Space Complexity:\n",
        "        - O(n) auxiliary space due to array slicing\n",
        "        \"\"\"\n",
        "\n",
        "        self.mergeSort(nums, 0, len(nums) - 1)\n",
        "        return nums\n",
        "print(Solution().sortArray([38, 27, 43, 3, 9, 82, 10]))\n",
        "# Output: [3, 9, 10, 27, 38, 43, 82]"
      ]
    },
    {
      "cell_type": "code",
      "execution_count": null,
      "metadata": {
        "colab": {
          "base_uri": "https://localhost:8080/"
        },
        "id": "NMAcYpxNXZWG",
        "outputId": "c1a501d6-bcbf-490a-bf6e-77878206fdb0"
      },
      "outputs": [
        {
          "name": "stdout",
          "output_type": "stream",
          "text": [
            "[3, 9, 10, 27, 38, 43, 82]\n"
          ]
        }
      ],
      "source": [
        "## Leetcode(Quick Sort)--912\n",
        "class Solution(object):\n",
        "    def partition(self, nums, l, r):\n",
        "        key = nums[r]\n",
        "        start = l\n",
        "\n",
        "        for i in range(l, r + 1):\n",
        "            if nums[i] <= key:\n",
        "                nums[start], nums[i] = nums[i], nums[start]\n",
        "                start += 1\n",
        "\n",
        "        return start - 1\n",
        "\n",
        "    def quickSort(self, nums, l, r):\n",
        "        if l >= r:\n",
        "            return\n",
        "\n",
        "        p = self.partition(nums, l, r)\n",
        "        self.quickSort(nums, l, p - 1)\n",
        "        self.quickSort(nums, p + 1, r)\n",
        "\n",
        "    def sortArray(self, nums):\n",
        "        \"\"\"\n",
        "        Example:\n",
        "        Input: nums = [4, 2, 7, 1, 3]\n",
        "\n",
        "        Step 1: pivot = 3 → partitioned as [2, 1, 3, 7, 4]\n",
        "        Step 2: left = [2, 1] → pivot = 1 → [1, 2]\n",
        "        Step 3: right = [7, 4] → pivot = 4 → [4, 7]\n",
        "\n",
        "        Final sorted array = [1, 2, 3, 4, 7]\n",
        "\n",
        "        Time Complexity:\n",
        "        - Best / Average case: O(n log n)\n",
        "        - Worst case: O(n²) when pivot splits are unbalanced\n",
        "        - Space: O(log n) due to recursion stack\n",
        "        \"\"\"\n",
        "        n = len(nums)\n",
        "        self.quickSort(nums, 0, n - 1)\n",
        "        return nums\n",
        "print(Solution().sortArray([38, 27, 43, 3, 9, 82, 10]))\n",
        "# Output: [3, 9, 10, 27, 38, 43, 82]"
      ]
    },
    {
      "cell_type": "code",
      "execution_count": null,
      "metadata": {
        "colab": {
          "base_uri": "https://localhost:8080/"
        },
        "id": "qVAYuqKBeP8A",
        "outputId": "2c367609-627b-4f65-957e-cc34dcc3dd08"
      },
      "outputs": [
        {
          "name": "stdout",
          "output_type": "stream",
          "text": [
            "[3, 9, 10, 27, 38, 43, 82]\n"
          ]
        }
      ],
      "source": [
        "## Leetcode(count Sort)-- for number in specific range([0-10],[10-20])----\n",
        "class Solution(object):\n",
        "  def sortArray(self, nums):\n",
        "    # Example input: [4, 2, 2, 8, 3, 3, 1]\n",
        "    n = len(nums)            # n = 7\n",
        "    mx = max(nums)           # mx = 8\n",
        "\n",
        "    # Initialize frequency array of size (max + 1)\n",
        "    freq = [0] * (mx + 1)    # freq = [0]*9 → [0,0,0,0,0,0,0,0,0]\n",
        "\n",
        "    # Build frequency array by counting elements\n",
        "    for i in nums:\n",
        "      freq[i] += 1           # freq becomes:\n",
        "                             # freq[1] +=1 → [0,1,0,0,0,0,0,0,0]\n",
        "                             # freq[3] +=2 → [0,1,0,2,0,0,0,0,0]\n",
        "                             # freq[2] +=2 → [0,1,2,2,0,0,0,0,0]\n",
        "                             # freq[4] +=1 → [0,1,2,2,1,0,0,0,0]\n",
        "                             # freq[8] +=1 → [0,1,2,2,1,0,0,0,1]\n",
        "\n",
        "    # Clear original list before inserting sorted elements\n",
        "    nums[:] = []\n",
        "\n",
        "    # freq = [0, 1, 2, 2, 1, 0, 0, 0, 1] ← after counting frequencies\n",
        "    # index i represents the value, freq[i] represents the count\n",
        "\n",
        "    # Traverse freq array and append sorted values\n",
        "    for i in range(0, mx + 1):       # i goes from 0 to 8\n",
        "\n",
        "      # Check how many times current number i occurs\n",
        "      while freq[i] > 0:\n",
        "        nums.append(i)               # Append the number i to nums\n",
        "                                    # Example: when i = 1 → nums = [1]\n",
        "                                    # when i = 2 → nums = [1, 2, 2]\n",
        "                                    # when i = 3 → nums = [1, 2, 2, 3, 3]\n",
        "                                    # when i = 4 → nums = [1, 2, 2, 3, 3, 4]\n",
        "                                    # when i = 8 → nums = [1, 2, 2, 3, 3, 4, 8]\n",
        "\n",
        "        freq[i] -= 1                 # Decrease count → freq[i] = freq[i] - 1\n",
        "                                    # This ensures we only add i freq[i] times\n",
        "\n",
        "    # Return the final sorted list\n",
        "    return nums                      # Final output: [1, 2, 2, 3, 3, 4, 8]\n",
        "\n",
        "\n",
        "\n",
        "\n",
        "print(Solution().sortArray([38, 27, 43, 3, 9, 82, 10]))\n",
        "# Output: [3, 9, 10, 27, 38, 43, 82]\n",
        "\n"
      ]
    },
    {
      "cell_type": "code",
      "execution_count": null,
      "metadata": {
        "colab": {
          "base_uri": "https://localhost:8080/"
        },
        "id": "sHXCM72DAqz8",
        "outputId": "0418ccd7-8acb-421f-9c47-eb5a7e737e10"
      },
      "outputs": [
        {
          "name": "stdout",
          "output_type": "stream",
          "text": [
            "[0, 0, 0, 1, 1, 1, 2, 2, 2, 2]\n"
          ]
        }
      ],
      "source": [
        "## Leetcode(75)----\n",
        "class Solution(object):\n",
        "    def sortColors(self, nums):\n",
        "        left = 0                # Marks boundary for 0s\n",
        "        right = len(nums) - 1  # Marks boundary for 2s\n",
        "        i = 0                   # Current index\n",
        "\n",
        "        # Initial nums: [2, 0, 2, 1, 1, 0]\n",
        "        # Initial pointers: left=0, right=5, i=0\n",
        "\n",
        "        while i <= right:\n",
        "            if nums[i] == 1:\n",
        "                # 1 is in correct place, move on\n",
        "                i += 1\n",
        "\n",
        "            elif nums[i] == 0:\n",
        "                # Swap current with left pointer\n",
        "                # Swap nums[i]=0 with nums[left]\n",
        "                temp = nums[i]\n",
        "                nums[i] = nums[left]\n",
        "                nums[left] = temp\n",
        "\n",
        "                # Move both pointers forward\n",
        "                i += 1\n",
        "                left += 1\n",
        "\n",
        "                # Example: i=1, nums=[0, 2, 2, 1, 1, 0], left=1\n",
        "\n",
        "            else:  # nums[i] == 2\n",
        "                # Swap current with right pointer\n",
        "                temp = nums[i]\n",
        "                nums[i] = nums[right]\n",
        "                nums[right] = temp\n",
        "\n",
        "                # Move only right backward (don’t increment i yet!)\n",
        "                right -= 1\n",
        "\n",
        "                # Example: i=0, nums=[0, 0, 2, 1, 1, 2], right=4\n",
        "                # i stays at 0 to recheck the swapped-in value\n",
        "        return nums\n",
        "cl = Solution()\n",
        "nums = [0,2,1,2,1,0,2,1,2,0]\n",
        "print(cl.sortColors(nums))"
      ]
    },
    {
      "cell_type": "code",
      "execution_count": null,
      "metadata": {
        "colab": {
          "base_uri": "https://localhost:8080/"
        },
        "id": "rXlBPdmxVx-Y",
        "outputId": "2da52875-b964-47e7-b174-64793cedc9e6"
      },
      "outputs": [
        {
          "name": "stdout",
          "output_type": "stream",
          "text": [
            "[1, 2, 3, 4, 5, 6]\n"
          ]
        }
      ],
      "source": [
        "## Leetcode(88)---merge sorted subarrays\n",
        "class Solution(object):\n",
        "    def merge(self, nums1, m, nums2, n):\n",
        "        i = m - 1       # i = 2 → pointing to 5 in nums1\n",
        "        j = n - 1       # j = 2 → pointing to 6 in nums2\n",
        "        k = m + n - 1   # k = 5 → last index to fill in nums1\n",
        "\n",
        "        # Step-by-step merging in reverse\n",
        "        while j >= 0:\n",
        "            if i >= 0 and nums1[i] > nums2[j]:\n",
        "                nums1[k] = nums1[i]   # Place nums1[i] at the end\n",
        "                i -= 1\n",
        "            else:\n",
        "                nums1[k] = nums2[j]   # Place nums2[j] at the end\n",
        "                j -= 1\n",
        "            k -= 1\n",
        "\n",
        "        # Step-by-step execution with:\n",
        "        # Input:\n",
        "        # nums1 = [1, 3, 5, 0, 0, 0]\n",
        "        # m = 3\n",
        "        # nums2 = [2, 4, 6]\n",
        "        # n = 3\n",
        "\n",
        "        # Round 1: nums1[2]=5 < nums2[2]=6 → nums1[5] = 6, j=1, k=4\n",
        "        # nums1 = [1, 3, 5, 0, 0, 6]\n",
        "        # Round 2: nums1[2]=5 > nums2[1]=4 → nums1[4] = 5, i=1, k=3\n",
        "        # nums1 = [1, 3, 5, 0, 5, 6]\n",
        "        # Round 3: nums1[1]=3 < nums2[1]=4 → nums1[3] = 4, j=0, k=2\n",
        "        # nums1 = [1, 3, 5, 4, 5, 6]\n",
        "        # Round 4: nums1[1]=3 > nums2[0]=2 → nums1[2] = 3, i=0, k=1\n",
        "        # nums1 = [1, 3, 3, 4, 5, 6]\n",
        "        # Round 5: nums1[0]=1 < nums2[0]=2 → nums1[1] = 2, j=-1, k=0\n",
        "        # nums1 = [1, 2, 3, 4, 5, 6]\n",
        "\n",
        "        return nums1\n",
        "\n",
        "# 🔎 Output Example:\n",
        "obj = Solution()\n",
        "nums1 = [1, 3, 5, 0, 0, 0]\n",
        "nums2 = [2, 4, 6]\n",
        "obj.merge(nums1, 3, nums2, 3)\n",
        "print(nums1)  # ➞ [1, 2, 3, 4, 5, 6]\n"
      ]
    },
    {
      "cell_type": "code",
      "execution_count": null,
      "metadata": {
        "colab": {
          "base_uri": "https://localhost:8080/",
          "height": 70
        },
        "id": "zCPKgdMAC7uh",
        "outputId": "63b4e8da-ed00-49c6-fe36-1c95c1c8ea01"
      },
      "outputs": [
        {
          "name": "stdout",
          "output_type": "stream",
          "text": [
            "Minimum intervals to remove: 2\n"
          ]
        },
        {
          "data": {
            "application/vnd.google.colaboratory.intrinsic+json": {
              "type": "string"
            },
            "text/plain": [
              "'\\nTime Complexity:\\n- Sorting takes O(n log n), where n is the number of intervals.\\n- The loop runs in O(n), so total time complexity is O(n log n).\\n\\nSpace Complexity:\\n- Sorting is in-place and we use only a few variables → O(1) auxiliary space.\\n'"
            ]
          },
          "execution_count": 9,
          "metadata": {},
          "output_type": "execute_result"
        }
      ],
      "source": [
        "### Leetcode(435)------\n",
        "class Solution(object):\n",
        "    def eraseOverlapIntervals(self, intervals):\n",
        "        # Step 1: Sort intervals by their end times\n",
        "        # Sorted: [[1, 2], [1, 3], [2, 3], [3, 4]]\n",
        "        intervals.sort(key=lambda x: x[1])\n",
        "\n",
        "        n = len(intervals)  # Total number of intervals (4 in this case)\n",
        "\n",
        "        prev = 0  # We start with the first interval: [1, 2]\n",
        "        count = 1  # We choose [1, 2] as the first non-overlapping interval\n",
        "\n",
        "        # Step-by-step loop walkthrough:\n",
        "        for i in range(1, n):\n",
        "          if intervals[i][0]>= intervals[prev][1]:\n",
        "            count+= 1\n",
        "            prev = i\n",
        "            # i = 1: interval = [1, 3]\n",
        "            # Start of [1, 3] = 1, End of [1, 2] = 2 → 1 < 2, so it's overlapping → skip it\n",
        "\n",
        "            # i = 2: interval = [2, 3]\n",
        "            # Start of [2, 3] = 2, End of [1, 2] = 2 → 2 >= 2 → non-overlapping\n",
        "            # Keep [2, 3], update prev to 2, count = 2\n",
        "\n",
        "            # i = 3: interval = [3, 4]\n",
        "            # Start of [3, 4] = 3, End of [2, 3] = 3 → 3 >= 3 → non-overlapping\n",
        "            # Keep [3, 4], update prev to 3, count = 3\n",
        "\n",
        "        # Final count of non-overlapping intervals = 3\n",
        "        # So, intervals to remove = 4 - 3 = 1\n",
        "          return n - count\n",
        "\n",
        "# Example usage:\n",
        "solution = Solution()\n",
        "example_intervals = [[1, 2], [2, 3], [3, 4], [1, 3]]\n",
        "print(\"Minimum intervals to remove:\", solution.eraseOverlapIntervals(example_intervals))\n",
        "\n",
        "\"\"\"\n",
        "Time Complexity:\n",
        "- Sorting takes O(n log n), where n is the number of intervals.\n",
        "- The loop runs in O(n), so total time complexity is O(n log n).\n",
        "\n",
        "Space Complexity:\n",
        "- Sorting is in-place and we use only a few variables → O(1) auxiliary space.\n",
        "\"\"\"\n"
      ]
    },
    {
      "cell_type": "markdown",
      "metadata": {
        "id": "D7obecOCExJd"
      },
      "source": [
        "## Searching"
      ]
    },
    {
      "cell_type": "code",
      "execution_count": null,
      "metadata": {
        "colab": {
          "base_uri": "https://localhost:8080/",
          "height": 70
        },
        "id": "j2U4_0NLC_Pb",
        "outputId": "9e194439-2eb8-49d7-fb04-1af34a4c58da"
      },
      "outputs": [
        {
          "name": "stdout",
          "output_type": "stream",
          "text": [
            "Target index: 2\n"
          ]
        },
        {
          "data": {
            "application/vnd.google.colaboratory.intrinsic+json": {
              "type": "string"
            },
            "text/plain": [
              "'\\nTime Complexity:\\n- O(n), where n is the number of elements in the list.\\n- In the worst case, the algorithm may scan all elements.\\n\\nSpace Complexity:\\n- O(1), as it uses a constant amount of additional space (just a loop counter).\\n'"
            ]
          },
          "execution_count": 12,
          "metadata": {},
          "output_type": "execute_result"
        }
      ],
      "source": [
        "## Leetcode(704)\n",
        "class Solution(object):\n",
        "    def search(self, nums, target):\n",
        "        # Iterate through the list from start to end\n",
        "        for i in range(len(nums)):\n",
        "            # Check if the current element matches the target\n",
        "            if nums[i] == target:\n",
        "                return i  # Target found at index i\n",
        "        return -1  # Target not found in the list\n",
        "\n",
        "# Example usage:\n",
        "solution = Solution()\n",
        "nums = [10, 20, 30, 40, 50]\n",
        "target = 30\n",
        "print(\"Target index:\", solution.search(nums, target))  # Output: 2\n",
        "\n",
        "\"\"\"\n",
        "Time Complexity:\n",
        "- O(n), where n is the number of elements in the list.\n",
        "- In the worst case, the algorithm may scan all elements.\n",
        "\n",
        "Space Complexity:\n",
        "- O(1), as it uses a constant amount of additional space (just a loop counter).\n",
        "\"\"\"\n"
      ]
    },
    {
      "cell_type": "code",
      "execution_count": null,
      "metadata": {
        "colab": {
          "base_uri": "https://localhost:8080/"
        },
        "id": "Nqz5uza0LYYB",
        "outputId": "8ab40ebf-b490-4291-db1f-da646e92147b"
      },
      "outputs": [
        {
          "name": "stdout",
          "output_type": "stream",
          "text": [
            "Target index: 0\n"
          ]
        }
      ],
      "source": [
        "class Solution(object):\n",
        "    def search(self, nums, target):\n",
        "        # Binary Search Algorithm\n",
        "        # Time Complexity: O(log n)\n",
        "        # Space Complexity: O(1)\n",
        "\n",
        "        n = len(nums)\n",
        "        l = 0          # Left index\n",
        "        r = n - 1      # Right index\n",
        "\n",
        "        while l <= r:\n",
        "            mid = (l + r) // 2  # Compute middle index\n",
        "\n",
        "            if target == nums[mid]:\n",
        "                return mid  # Target found\n",
        "            elif target > nums[mid]:\n",
        "                l = mid + 1  # Search in the right half\n",
        "            else:\n",
        "                r = mid - 1  # Search in the left half\n",
        "\n",
        "        return -1  # Target not found\n",
        "\n",
        "\n",
        "# Example usage:\n",
        "solution = Solution()\n",
        "nums = [10, 20, 30, 40, 50]\n",
        "target = 10\n",
        "\n",
        "# Step-by-step explanation:\n",
        "# Initial list: [10, 20, 30, 40, 50]\n",
        "# Target = 10\n",
        "# l = 0, r = 4 → mid = (0 + 4) // 2 = 2 → nums[2] = 30\n",
        "# Since 10 < 30, search in left half → r = 1\n",
        "\n",
        "# Next iteration:\n",
        "# l = 0, r = 1 → mid = (0 + 1) // 2 = 0 → nums[0] = 10\n",
        "# Found target at index 0 → return 0\n",
        "\n",
        "print(\"Target index:\", solution.search(nums, target))  # Output: 0\n"
      ]
    },
    {
      "cell_type": "code",
      "execution_count": null,
      "metadata": {
        "colab": {
          "base_uri": "https://localhost:8080/",
          "height": 88
        },
        "id": "TUYVti7YLY76",
        "outputId": "6bec445f-1847-46c4-a9eb-b7078cb31085"
      },
      "outputs": [
        {
          "name": "stdout",
          "output_type": "stream",
          "text": [
            "Target insert index: 2\n"
          ]
        },
        {
          "data": {
            "application/vnd.google.colaboratory.intrinsic+json": {
              "type": "string"
            },
            "text/plain": [
              "'\\nStep-by-step for target = 25:\\nInitial nums = [10, 20, 30, 40, 50]\\n\\n1st iteration:\\n  l = 0, r = 4 → mid = 2 → nums[2] = 30\\n  30 >= 25 → ans = 2, r = 1\\n\\n2nd iteration:\\n  l = 0, r = 1 → mid = 0 → nums[0] = 10\\n  10 < 25 → l = 1\\n\\n3rd iteration:\\n  l = 1, r = 1 → mid = 1 → nums[1] = 20\\n  20 < 25 → l = 2\\n\\nLoop ends. Final answer = 2 (insert before 30)\\n\\nTime Complexity:\\n- O(log n) due to binary search.\\n\\nSpace Complexity:\\n- O(1) auxiliary space.\\n'"
            ]
          },
          "execution_count": 14,
          "metadata": {},
          "output_type": "execute_result"
        }
      ],
      "source": [
        "## Leetcode(35)------\n",
        "class Solution(object):\n",
        "    def lowerBound(self, nums, target):\n",
        "        # Find the first index where nums[index] >= target\n",
        "        n = len(nums)\n",
        "        l = 0\n",
        "        r = n - 1\n",
        "        ans = n  # Default answer if no element is >= target\n",
        "\n",
        "        while l <= r:\n",
        "            mid = (l + r) // 2\n",
        "\n",
        "            if nums[mid] >= target:\n",
        "                ans = mid      # Candidate for lower bound\n",
        "                r = mid - 1    # Search in the left half\n",
        "            else:\n",
        "                l = mid + 1    # Search in the right half\n",
        "\n",
        "        return ans\n",
        "\n",
        "    def searchInsert(self, nums, target):\n",
        "        # Return index at which target should be inserted to keep array sorted\n",
        "        return self.lowerBound(nums, target)\n",
        "\n",
        "# Example usage:\n",
        "solution = Solution()\n",
        "nums = [10, 20, 30, 40, 50]\n",
        "target = 25\n",
        "print(\"Target insert index:\", solution.searchInsert(nums, target))  # Output: 2\n",
        "\n",
        "\"\"\"\n",
        "Step-by-step for target = 25:\n",
        "Initial nums = [10, 20, 30, 40, 50]\n",
        "\n",
        "1st iteration:\n",
        "  l = 0, r = 4 → mid = 2 → nums[2] = 30\n",
        "  30 >= 25 → ans = 2, r = 1\n",
        "\n",
        "2nd iteration:\n",
        "  l = 0, r = 1 → mid = 0 → nums[0] = 10\n",
        "  10 < 25 → l = 1\n",
        "\n",
        "3rd iteration:\n",
        "  l = 1, r = 1 → mid = 1 → nums[1] = 20\n",
        "  20 < 25 → l = 2\n",
        "\n",
        "Loop ends. Final answer = 2 (insert before 30)\n",
        "\n",
        "Time Complexity:\n",
        "- O(log n) due to binary search.\n",
        "\n",
        "Space Complexity:\n",
        "- O(1) auxiliary space.\n",
        "\"\"\"\n"
      ]
    },
    {
      "cell_type": "code",
      "execution_count": null,
      "metadata": {
        "colab": {
          "base_uri": "https://localhost:8080/"
        },
        "id": "qAPJpY3nTF7Z",
        "outputId": "ee3353a9-3a5e-479b-b097-312b526ffcd6"
      },
      "outputs": [
        {
          "name": "stdout",
          "output_type": "stream",
          "text": [
            "Upper bound index: 3\n"
          ]
        }
      ],
      "source": [
        "## Using Upper bound\n",
        "class Solution(object):\n",
        "    def upperBound(self, nums, target):\n",
        "        \"\"\"\n",
        "        Returns the index of the first element greater than target\n",
        "        (i.e., the upper bound).\n",
        "        \"\"\"\n",
        "        n = len(nums)\n",
        "        l = 0\n",
        "        r = n - 1\n",
        "        ans = n  # Default to n if no element > target is found\n",
        "\n",
        "        while l <= r:\n",
        "            mid = (l + r) // 2\n",
        "\n",
        "            if nums[mid] > target:\n",
        "                ans = mid      # Potential upper bound candidate\n",
        "                r = mid - 1    # Look left for a smaller valid index\n",
        "            else:\n",
        "                l = mid + 1    # Look right\n",
        "\n",
        "        return ans\n",
        "\n",
        "    def searchInsert(self, nums, target):\n",
        "        return self.upperBound(nums, target)\n",
        "solution = Solution()\n",
        "nums = [10, 20, 30, 40, 50]\n",
        "target = 30\n",
        "print(\"Upper bound index:\", solution.searchInsert(nums, target))  # Output: 3\n"
      ]
    },
    {
      "cell_type": "code",
      "execution_count": null,
      "metadata": {
        "colab": {
          "base_uri": "https://localhost:8080/",
          "height": 105
        },
        "id": "Gx1G9QVxU8LC",
        "outputId": "17df0d3d-981d-4fb2-9b6c-0de799f137a4"
      },
      "outputs": [
        {
          "name": "stdout",
          "output_type": "stream",
          "text": [
            "Target range: [3, 4]\n"
          ]
        },
        {
          "data": {
            "application/vnd.google.colaboratory.intrinsic+json": {
              "type": "string"
            },
            "text/plain": [
              "'\\nStep-by-step for target = 8:\\nnums = [5, 7, 7, 8, 8, 10]\\n\\nlowerBound:\\n- l=0, r=5 → mid=2 → nums[2]=7 < 8 → l = 3\\n- l=3, r=5 → mid=4 → nums[4]=8 == 8 → ans=4, r = 3\\n- l=3, r=3 → mid=3 → nums[3]=8 == 8 → ans=3, r = 2\\n→ lb = 3\\n\\nupperBound:\\n- l=0, r=5 → mid=2 → nums[2]=7 ≤ 8 → l = 3\\n- l=3, r=5 → mid=4 → nums[4]=8 ≤ 8 → l = 5\\n- l=5, r=5 → mid=5 → nums[5]=10 > 8 → ans=5, r = 4\\n→ ub = 5\\n\\n→ Target 8 appears from index 3 to 4 → [3, 4]\\n\\nTime Complexity:\\n- Both lowerBound and upperBound run in O(log n)\\n- Overall: O(log n)\\n\\nSpace Complexity:\\n- O(1), no extra space used\\n'"
            ]
          },
          "execution_count": 16,
          "metadata": {},
          "output_type": "execute_result"
        }
      ],
      "source": [
        "## Leetcode(34)-------\n",
        "class Solution(object):\n",
        "    def lowerBound(self, nums, target):\n",
        "        # Finds the first index where nums[i] >= target\n",
        "        n = len(nums)\n",
        "        l, r = 0, n - 1\n",
        "        ans = n  # Default to n if not found\n",
        "\n",
        "        while l <= r:\n",
        "            mid = (l + r) // 2\n",
        "            if nums[mid] >= target:\n",
        "                ans = mid\n",
        "                r = mid - 1  # Move left to find earlier occurrence\n",
        "            else:\n",
        "                l = mid + 1\n",
        "        return ans\n",
        "\n",
        "    def upperBound(self, nums, target):\n",
        "        # Finds the first index where nums[i] > target\n",
        "        n = len(nums)\n",
        "        l, r = 0, n - 1\n",
        "        ans = n  # Default to n if no element > target\n",
        "\n",
        "        while l <= r:\n",
        "            mid = (l + r) // 2\n",
        "            if nums[mid] > target:\n",
        "                ans = mid\n",
        "                r = mid - 1  # Move left\n",
        "            else:\n",
        "                l = mid + 1\n",
        "        return ans\n",
        "\n",
        "    def searchRange(self, nums, target):\n",
        "        lb = self.lowerBound(nums, target)\n",
        "        ub = self.upperBound(nums, target)\n",
        "\n",
        "        # If lb == ub, it means target is not present\n",
        "        if lb == ub:\n",
        "            return [-1, -1]\n",
        "        else:\n",
        "            return [lb, ub - 1]  # Range is [first_occurrence, last_occurrence]\n",
        "\n",
        "# Example usage:\n",
        "solution = Solution()\n",
        "nums = [5, 7, 7, 8, 8, 10]\n",
        "target = 8\n",
        "print(\"Target range:\", solution.searchRange(nums, target))  # Output: [3, 4]\n",
        "\n",
        "\"\"\"\n",
        "Step-by-step for target = 8:\n",
        "nums = [5, 7, 7, 8, 8, 10]\n",
        "\n",
        "lowerBound:\n",
        "- l=0, r=5 → mid=2 → nums[2]=7 < 8 → l = 3\n",
        "- l=3, r=5 → mid=4 → nums[4]=8 == 8 → ans=4, r = 3\n",
        "- l=3, r=3 → mid=3 → nums[3]=8 == 8 → ans=3, r = 2\n",
        "→ lb = 3\n",
        "\n",
        "upperBound:\n",
        "- l=0, r=5 → mid=2 → nums[2]=7 ≤ 8 → l = 3\n",
        "- l=3, r=5 → mid=4 → nums[4]=8 ≤ 8 → l = 5\n",
        "- l=5, r=5 → mid=5 → nums[5]=10 > 8 → ans=5, r = 4\n",
        "→ ub = 5\n",
        "\n",
        "→ Target 8 appears from index 3 to 4 → [3, 4]\n",
        "\n",
        "Time Complexity:\n",
        "- Both lowerBound and upperBound run in O(log n)\n",
        "- Overall: O(log n)\n",
        "\n",
        "Space Complexity:\n",
        "- O(1), no extra space used\n",
        "\"\"\"\n"
      ]
    },
    {
      "cell_type": "code",
      "execution_count": 2,
      "metadata": {
        "colab": {
          "base_uri": "https://localhost:8080/"
        },
        "id": "93Kd4o_eXw_Y",
        "outputId": "1ddd5cc7-d9d7-461f-e016-3328e6828091"
      },
      "outputs": [
        {
          "output_type": "stream",
          "name": "stdout",
          "text": [
            "Peak index: 3\n"
          ]
        }
      ],
      "source": [
        "## Leetcode(852)------\n",
        "class Solution(object):\n",
        "    def peakIndexInMountainArray(self, arr):\n",
        "        # Time Complexity: O(log n), where n is the length of the array.\n",
        "        # Space Complexity: O(1), constant space is used.\n",
        "\n",
        "        n = len(arr)       # Get the length of the array\n",
        "        l = 0              # Initialize left pointer to the start of the array\n",
        "        r = n - 1          # Initialize right pointer to the end of the array\n",
        "        ans = n - 1        # Default peak index as the last index (will be updated)\n",
        "\n",
        "        while l <= r:      # Binary search continues as long as search space is valid\n",
        "            mid = (l + r) // 2   # Find middle index\n",
        "\n",
        "            # Check if we are in the increasing slope of the mountain\n",
        "            if arr[mid] < arr[mid + 1]:\n",
        "                l = mid + 1      # Move right: the peak must be after mid\n",
        "            else:\n",
        "                ans = mid        # Potential peak found, update answer\n",
        "                r = mid - 1      # Move left: the peak might be earlier\n",
        "\n",
        "        return ans               # Return the peak index\n",
        "\n",
        "# Example usage:\n",
        "arr = [0, 2, 5, 10, 7, 4, 1]\n",
        "sol = Solution()\n",
        "peak = sol.peakIndexInMountainArray(arr)\n",
        "print(\"Peak index:\", peak)  # Output: Peak index: 3\n",
        "\n",
        "# Explanation:\n",
        "# arr[3] = 10 is the peak element since:\n",
        "# arr[2] = 5 < 10 (ascending before) and arr[4] = 7 < 10 (descending after)\n",
        "# # Initial: l = 0, r = 6, n = 7, ans = 6\n",
        "\n",
        "# # Iteration 1:\n",
        "# mid = (0 + 6) // 2 = 3\n",
        "# arr[3] = 7, arr[4] = 6\n",
        "# => arr[mid] > arr[mid+1] → move left\n",
        "# => ans = 3, r = 2\n",
        "\n",
        "# # Iteration 2:\n",
        "# l = 0, r = 2\n",
        "# mid = (0 + 2) // 2 = 1\n",
        "# arr[1] = 2, arr[2] = 4\n",
        "# => arr[mid] < arr[mid+1] → move right\n",
        "# => l = 2\n",
        "\n",
        "# # Iteration 3:\n",
        "# l = 2, r = 2\n",
        "# mid = (2 + 2) // 2 = 2\n",
        "# arr[2] = 4, arr[3] = 7\n",
        "# => arr[mid] < arr[mid+1] → move right\n",
        "# => l = 3\n",
        "\n",
        "# # Now l = 3, r = 2 → exit loop\n",
        "# return ans → 3\n"
      ]
    },
    {
      "cell_type": "code",
      "execution_count": 6,
      "metadata": {
        "id": "vHZMpKUfYDwY",
        "colab": {
          "base_uri": "https://localhost:8080/"
        },
        "outputId": "02821ed8-7754-42f8-c2eb-0176ed84d3ed"
      },
      "outputs": [
        {
          "output_type": "stream",
          "name": "stdout",
          "text": [
            "4\n"
          ]
        }
      ],
      "source": [
        "## Leetcode(33)----\n",
        "class Solution(object):\n",
        "    def search(self, nums, target):\n",
        "        # Time Complexity: O(log n), due to binary search\n",
        "        # Space Complexity: O(1), as no extra space is used\n",
        "\n",
        "        l, r = 0, len(nums) - 1\n",
        "\n",
        "        while l <= r:\n",
        "            mid = (l + r) // 2  # Find mid index\n",
        "\n",
        "            if nums[mid] == target:\n",
        "                return mid  # Target found at mid\n",
        "\n",
        "            # Check if left half is sorted\n",
        "            if nums[l] <= nums[mid]:\n",
        "                if nums[l] <= target < nums[mid]:\n",
        "                    r = mid - 1  # Target in left sorted half\n",
        "                else:\n",
        "                    l = mid + 1  # Target in right half\n",
        "            else:\n",
        "                # Right half is sorted\n",
        "                if nums[mid] < target <= nums[r]:\n",
        "                    l = mid + 1  # Target in right sorted half\n",
        "                else:\n",
        "                    r = mid - 1  # Target in left half\n",
        "\n",
        "        return -1  # Target not found\n",
        "\n",
        "arr = Solution()\n",
        "\n",
        "nums = [4, 5, 6, 7, 0, 1, 2]\n",
        "target = 0\n",
        "# Output: 4 (index of 0)\n",
        "print(arr.search(nums,target))\n"
      ]
    },
    {
      "cell_type": "code",
      "source": [
        "## Leetcode(69)----\n",
        "class Solution(object):\n",
        "    def mySqrt(self, x):\n",
        "        # Time Complexity: O(log x)\n",
        "        # Space Complexity: O(1)\n",
        "        # Binary search is used to find the integer square root.\n",
        "        # We are not using any extra space, only constant variables.\n",
        "\n",
        "        l = 1            # Initialize the left boundary for binary search\n",
        "        r = x            # Initialize the right boundary\n",
        "        ans = 1          # Variable to store the most recent valid answer\n",
        "\n",
        "        if x < 2:\n",
        "            return x     # For x = 0 or 1, return x itself (sqrt(0)=0, sqrt(1)=1)\n",
        "\n",
        "        # Begin binary search\n",
        "        while l <= r:\n",
        "            mid = (l + r) // 2         # Find the middle point\n",
        "            midSquare = mid ** 2       # Compute square of mid\n",
        "\n",
        "            if midSquare > x:          # If mid^2 is greater than x,\n",
        "                r = mid - 1            # move the right boundary left\n",
        "            else:\n",
        "                ans = mid              # mid is a possible answer\n",
        "                l = mid + 1            # move left boundary right to find larger sqrt\n",
        "\n",
        "        return ans                     # Return the largest integer whose square <= x\n",
        "\n",
        "\n",
        "# Example:\n",
        "# Let's say x = 10\n",
        "# Binary search space: 1 to 10\n",
        "# Iteration 1: mid = 5 → 5^2 = 25 → 25 > 10 → move right to 4\n",
        "# Iteration 2: mid = 2 → 2^2 = 4  → 4 <= 10 → ans = 2, move left to 3\n",
        "# Iteration 3: mid = 3 → 3^2 = 9  → 9 <= 10 → ans = 3, move left to 4\n",
        "# Iteration 4: mid = 4 → 4^2 = 16 → 16 > 10 → move right to 3\n",
        "# Loop ends, return ans = 3 (since 3^2 = 9 and 4^2 = 16 > 10)\n",
        "\n",
        "s = Solution()\n",
        "x=20\n",
        "print(s.mySqrt(x))"
      ],
      "metadata": {
        "colab": {
          "base_uri": "https://localhost:8080/"
        },
        "id": "9MY83SYwWFEe",
        "outputId": "17bd0c7a-9a75-45ea-f6ca-86e4b0416855"
      },
      "execution_count": 8,
      "outputs": [
        {
          "output_type": "stream",
          "name": "stdout",
          "text": [
            "4\n"
          ]
        }
      ]
    },
    {
      "cell_type": "code",
      "source": [
        "## Leetcode(875)-------\n",
        "class Solution(object):\n",
        "    def getHours(self, piles, mid):\n",
        "        # Helper function to calculate total hours needed to eat all bananas\n",
        "        # at speed 'mid' bananas per hour\n",
        "        ans = 0\n",
        "        for pile in piles:\n",
        "            # ceil(pile / mid) can be written as (pile + mid - 1) // mid\n",
        "            # This represents hours Koko takes to finish a pile at speed 'mid'\n",
        "            ans += (pile + mid - 1) // mid\n",
        "        return ans\n",
        "\n",
        "    def minEatingSpeed(self, piles, h):\n",
        "        # Time Complexity: O(n * log m), where:\n",
        "        #   n = number of piles\n",
        "        #   m = max(piles)\n",
        "        # Space Complexity: O(1) – no extra space used apart from variables\n",
        "\n",
        "        n = len(piles)\n",
        "        l = 1                # Minimum possible eating speed\n",
        "        r = max(piles)       # Maximum possible eating speed\n",
        "        k = r                # Store the minimum valid speed found\n",
        "\n",
        "        # Binary search to find the smallest eating speed that allows finishing in h hours\n",
        "        while l <= r:\n",
        "            mid = (l + r) // 2\n",
        "            # Use helper to calculate total hours with current speed 'mid'\n",
        "            if self.getHours(piles, mid) > h:\n",
        "                # Too slow: increase speed\n",
        "                l = mid + 1\n",
        "            else:\n",
        "                # Speed 'mid' works, try to find a smaller one\n",
        "                k = mid\n",
        "                r = mid - 1\n",
        "        return k\n",
        "\n",
        "# Example usage:\n",
        "if __name__ == \"__main__\":\n",
        "    piles = [3, 6, 7, 11]   # Each pile has this many bananas\n",
        "    h = 8                   # Total hours available\n",
        "\n",
        "    sol = Solution()\n",
        "    min_speed = sol.minEatingSpeed(piles, h)\n",
        "    print(\"Minimum eating speed:\", min_speed)\n",
        "\n",
        "# Output:\n",
        "# Minimum eating speed: 4\n",
        "# Explanation: At speed 4, the hours spent are:\n",
        "# ceil(3/4)=1 + ceil(6/4)=2 + ceil(7/4)=2 + ceil(11/4)=3 → Total = 8 hours\n"
      ],
      "metadata": {
        "colab": {
          "base_uri": "https://localhost:8080/"
        },
        "id": "SwY_GH9Sf4wu",
        "outputId": "dcc1ac92-a560-4586-d90e-37c5bbe56931"
      },
      "execution_count": 9,
      "outputs": [
        {
          "output_type": "stream",
          "name": "stdout",
          "text": [
            "Minimum eating speed: 4\n"
          ]
        }
      ]
    },
    {
      "cell_type": "code",
      "source": [
        "## Leetcode(74)----\n",
        "class Solution(object):\n",
        "    def searchMatrix(self, matrix, target):\n",
        "        # Time Complexity: O(log(m * n)), where m is number of rows and n is number of columns\n",
        "        # Space Complexity: O(1), constant space\n",
        "\n",
        "        rows = len(matrix)\n",
        "        columns = len(matrix[0])\n",
        "\n",
        "        # Treat 2D matrix as a virtual 1D array for binary search\n",
        "        l = 0\n",
        "        r = (rows * columns) - 1\n",
        "\n",
        "        while l <= r:\n",
        "            mid = (l + r) // 2\n",
        "\n",
        "            # Convert 1D index back to 2D row and column\n",
        "            row = mid // columns\n",
        "            col = mid % columns\n",
        "\n",
        "            if matrix[row][col] == target:\n",
        "                return True\n",
        "            elif matrix[row][col] > target:\n",
        "                r = mid - 1\n",
        "            else:\n",
        "                l = mid + 1\n",
        "\n",
        "        return False\n",
        "\n",
        "# Example usage:\n",
        "if __name__ == \"__main__\":\n",
        "    matrix = [\n",
        "        [1, 3, 5, 7],\n",
        "        [10, 11, 16, 20],\n",
        "        [23, 30, 34, 60]\n",
        "    ]\n",
        "    target = 16\n",
        "\n",
        "    sol = Solution()\n",
        "    result = sol.searchMatrix(matrix, target)\n",
        "    print(\"Target found:\", result)\n",
        "\n",
        "# Output:\n",
        "# Target found: True\n",
        "\n",
        "# Explanation:\n",
        "# The matrix is treated like a sorted 1D array:\n",
        "# [1, 3, 5, 7, 10, 11, 16, 20, 23, 30, 34, 60]\n",
        "# Binary search finds 16 at virtual index 6 → maps to matrix[1][2]\n"
      ],
      "metadata": {
        "colab": {
          "base_uri": "https://localhost:8080/"
        },
        "id": "4KZ589Owl95L",
        "outputId": "084189b8-26a5-460c-b8cb-7b3e18180acb"
      },
      "execution_count": 10,
      "outputs": [
        {
          "output_type": "stream",
          "name": "stdout",
          "text": [
            "Target found: True\n"
          ]
        }
      ]
    },
    {
      "cell_type": "code",
      "source": [],
      "metadata": {
        "id": "h-BFzkgBpn_z"
      },
      "execution_count": null,
      "outputs": []
    }
  ],
  "metadata": {
    "colab": {
      "provenance": [],
      "authorship_tag": "ABX9TyPO5DcE7noW+CYGvMpCpwgd",
      "include_colab_link": true
    },
    "kernelspec": {
      "display_name": "Python 3",
      "name": "python3"
    },
    "language_info": {
      "name": "python"
    }
  },
  "nbformat": 4,
  "nbformat_minor": 0
}