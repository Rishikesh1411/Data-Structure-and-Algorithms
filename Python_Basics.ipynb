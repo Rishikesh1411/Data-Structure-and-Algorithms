{
  "nbformat": 4,
  "nbformat_minor": 0,
  "metadata": {
    "colab": {
      "provenance": [],
      "authorship_tag": "ABX9TyMXrySy1rhHZpatTfuM/YYL",
      "include_colab_link": true
    },
    "kernelspec": {
      "name": "python3",
      "display_name": "Python 3"
    },
    "language_info": {
      "name": "python"
    }
  },
  "cells": [
    {
      "cell_type": "markdown",
      "metadata": {
        "id": "view-in-github",
        "colab_type": "text"
      },
      "source": [
        "<a href=\"https://colab.research.google.com/github/Rishikesh1411/Data-Structure-and-Algorithms/blob/main/Python_Basics.ipynb\" target=\"_parent\"><img src=\"https://colab.research.google.com/assets/colab-badge.svg\" alt=\"Open In Colab\"/></a>"
      ]
    },
    {
      "cell_type": "code",
      "execution_count": 1,
      "metadata": {
        "colab": {
          "base_uri": "https://localhost:8080/"
        },
        "id": "Zy0qrrG7vbfa",
        "outputId": "1ccb55c8-ccd4-4e2b-c219-05783de021be"
      },
      "outputs": [
        {
          "output_type": "stream",
          "name": "stdout",
          "text": [
            "Hello World\n"
          ]
        }
      ],
      "source": [
        "print(\"Hello World\")"
      ]
    },
    {
      "cell_type": "code",
      "source": [
        "# this program finds the\n",
        "# average attendance of\n",
        "# monday and tuesday\n",
        "\n",
        "\"\"\"this program finds the\n",
        "average attendance of\n",
        "monday and tuesday\"\"\"\n",
        "\n",
        "monday = 87 # attendance of monday\n",
        "tuesday = 64 # attendance of tuesday\n",
        "\n",
        "avg = (monday+tuesday)/2\n",
        "\n",
        "print(avg)"
      ],
      "metadata": {
        "colab": {
          "base_uri": "https://localhost:8080/"
        },
        "id": "0rC8HOAr1MNK",
        "outputId": "6a672b36-0712-44ca-b698-f5685f136370"
      },
      "execution_count": 2,
      "outputs": [
        {
          "output_type": "stream",
          "name": "stdout",
          "text": [
            "75.5\n"
          ]
        }
      ]
    },
    {
      "cell_type": "code",
      "source": [
        "name_10 = \"abhinav\"\n",
        "age1 = 100\n",
        "\n",
        "_address = \"bangalore\"\n",
        "address = \"bangalore\"\n",
        "\n",
        "name = \"Abhinav\"\n",
        "Name = \"Awasthi\"\n",
        "\n",
        "print(name)\n",
        "print(Name)"
      ],
      "metadata": {
        "colab": {
          "base_uri": "https://localhost:8080/"
        },
        "id": "E92ZzCRc1g4w",
        "outputId": "bb7da078-8d34-4aa8-d2ee-8bde2680e925"
      },
      "execution_count": 3,
      "outputs": [
        {
          "output_type": "stream",
          "name": "stdout",
          "text": [
            "Abhinav\n",
            "Awasthi\n"
          ]
        }
      ]
    },
    {
      "cell_type": "code",
      "source": [
        "wjhefiuqewhkir34758rigfehiuwkhfiwe = \"hello\"\n",
        "print(wjhefiuqewhkir34758rigfehiuwkhfiwe)"
      ],
      "metadata": {
        "colab": {
          "base_uri": "https://localhost:8080/"
        },
        "id": "Q1Aagkyo-7oi",
        "outputId": "6f00c109-a813-4c14-d65c-d8ac8274f86d"
      },
      "execution_count": 4,
      "outputs": [
        {
          "output_type": "stream",
          "name": "stdout",
          "text": [
            "hello\n"
          ]
        }
      ]
    },
    {
      "cell_type": "code",
      "source": [
        "print(34+324)\n",
        "print(34-324)\n",
        "print(34*324)\n",
        "print(34/3)\n",
        "print(34//3)\n",
        "print(34%3)\n",
        "print(2**3)"
      ],
      "metadata": {
        "colab": {
          "base_uri": "https://localhost:8080/"
        },
        "id": "StL-pJHW3XUC",
        "outputId": "e8e52626-9088-4867-d8f3-b51d04f3a389"
      },
      "execution_count": 5,
      "outputs": [
        {
          "output_type": "stream",
          "name": "stdout",
          "text": [
            "358\n",
            "-290\n",
            "11016\n",
            "11.333333333333334\n",
            "11\n",
            "1\n",
            "8\n"
          ]
        }
      ]
    },
    {
      "cell_type": "code",
      "source": [
        "a = 5\n",
        "a+=2\n",
        "a*=3\n",
        "\n",
        "print(a)"
      ],
      "metadata": {
        "colab": {
          "base_uri": "https://localhost:8080/"
        },
        "id": "FmaDbpAR_CHy",
        "outputId": "8f32c7ec-33f5-4a26-e210-dbdddf4d7e42"
      },
      "execution_count": 6,
      "outputs": [
        {
          "output_type": "stream",
          "name": "stdout",
          "text": [
            "21\n"
          ]
        }
      ]
    },
    {
      "cell_type": "code",
      "source": [
        "age = 100\n",
        "height = 12.43\n",
        "c = 2+3j\n",
        "\n",
        "print(age,type(age))\n",
        "print(height,type(height))\n",
        "print(c,type(c))"
      ],
      "metadata": {
        "colab": {
          "base_uri": "https://localhost:8080/"
        },
        "id": "VRb2z_O-_EnK",
        "outputId": "29f95ab5-da28-4701-fea0-7680d221090a"
      },
      "execution_count": 7,
      "outputs": [
        {
          "output_type": "stream",
          "name": "stdout",
          "text": [
            "100 <class 'int'>\n",
            "12.43 <class 'float'>\n",
            "(2+3j) <class 'complex'>\n"
          ]
        }
      ]
    },
    {
      "cell_type": "code",
      "source": [
        "s1 = 'a'\n",
        "s2 = \"abhinav\"\n",
        "s3 = \"my name is abhinav\"\n",
        "\n",
        "print(s1,type(s1))\n",
        "print(s2,type(s2))\n",
        "print(s3,type(s3))"
      ],
      "metadata": {
        "colab": {
          "base_uri": "https://localhost:8080/"
        },
        "id": "c6Goa71v_H0C",
        "outputId": "5d5423dd-b3d7-450e-f40d-6b45a8353a83"
      },
      "execution_count": 8,
      "outputs": [
        {
          "output_type": "stream",
          "name": "stdout",
          "text": [
            "a <class 'str'>\n",
            "abhinav <class 'str'>\n",
            "my name is abhinav <class 'str'>\n"
          ]
        }
      ]
    },
    {
      "cell_type": "code",
      "source": [
        "isMarried = False\n",
        "isGraduated = True\n",
        "\n",
        "print(isMarried,type(isMarried))\n",
        "print(isGraduated,type(isGraduated))"
      ],
      "metadata": {
        "colab": {
          "base_uri": "https://localhost:8080/"
        },
        "id": "y8gjTQ0A_Kgi",
        "outputId": "e000e31b-e77b-46c2-cbe9-9aae80fb0e2e"
      },
      "execution_count": 9,
      "outputs": [
        {
          "output_type": "stream",
          "name": "stdout",
          "text": [
            "False <class 'bool'>\n",
            "True <class 'bool'>\n"
          ]
        }
      ]
    },
    {
      "cell_type": "code",
      "source": [
        "name = None\n",
        "\n",
        "print(name,type(name))\n",
        "\n",
        "s = \"24231\"\n",
        "print(int(s))"
      ],
      "metadata": {
        "colab": {
          "base_uri": "https://localhost:8080/"
        },
        "id": "OKxW7xem_NVK",
        "outputId": "da2b12d7-3953-41a1-ce99-f3d80fd43d94"
      },
      "execution_count": 10,
      "outputs": [
        {
          "output_type": "stream",
          "name": "stdout",
          "text": [
            "None <class 'NoneType'>\n",
            "24231\n"
          ]
        }
      ]
    },
    {
      "cell_type": "code",
      "source": [
        "first_name = input(\"Enter your first name: \")\n",
        "last_name = input(\"Enter your last name: \")\n",
        "\n",
        "print(first_name,last_name)"
      ],
      "metadata": {
        "colab": {
          "base_uri": "https://localhost:8080/"
        },
        "id": "5kogcCzZ_P66",
        "outputId": "fcd92141-fad3-4a06-b9d4-544f9ddcb279"
      },
      "execution_count": 11,
      "outputs": [
        {
          "output_type": "stream",
          "name": "stdout",
          "text": [
            "Enter your first name: r\n",
            "Enter your last name: r]\n",
            "r r]\n"
          ]
        }
      ]
    },
    {
      "cell_type": "code",
      "source": [
        "age = int(input())\n",
        "height = float(input())\n",
        "\n",
        "print(age,height)"
      ],
      "metadata": {
        "colab": {
          "base_uri": "https://localhost:8080/"
        },
        "id": "L0t_X8hj_R9C",
        "outputId": "7c01024c-97a0-45ee-f55a-7122c3865f0a"
      },
      "execution_count": 13,
      "outputs": [
        {
          "output_type": "stream",
          "name": "stdout",
          "text": [
            "5444\n",
            "555\n",
            "5444 555.0\n"
          ]
        }
      ]
    },
    {
      "cell_type": "code",
      "source": [
        "full_name = \"abhinav awasthi\"\n",
        "age = 100\n",
        "address = \"bangalore\"\n",
        "\n",
        "print(full_name,end = \"&&\")\n",
        "print(age)\n",
        "print(address)\n",
        "\n",
        "print(full_name,age,address,sep=\"-\")"
      ],
      "metadata": {
        "colab": {
          "base_uri": "https://localhost:8080/"
        },
        "id": "E4UPf_SE_nAC",
        "outputId": "af973b88-9895-4b33-c8e3-69c5ccf3b3f4"
      },
      "execution_count": 14,
      "outputs": [
        {
          "output_type": "stream",
          "name": "stdout",
          "text": [
            "abhinav awasthi&&100\n",
            "bangalore\n",
            "abhinav awasthi-100-bangalore\n"
          ]
        }
      ]
    },
    {
      "cell_type": "code",
      "source": [
        "# take input of age and on the basis of age print eligible or not eligible for driving license\n",
        "\n",
        "age = int(input())\n",
        "\n",
        "if(age>=18):\n",
        "  test = input()\n",
        "  if test==\"PASS\":\n",
        "    print(\"Eligible for Driving License\")\n",
        "  else:\n",
        "    print(\"Not Eligible for Driving License\")\n",
        "else:\n",
        "  print(\"Not Eligible for Driving License\")"
      ],
      "metadata": {
        "colab": {
          "base_uri": "https://localhost:8080/"
        },
        "id": "Cxs0IzhD_xXC",
        "outputId": "0c2f15e7-5964-4ba2-c119-34f621452409"
      },
      "execution_count": 15,
      "outputs": [
        {
          "output_type": "stream",
          "name": "stdout",
          "text": [
            "45\n",
            "PASS\n",
            "Eligible for Driving License\n"
          ]
        }
      ]
    },
    {
      "cell_type": "code",
      "source": [
        "marks = int(input())\n",
        "\n",
        "# >=90 Excellent\n",
        "# 70-90 Good\n",
        "# 40-70 Fair\n",
        "# <40 Bad\n",
        "\n",
        "if marks>=90:\n",
        "  print(\"Excellent\")\n",
        "elif marks>=70:\n",
        "  print(\"Good\")\n",
        "elif marks>=40:\n",
        "  print(\"Fair\")\n",
        "else:\n",
        "  print(\"Bad\")"
      ],
      "metadata": {
        "colab": {
          "base_uri": "https://localhost:8080/"
        },
        "id": "QDR1HcJt_zuy",
        "outputId": "d700f7fe-d45b-4d0f-e0cd-cb081a419997"
      },
      "execution_count": 16,
      "outputs": [
        {
          "output_type": "stream",
          "name": "stdout",
          "text": [
            "45\n",
            "Fair\n"
          ]
        }
      ]
    },
    {
      "cell_type": "code",
      "source": [
        "temp = int(input())\n",
        "\n",
        "# 25-50->  Hot\n",
        "# 10-24-> Cold\n",
        "# <10 -> Extremely Cold\n",
        "\n",
        "if 25<=temp<=50:\n",
        "  print(\"Hot\")\n",
        "elif 10<=temp<=24:\n",
        "  print(\"Cold\")\n",
        "elif temp<10:\n",
        "  print(\"Extremely Cold\")"
      ],
      "metadata": {
        "colab": {
          "base_uri": "https://localhost:8080/"
        },
        "id": "xNMNoCmY_7xa",
        "outputId": "9000ccc9-6857-4a60-a236-5091366f9610"
      },
      "execution_count": 17,
      "outputs": [
        {
          "output_type": "stream",
          "name": "stdout",
          "text": [
            "19\n",
            "Cold\n"
          ]
        }
      ]
    },
    {
      "cell_type": "code",
      "source": [
        "# Ternary Operator\n",
        "\n",
        "age = int(input())\n",
        "\n",
        "result = \"Eligible\" if age>=18 else \"Not Eligible\"\n",
        "\n",
        "print(result)"
      ],
      "metadata": {
        "colab": {
          "base_uri": "https://localhost:8080/"
        },
        "id": "YiqCiKgt__R6",
        "outputId": "7dc952d4-7185-4dc3-a695-e3fb98c86cd3"
      },
      "execution_count": 18,
      "outputs": [
        {
          "output_type": "stream",
          "name": "stdout",
          "text": [
            "45\n",
            "Eligible\n"
          ]
        }
      ]
    },
    {
      "cell_type": "code",
      "source": [
        "i = 0\n",
        "\n",
        "while i<5:\n",
        "  print(i,end=\" \")\n",
        "  i+=1"
      ],
      "metadata": {
        "colab": {
          "base_uri": "https://localhost:8080/"
        },
        "id": "zB4K29JJADTi",
        "outputId": "cb8f70b6-22ff-4090-fb01-f78f4ea1d464"
      },
      "execution_count": 19,
      "outputs": [
        {
          "output_type": "stream",
          "name": "stdout",
          "text": [
            "0 1 2 3 4 "
          ]
        }
      ]
    },
    {
      "cell_type": "code",
      "source": [
        "list1 = [3,3,5,2,1]\n",
        "\n",
        "for i in list1:\n",
        "  print(i,end=\" \")"
      ],
      "metadata": {
        "colab": {
          "base_uri": "https://localhost:8080/"
        },
        "id": "S3Ml-uNAAINy",
        "outputId": "b6d13180-51a2-44ce-ed45-94d90cd548dc"
      },
      "execution_count": 20,
      "outputs": [
        {
          "output_type": "stream",
          "name": "stdout",
          "text": [
            "3 3 5 2 1 "
          ]
        }
      ]
    },
    {
      "cell_type": "code",
      "source": [
        "for i in range(1,11):\n",
        "  print(i,end=\" \")\n",
        "print()\n",
        "\n",
        "for i in range(5,11):\n",
        "  print(i,end=\" \")\n",
        "print()\n",
        "\n",
        "for i in range(1,11,2):\n",
        "  print(i,end=\" \")\n",
        "print()\n",
        "\n",
        "for i in range(20,0,-1):\n",
        "  print(i,end=\" \")\n",
        "print()\n",
        "\n",
        "for i in range(20,0,-3):\n",
        "  print(i,end=\" \")\n",
        "print()"
      ],
      "metadata": {
        "colab": {
          "base_uri": "https://localhost:8080/"
        },
        "id": "EcVSm_p3AKwa",
        "outputId": "9d07f54b-dcc9-494c-c15a-5f0c255d9e3d"
      },
      "execution_count": 21,
      "outputs": [
        {
          "output_type": "stream",
          "name": "stdout",
          "text": [
            "1 2 3 4 5 6 7 8 9 10 \n",
            "5 6 7 8 9 10 \n",
            "1 3 5 7 9 \n",
            "20 19 18 17 16 15 14 13 12 11 10 9 8 7 6 5 4 3 2 1 \n",
            "20 17 14 11 8 5 2 \n"
          ]
        }
      ]
    },
    {
      "cell_type": "code",
      "source": [
        "def printName(name):\n",
        "  print(name)\n",
        "\n",
        "printName(\"Abhinav Awasthi\")"
      ],
      "metadata": {
        "colab": {
          "base_uri": "https://localhost:8080/"
        },
        "id": "Ds5mZRY3ANgB",
        "outputId": "e1c63f41-27fc-42e1-8c8c-6e30927834cf"
      },
      "execution_count": 22,
      "outputs": [
        {
          "output_type": "stream",
          "name": "stdout",
          "text": [
            "Abhinav Awasthi\n"
          ]
        }
      ]
    },
    {
      "cell_type": "code",
      "source": [
        "def addTwoNumbers(a,b):\n",
        "  sum = a+b\n",
        "  return sum\n",
        "\n",
        "ans = addTwoNumbers(4,7)\n",
        "print(ans)"
      ],
      "metadata": {
        "colab": {
          "base_uri": "https://localhost:8080/"
        },
        "id": "e1Hocf_MAPvh",
        "outputId": "49a20916-baaa-4599-ee61-a89aba51e8e6"
      },
      "execution_count": 23,
      "outputs": [
        {
          "output_type": "stream",
          "name": "stdout",
          "text": [
            "11\n"
          ]
        }
      ]
    },
    {
      "cell_type": "code",
      "source": [
        "n = 5183\n",
        "\n",
        "while n>0:\n",
        "  r = n%10\n",
        "  print(r,end=\" \")\n",
        "  n//=10"
      ],
      "metadata": {
        "colab": {
          "base_uri": "https://localhost:8080/"
        },
        "id": "RGVUugc2ASWC",
        "outputId": "5a06084d-19fc-4050-fb57-2e282086cbfa"
      },
      "execution_count": 24,
      "outputs": [
        {
          "output_type": "stream",
          "name": "stdout",
          "text": [
            "3 8 1 5 "
          ]
        }
      ]
    },
    {
      "cell_type": "code",
      "source": [
        "n = 5183\n",
        "sum = 0\n",
        "\n",
        "while n>0:\n",
        "  r = n%10\n",
        "  sum+=r\n",
        "  n//=10\n",
        "\n",
        "print(sum)"
      ],
      "metadata": {
        "colab": {
          "base_uri": "https://localhost:8080/"
        },
        "id": "ULobcNdrAUQK",
        "outputId": "ebef8110-d931-4540-8d6c-5a0fa30df6c5"
      },
      "execution_count": 25,
      "outputs": [
        {
          "output_type": "stream",
          "name": "stdout",
          "text": [
            "17\n"
          ]
        }
      ]
    },
    {
      "cell_type": "code",
      "source": [
        "##### Practice problem--412(Leetcode)\n",
        "from typing import List\n",
        "\n",
        "def fizzBuzz(n: int) -> List[str]:\n",
        "    result = []  # Initialize an empty list to store the output\n",
        "\n",
        "    for i in range(1, n + 1):  # Loop through numbers from 1 to n\n",
        "        if i % 3 == 0 and i % 5 == 0:  # Check divisibility by both 3 and 5\n",
        "            result.append(\"FizzBuzz\")\n",
        "        elif i % 3 == 0:  # Check divisibility by 3\n",
        "            result.append(\"Fizz\")\n",
        "        elif i % 5 == 0:  # Check divisibility by 5\n",
        "            result.append(\"Buzz\")\n",
        "        else:  # If neither condition is met, append the number as a string\n",
        "            result.append(str(i))\n",
        "\n",
        "    return result  # Return the final list\n",
        "\n",
        "# Example usage\n",
        "print(fizzBuzz(15))  # Should print the FizzBuzz sequence up to 15\n"
      ],
      "metadata": {
        "colab": {
          "base_uri": "https://localhost:8080/"
        },
        "id": "qIfPFWSiAZ_x",
        "outputId": "5ba59738-ab6e-425f-dbb7-5725254eea15"
      },
      "execution_count": 26,
      "outputs": [
        {
          "output_type": "stream",
          "name": "stdout",
          "text": [
            "['1', '2', 'Fizz', '4', 'Buzz', 'Fizz', '7', '8', 'Fizz', 'Buzz', '11', 'Fizz', '13', '14', 'FizzBuzz']\n"
          ]
        }
      ]
    },
    {
      "cell_type": "code",
      "source": [
        "class Solution(object):\n",
        "    def fizzBuzz(self, n):\n",
        "        ans = []  # Initialize an empty list to store the output\n",
        "        for i in range(1, n + 1):  # Ensure we include 'n'\n",
        "            if i % 3 == 0 and i % 5 == 0:  # Divisible by both 3 and 5\n",
        "                ans.append(\"FizzBuzz\")\n",
        "            elif i % 3 == 0:  # Divisible by 3\n",
        "                ans.append(\"Fizz\")\n",
        "            elif i % 5 == 0:  # Divisible by 5\n",
        "                ans.append(\"Buzz\")\n",
        "            else:  # Append the number itself as a string\n",
        "                ans.append(str(i))\n",
        "        return ans  # Return the final list\n",
        "\n",
        "# Example usage\n",
        "sol = Solution()\n",
        "print(sol.fizzBuzz(15))  # Expected output: [\"1\", \"2\", \"Fizz\", \"4\", \"Buzz\", ..., \"FizzBuzz\"]\n"
      ],
      "metadata": {
        "colab": {
          "base_uri": "https://localhost:8080/"
        },
        "id": "HXELDd4EJxDr",
        "outputId": "0be90181-aae7-4473-e1eb-5b054440a103"
      },
      "execution_count": 27,
      "outputs": [
        {
          "output_type": "stream",
          "name": "stdout",
          "text": [
            "['1', '2', 'Fizz', '4', 'Buzz', 'Fizz', '7', '8', 'Fizz', 'Buzz', '11', 'Fizz', '13', '14', 'FizzBuzz']\n"
          ]
        }
      ]
    },
    {
      "cell_type": "code",
      "source": [
        "## LeetCode(1523)\n",
        "class Solution(object):\n",
        "    def countOdds(self, low, high):\n",
        "        \"\"\"\n",
        "        Function to count the number of odd numbers in the range [low, high].\n",
        "\n",
        "        Args:\n",
        "        low (int): Lower bound of the range.\n",
        "        high (int): Upper bound of the range.\n",
        "\n",
        "        Returns:\n",
        "        int: Count of odd numbers in the range.\n",
        "        \"\"\"\n",
        "        # Calculate the number of odd numbers in the range\n",
        "        return (high - low) // 2 + (low % 2 or high % 2)\n",
        "\n",
        "# Example usage\n",
        "solution = Solution()\n",
        "\n",
        "# Define the range\n",
        "low = 3\n",
        "high = 10\n",
        "\n",
        "# Call the function and print the result\n",
        "odd_count = solution.countOdds(low, high)\n",
        "print(f\"Number of odd numbers between {low} and {high}: {odd_count}\")\n"
      ],
      "metadata": {
        "colab": {
          "base_uri": "https://localhost:8080/"
        },
        "id": "fFmdE5avMl17",
        "outputId": "1a1fe2d6-6cc6-4343-f409-8eec84f3c6ef"
      },
      "execution_count": 28,
      "outputs": [
        {
          "output_type": "stream",
          "name": "stdout",
          "text": [
            "Number of odd numbers between 3 and 10: 4\n"
          ]
        }
      ]
    },
    {
      "cell_type": "code",
      "source": [
        "## Leetcode(1365)---time-O(n^2)--space--O(n)\n",
        "class Solution(object):\n",
        "    def smallerNumbersThanCurrent(self, nums):  # Defines the function that takes the list nums as input\n",
        "        ans = []  # Initializes an empty list to store the result\n",
        "\n",
        "        for i in nums:  # Iterates over each element in nums\n",
        "            c =  0  # Counter to track numbers smaller than the current element\n",
        "\n",
        "            for j in nums:  # Loops through nums again to compare each number\n",
        "                if j < i:  # Checks if the current number (j) is smaller than the current number (i)\n",
        "                    c += 1  # Increments counter if condition is true\n",
        "\n",
        "            ans.append(c)  # Appends the count of smaller numbers to the answer list\n",
        "\n",
        "        return ans  # Returns the final list containing counts for each element in nums\n",
        "# Example usage\n",
        "solution = Solution()\n",
        "nums = [8, 1, 2, 2, 3]\n",
        "result = solution.smallerNumbersThanCurrent(nums)\n",
        "print(result)  # Output: [4, 0, 1, 1, 3]"
      ],
      "metadata": {
        "colab": {
          "base_uri": "https://localhost:8080/"
        },
        "id": "TcpG6K1TPeSD",
        "outputId": "cef6c61c-c4f7-4b84-800b-db62d5bb6f83"
      },
      "execution_count": 29,
      "outputs": [
        {
          "output_type": "stream",
          "name": "stdout",
          "text": [
            "[4, 0, 1, 1, 3]\n"
          ]
        }
      ]
    },
    {
      "cell_type": "code",
      "source": [
        "class Solution(object):\n",
        "    def smallerNumbersThanCurrent(self, nums):\n",
        "        \"\"\"\n",
        "        Optimized approach using sorting and hashmap.\n",
        "        \"\"\"\n",
        "        # Sort nums and create a mapping of indices where each number first appears\n",
        "        sorted_nums = sorted(nums)  # Sorts the array (O(n log n))\n",
        "\n",
        "        # Dictionary to store the first occurrence index of each number in sorted_nums\n",
        "        num_rank = {}\n",
        "        for index, num in enumerate(sorted_nums):\n",
        "            if num not in num_rank:  # Ensures each number gets stored only once\n",
        "                num_rank[num] = index\n",
        "\n",
        "        # Generate the result using the dictionary mapping\n",
        "        return [num_rank[num] for num in nums]  # O(n) lookup\n",
        "\n",
        "# Example usage\n",
        "solution = Solution()\n",
        "nums = [8, 1, 2, 2, 3]\n",
        "result = solution.smallerNumbersThanCurrent(nums)\n",
        "print(result)  # Output: [4, 0, 1, 1, 3]\n"
      ],
      "metadata": {
        "colab": {
          "base_uri": "https://localhost:8080/"
        },
        "id": "6jJcgmtoZKmY",
        "outputId": "5713f51f-d273-40ea-99e8-5f32ebe88650"
      },
      "execution_count": 30,
      "outputs": [
        {
          "output_type": "stream",
          "name": "stdout",
          "text": [
            "[4, 0, 1, 1, 3]\n"
          ]
        }
      ]
    },
    {
      "cell_type": "code",
      "source": [
        "## Leetcode--2520\n",
        "## time complexity-- O(log num)\n",
        "## space complexity -O(1)\n",
        "\n",
        "class Solution(object):\n",
        "    def countDigits(self, num):\n",
        "        \"\"\"\n",
        "        Function to count the number of digits in 'num' that evenly divide 'num'.\n",
        "\n",
        "        Args:\n",
        "        num (int): The input number.\n",
        "\n",
        "        Returns:\n",
        "        int: Count of digits that divide 'num' without remainder.\n",
        "        \"\"\"\n",
        "        count = 0  # Initialize counter for valid digits\n",
        "\n",
        "        temp = num  # Store original number for iteration\n",
        "\n",
        "        while temp > 0:  # Loop through each digit in 'num'\n",
        "            digit = temp % 10  # Extract the last digit\n",
        "\n",
        "            if num % digit == 0:  # Check if 'num' is divisible by 'digit'\n",
        "                count += 1  # Increment counter if condition is met\n",
        "\n",
        "            temp //= 10  # Remove the last digit for next iteration\n",
        "\n",
        "        return count  # Return the final count\n",
        "\n",
        "# Example usage\n",
        "solution = Solution()\n",
        "num = 1248\n",
        "result = solution.countDigits(num)\n",
        "print(f\"Number of digits in {num} that divide {num}: {result}\")\n"
      ],
      "metadata": {
        "colab": {
          "base_uri": "https://localhost:8080/"
        },
        "id": "GHcosGK1ZPro",
        "outputId": "00dc56ff-1b2a-4538-fad5-7574b1b912e8"
      },
      "execution_count": 31,
      "outputs": [
        {
          "output_type": "stream",
          "name": "stdout",
          "text": [
            "Number of digits in 1248 that divide 1248: 4\n"
          ]
        }
      ]
    },
    {
      "cell_type": "code",
      "source": [
        "## LeetCode(9)\n",
        "def isPalindrome(x: int) -> bool:\n",
        "    # Negative numbers are not palindromes\n",
        "    if x < 0:\n",
        "        return False\n",
        "\n",
        "    # Convert the number to a string\n",
        "    str_x = str(x)\n",
        "\n",
        "    # Check if the string reads the same forward and backward\n",
        "    return str_x == str_x[::-1]\n",
        "\n",
        "# Time Complexity: O(N), where N is the number of digits in x.\n",
        "#                 Converting the integer to a string takes O(N),\n",
        "#                 and checking equality between two strings takes O(N).\n",
        "\n",
        "# Space Complexity: O(N), since we create a new string str_x to store the number.\n",
        "#                   In the worst case, the storage required is proportional to the number of digits in x.\n",
        "\n",
        "x = 121\n",
        "print(isPalindrome(x))  # Output: True\n"
      ],
      "metadata": {
        "colab": {
          "base_uri": "https://localhost:8080/"
        },
        "id": "ZlgscDgPZ33w",
        "outputId": "a731f84b-d010-49fc-e0ae-13b585e33149"
      },
      "execution_count": 33,
      "outputs": [
        {
          "output_type": "stream",
          "name": "stdout",
          "text": [
            "True\n"
          ]
        }
      ]
    },
    {
      "cell_type": "code",
      "source": [
        "def isPalindrome(x: int) -> bool:\n",
        "    # Negative numbers and numbers ending with 0 (except 0 itself) cannot be palindromes\n",
        "    if x < 0 or (x % 10 == 0 and x != 0):\n",
        "        return False\n",
        "\n",
        "    reversed_half = 0\n",
        "    while x > reversed_half:\n",
        "        reversed_half = reversed_half * 10 + x % 10\n",
        "        x //= 10\n",
        "\n",
        "    # The number is a palindrome if it's equal to the reversed half,\n",
        "    # or if x is equal to reversed_half // 10 (handles odd-length numbers)\n",
        "    return x == reversed_half or x == reversed_half // 10\n",
        "\n",
        "# Time Complexity: O(log N), where N is the number itself.\n",
        "#                 The number of iterations is proportional to the number of digits, which is log10(N).\n",
        "\n",
        "# Space Complexity: O(1), since we only use a few integer variables.\n",
        "\n",
        "x = 121\n",
        "print(isPalindrome(x))  # Output: True\n",
        "\n"
      ],
      "metadata": {
        "colab": {
          "base_uri": "https://localhost:8080/"
        },
        "id": "ep0mdwrLd5iw",
        "outputId": "c3987af1-c302-4ed3-c504-4fdc93baad61"
      },
      "execution_count": 34,
      "outputs": [
        {
          "output_type": "stream",
          "name": "stdout",
          "text": [
            "True\n"
          ]
        }
      ]
    },
    {
      "cell_type": "code",
      "source": [
        "class Solution(object):\n",
        "    def isPalindrome(self, x):\n",
        "        temp = x\n",
        "        rev = 0\n",
        "        while temp>0:\n",
        "            r = temp %10\n",
        "            temp//=10\n",
        "            rev = (rev * 10 + r)\n",
        "        if rev == x:\n",
        "            return True\n",
        "        else:\n",
        "            return False\n",
        "\n",
        "cl = Solution()\n",
        "print(cl.isPalindrome(121))"
      ],
      "metadata": {
        "colab": {
          "base_uri": "https://localhost:8080/"
        },
        "id": "lb3Ehdotef-Y",
        "outputId": "898ce424-e887-4c9c-e09e-07e2897c04ff"
      },
      "execution_count": 36,
      "outputs": [
        {
          "output_type": "stream",
          "name": "stdout",
          "text": [
            "True\n"
          ]
        }
      ]
    },
    {
      "cell_type": "code",
      "source": [
        "### Leetcode(1281)\n",
        "class Solution(object):\n",
        "    def subtractProductAndSum(self, n):\n",
        "        \"\"\"\n",
        "        Given an integer n, this function computes the difference between\n",
        "        the product of its digits and the sum of its digits.\n",
        "\n",
        "        Time Complexity: O(d), where d is the number of digits in n.\n",
        "        Space Complexity: O(1), as we only use a few integer variables.\n",
        "        \"\"\"\n",
        "\n",
        "        temp = n  # Copy the input number to preserve its original value\n",
        "        add = 0  # Initialize sum accumulator\n",
        "        product = 1  # Initialize product accumulator\n",
        "\n",
        "        while temp > 0:  # Loop until all digits are processed\n",
        "            r = temp % 10  # Extract the last digit\n",
        "            temp //= 10  # Remove the last digit from temp\n",
        "            add += r  # Add the digit to the sum\n",
        "            product *= r  # Multiply the digit to the product\n",
        "\n",
        "        return product - add  # Return the difference of product and sum\n",
        "\n",
        "# Example usage\n",
        "solution = Solution()\n",
        "n = 234\n",
        "result = solution.subtractProductAndSum(n)\n",
        "print(f\"Input: {n}, Output: {result}\")  # Expected Output: 15\n"
      ],
      "metadata": {
        "colab": {
          "base_uri": "https://localhost:8080/"
        },
        "id": "VuoTk1DyhRXR",
        "outputId": "40355b98-136c-4b44-d45a-10e652452b74"
      },
      "execution_count": 37,
      "outputs": [
        {
          "output_type": "stream",
          "name": "stdout",
          "text": [
            "Input: 234, Output: 15\n"
          ]
        }
      ]
    },
    {
      "cell_type": "code",
      "source": [
        "## Leetcode(1431)------\n",
        "class Solution(object):\n",
        "    def kidsWithCandies(self, candies, extraCandies):\n",
        "        \"\"\"\n",
        "        Given a list of candies each kid has and an extra amount of candies,\n",
        "        this function determines if each kid can have the greatest number of candies\n",
        "        after receiving the extra candies.\n",
        "\n",
        "        Time Complexity: O(n), where n is the number of kids (length of candies list).\n",
        "        Space Complexity: O(n), since we store a boolean list of length n.\n",
        "        \"\"\"\n",
        "\n",
        "        maxcandies = max(candies)  # Find the maximum number of candies any kid currently has\n",
        "\n",
        "        # Create a list where each element is a boolean indicating whether the kid\n",
        "        # would have at least as many candies as the current maximum if given extraCandies\n",
        "        ans = [(i + extraCandies) >= maxcandies for i in candies]\n",
        "\n",
        "        return ans  # Return the list of boolean values\n",
        "\n",
        "# Example usage\n",
        "solution = Solution()\n",
        "candies = [2, 3, 5, 1, 3]\n",
        "extraCandies = 3\n",
        "result = solution.kidsWithCandies(candies, extraCandies)\n",
        "print(f\"Input: candies={candies}, extraCandies={extraCandies}, Output: {result}\")\n",
        "\n"
      ],
      "metadata": {
        "colab": {
          "base_uri": "https://localhost:8080/"
        },
        "id": "CZJuzRkwjSuX",
        "outputId": "c0690873-d6e2-41e2-fe42-08d76419e5ff"
      },
      "execution_count": 38,
      "outputs": [
        {
          "output_type": "stream",
          "name": "stdout",
          "text": [
            "Input: candies=[2, 3, 5, 1, 3], extraCandies=3, Output: [True, True, True, False, True]\n"
          ]
        }
      ]
    },
    {
      "cell_type": "code",
      "source": [
        "class Solution(object):\n",
        "    def kidsWithCandies(self, candies, extraCandies):\n",
        "        \"\"\"\n",
        "        Given a list of candies each kid has and an extra amount of candies,\n",
        "        this function determines if each kid can have the greatest number of candies\n",
        "        after receiving the extra candies.\n",
        "\n",
        "        Time Complexity: O(n), where n is the number of kids (length of candies list).\n",
        "        Space Complexity: O(n), since we store a boolean list of length n.\n",
        "        \"\"\"\n",
        "\n",
        "        maxcandies = max(candies)  # Find the maximum number of candies any kid currently has\n",
        "        ans = []  # Initialize an empty list to store results\n",
        "\n",
        "        for i in candies:  # Iterate through each kid's candies\n",
        "            if (i + extraCandies) >= maxcandies:  # Check if the kid can have max candies after extra\n",
        "                ans.append(True)  # Append True if they can\n",
        "            else:\n",
        "                ans.append(False)  # Append False otherwise\n",
        "\n",
        "        return ans  # Return the list of boolean values\n",
        "\n",
        "# Example usage\n",
        "solution = Solution()\n",
        "candies = [2, 3, 5, 1, 3]\n",
        "extraCandies = 3\n",
        "result = solution.kidsWithCandies(candies, extraCandies)\n",
        "print(f\"Input: candies={candies}, extraCandies={extraCandies}, Output: {result}\")\n"
      ],
      "metadata": {
        "colab": {
          "base_uri": "https://localhost:8080/"
        },
        "id": "rHj3OeZalGdO",
        "outputId": "193f9bd5-f751-4263-fbbd-fb07f4a47be7"
      },
      "execution_count": 39,
      "outputs": [
        {
          "output_type": "stream",
          "name": "stdout",
          "text": [
            "Input: candies=[2, 3, 5, 1, 3], extraCandies=3, Output: [True, True, True, False, True]\n"
          ]
        }
      ]
    },
    {
      "cell_type": "code",
      "source": [],
      "metadata": {
        "id": "I_F040qLlzoe"
      },
      "execution_count": null,
      "outputs": []
    }
  ]
}